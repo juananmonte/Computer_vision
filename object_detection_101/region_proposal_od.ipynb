{
 "cells": [
  {
   "cell_type": "markdown",
   "metadata": {},
   "source": [
    "# Object detection using region proposal (selective search)"
   ]
  },
  {
   "cell_type": "markdown",
   "metadata": {},
   "source": [
    "Region proposal algorithms tend to be far more efficient than the traditional object detection techniques of image pyramids and sliding windows because:\n",
    "\n",
    "- Fewer individual ROIs are examined\n",
    "\n",
    "- It is faster than exhaustively examining every scale/location of the input image\n",
    "\n",
    "- The amount of accuracy lost is minimal, if any"
   ]
  },
  {
   "cell_type": "code",
   "execution_count": 1,
   "metadata": {},
   "outputs": [],
   "source": [
    "#--Tensorflow\n",
    "from tensorflow.keras.applications import ResNet50, imagenet_utils\n",
    "from tensorflow.keras.applications.resnet50 import preprocess_input\n",
    "from tensorflow.keras.preprocessing.image import img_to_array\n",
    "\n",
    "#--Others\n",
    "from imutils.object_detection import non_max_suppression\n",
    "import imutils\n",
    "import numpy as np\n",
    "import cv2"
   ]
  },
  {
   "cell_type": "markdown",
   "metadata": {},
   "source": [
    "### Define the selective search function"
   ]
  },
  {
   "cell_type": "code",
   "execution_count": 2,
   "metadata": {},
   "outputs": [],
   "source": [
    "def selective_search(image, method=\"fast\"):\n",
    "    ss = cv2.ximgproc.segmentation.createSelectiveSearchSegmentation()\n",
    "    ss.setBaseImage(image)\n",
    "\n",
    "    #Check to see which method we are using. Either \"fast\" or \"quality\"\n",
    "    if method == \"fast\":\n",
    "        ss.switchToSelectiveSearchFast()\n",
    "    \n",
    "    else:\n",
    "        ss.switchToSelectiveSearchQuality()\n",
    "    \n",
    "    #Run selective search on the image\n",
    "    rects = ss.process()\n",
    "\n",
    "    return rects"
   ]
  },
  {
   "cell_type": "code",
   "execution_count": 3,
   "metadata": {},
   "outputs": [],
   "source": [
    "#Initialize the filters \n",
    "labelFilters = None\n",
    "\n",
    "#If the varaible is not empty, break it into a list\n",
    "if labelFilters is not None:\n",
    "    labelFilters = labelFilters.lower().split(\"\")"
   ]
  },
  {
   "cell_type": "markdown",
   "metadata": {},
   "source": [
    "### Load the model"
   ]
  },
  {
   "cell_type": "code",
   "execution_count": 4,
   "metadata": {},
   "outputs": [],
   "source": [
    "model = ResNet50(weights=\"imagenet\")"
   ]
  },
  {
   "cell_type": "code",
   "execution_count": 5,
   "metadata": {},
   "outputs": [],
   "source": [
    "#Load the input image\n",
    "image = cv2.imread('/media/juan/juan1/pyimage_univ/object_detect_201/region-proposal-object-detection/beagle.png')\n",
    "(H, W) = image.shape[:2]"
   ]
  },
  {
   "cell_type": "code",
   "execution_count": 6,
   "metadata": {},
   "outputs": [],
   "source": [
    "#Run the selective search\n",
    "recs = selective_search(image, \"fast\")"
   ]
  },
  {
   "cell_type": "code",
   "execution_count": 7,
   "metadata": {},
   "outputs": [],
   "source": [
    "#Initialize two lists in order to store the coordinates and ROIs\n",
    "rois, boxes = [], []"
   ]
  },
  {
   "cell_type": "code",
   "execution_count": 8,
   "metadata": {},
   "outputs": [],
   "source": [
    "#loop through the results from the selective search\n",
    "for (x, y, w, h) in recs:\n",
    "    #Filter small objects that can be noise.\n",
    "    #For this, check if the width and height of the region is less than 10% of \n",
    "    #the image width or height, ignore it\n",
    "\n",
    "    if w / float(W) < 0.1 or h / float(H)<0.1:\n",
    "        continue\n",
    "\n",
    "    #Extract the ROI from the input image. Change to RGB and resize\n",
    "    roi = image[y:y+h, x:x+w]\n",
    "    roi = cv2.cvtColor(roi, cv2.COLOR_BGR2RGB)\n",
    "    roi = cv2.resize(roi, (224,224))\n",
    "\n",
    "    #Further process the roi image so it can be fed to the resnet50 model\n",
    "    roi = img_to_array(roi)\n",
    "    roi = preprocess_input(roi)\n",
    "\n",
    "    #Update proposals and bounding boxes list\n",
    "    rois.append(roi)\n",
    "    boxes.append((x, y, w, h))"
   ]
  },
  {
   "cell_type": "code",
   "execution_count": 9,
   "metadata": {},
   "outputs": [],
   "source": [
    "#Convert proposals to numpy arrays in order to make them compatible to the model\n",
    "proposals = np.array(rois, dtype=\"float32\")"
   ]
  },
  {
   "cell_type": "markdown",
   "metadata": {},
   "source": [
    "### Make predictions"
   ]
  },
  {
   "cell_type": "code",
   "execution_count": 10,
   "metadata": {},
   "outputs": [
    {
     "name": "stdout",
     "output_type": "stream",
     "text": [
      "17/17 [==============================] - 5s 168ms/step\n"
     ]
    }
   ],
   "source": [
    "preds = model.predict(proposals)\n",
    "preds = imagenet_utils.decode_predictions(preds, top=1)"
   ]
  },
  {
   "cell_type": "markdown",
   "metadata": {},
   "source": [
    "### Get the predictions and assign them a label"
   ]
  },
  {
   "cell_type": "code",
   "execution_count": 11,
   "metadata": {},
   "outputs": [],
   "source": [
    "#Initialize an empty label dictionary\n",
    "labels = {}"
   ]
  },
  {
   "cell_type": "code",
   "execution_count": 12,
   "metadata": {},
   "outputs": [],
   "source": [
    "for (i,p) in enumerate(preds):\n",
    "    (ImagenetID, label, prob) = p[0]\n",
    "\n",
    "    #Only if the label filters are not empty and the label does not exist\n",
    "    if labelFilters is not None and label not in labelFilters:\n",
    "        continue\n",
    "\n",
    "    if prob >= 0.95:\n",
    "        #grab the bounding box associated with the prediction and covert coordinates\n",
    "        (x, y, w, h) = boxes[i]\n",
    "        box = (x, y, x+w, y+h)\n",
    "\n",
    "        #grab the lust of predictions for the label and add te bounding box\n",
    "        L = labels.get(label, [])\n",
    "        L.append((box, prob))\n",
    "        labels[label] = L"
   ]
  },
  {
   "cell_type": "code",
   "execution_count": 16,
   "metadata": {},
   "outputs": [],
   "source": [
    "#loop thorugh the labels for each of the detected objects in the image\n",
    "for label in labels.keys():\n",
    "    #clone the image so to draw on it\n",
    "    clone = image.copy()\n",
    "\n",
    "    for (box, prob) in labels[label]:\n",
    "        #draw bounding box\n",
    "        (x, y, w, h) =box\n",
    "        cv2.rectangle(clone, (x,y), (w, h), (0,255,0), 2)\n",
    "\n",
    "    #Show the image\n",
    "    cv2.imshow('result before nms', clone)\n",
    "    cv2.waitKey(0)\n",
    "    cv2.destroyAllWindows()\n",
    "\n",
    "    clone2 = image.copy()\n",
    "\n",
    "    #Extract the bounding boxes and apply nms\n",
    "    boxes = np.array([p[0] for p in labels[label]])\n",
    "    proba = np.array([p[1] for p in labels[label]])\n",
    "    boxes = non_max_suppression(boxes, proba)\n",
    "\n",
    "    #loop over all bounding boxes that were kept\n",
    "    for (startX, startY, endX, endY) in boxes:\n",
    "        #Draw them\n",
    "        cv2.rectangle(clone2, (startX, startY), (endX, endY), (0,255,0), 2)\n",
    "        #Arrange the position of the text so is not overlapped with the box\n",
    "        y = startY -10 if startY-10 > 10 else startY+10\n",
    "        cv2.putText(clone2, label, (startX, y), cv2.FONT_HERSHEY_SIMPLEX, 0.45,\n",
    "        (0,255,0), 2)\n",
    "\n",
    "    cv2.imshow(\"after nms\", clone2)\n",
    "    cv2.waitKey(0)\n",
    "cv2.destroyAllWindows() "
   ]
  },
  {
   "cell_type": "code",
   "execution_count": null,
   "metadata": {},
   "outputs": [],
   "source": []
  },
  {
   "cell_type": "code",
   "execution_count": null,
   "metadata": {},
   "outputs": [],
   "source": []
  },
  {
   "cell_type": "code",
   "execution_count": null,
   "metadata": {},
   "outputs": [],
   "source": []
  }
 ],
 "metadata": {
  "kernelspec": {
   "display_name": "Python 3.9.12 ('gpu-dl')",
   "language": "python",
   "name": "python3"
  },
  "language_info": {
   "codemirror_mode": {
    "name": "ipython",
    "version": 3
   },
   "file_extension": ".py",
   "mimetype": "text/x-python",
   "name": "python",
   "nbconvert_exporter": "python",
   "pygments_lexer": "ipython3",
   "version": "3.9.12"
  },
  "orig_nbformat": 4,
  "vscode": {
   "interpreter": {
    "hash": "da695c087d6368c9b262a08c2ebf368542a47f83b2881693eefdf5ebab9d0ecb"
   }
  }
 },
 "nbformat": 4,
 "nbformat_minor": 2
}
