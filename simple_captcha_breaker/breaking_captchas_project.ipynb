{
 "cells": [
  {
   "cell_type": "code",
   "execution_count": 10,
   "metadata": {},
   "outputs": [],
   "source": [
    "\n",
    "#from break_capt import minivggnet\n",
    "#---sklearn\n",
    "from sklearn.preprocessing import LabelBinarizer\n",
    "from sklearn.model_selection import train_test_split\n",
    "from sklearn.metrics import classification_report\n",
    "#---tensorflow\n",
    "from tensorflow.keras.preprocessing.image import img_to_array\n",
    "from tensorflow.keras.models import load_model\n",
    "from tensorflow.keras.optimizers import SGD\n",
    "from imutils import contours\n",
    "from imutils import paths\n",
    "#---others\n",
    "import matplotlib.pyplot as plt\n",
    "import numpy as np\n",
    "import imutils\n",
    "import argparse\n",
    "import cv2\n",
    "import os\n",
    "import seaborn as sns"
   ]
  },
  {
   "cell_type": "markdown",
   "metadata": {},
   "source": [
    "### 1. Get the data"
   ]
  },
  {
   "cell_type": "code",
   "execution_count": 3,
   "metadata": {},
   "outputs": [
    {
     "data": {
      "text/plain": [
       "[]"
      ]
     },
     "execution_count": 3,
     "metadata": {},
     "output_type": "execute_result"
    }
   ],
   "source": [
    "#the dataset can be downaloaded from \"https://www.e-zpassny.com/vector/jcaptcha.do\"\n",
    "imagePaths = list(paths.list_images(\"...\\downloads\"))"
   ]
  },
  {
   "cell_type": "markdown",
   "metadata": {},
   "source": [
    "### 2. Extract the numbers from the images"
   ]
  },
  {
   "cell_type": "code",
   "execution_count": 5,
   "metadata": {},
   "outputs": [
    {
     "data": {
      "text/plain": [
       "[]"
      ]
     },
     "execution_count": 5,
     "metadata": {},
     "output_type": "execute_result"
    }
   ],
   "source": [
    "counts = {}\n",
    "#preprocess all the images\n",
    "for (i, imagePath) in enumerate(imagePaths):\n",
    "    try:\n",
    "        image = cv2.imread(imagePaths)\n",
    "        gray = cv2.cvtColor(image, cv2.COLOR_BGR2GRAY)\n",
    "        gray = cv2.copyMakeBorder(gray, 8, 8, 8, 8, cv2.BORDER_REPLICATE) #pad the images so, when extracting the numbers, the border of the image is also kept\n",
    "        thresh = cv2.threshold(gray, 0, 255, cv2.THRESH_BINARY_INV |cv2.THRESH_OTSU)[1] #combine thresholds to obtaing the shape and then soften the noise\n",
    "        cnts = cv2.findContours(thresh.copy(), cv2.RETR_EXTERNAL, cv2.CHAIN_APPROX_SIMPLE)\n",
    "        cnts = imutils.grab_contours(cnts)\n",
    "        cnts = sorted(cnts, key=cv2.contourArea,reverse=True)[:4]\n",
    "    for c in cnts:\n",
    "        (x,y,w,h) = cv2.boundingRect(c) #for each number, draw a bounding box and extract its coordinates\n",
    "        roi= gray[y-5 : y+h+5 , x-5 : x+w+5 ] #define the roi by adding some extra space to the image\n",
    "        #Assign labels to the numbers\n",
    "        cv2.imshow(\"ROI\", imutils.resize(roi, width=28))\n",
    "        key = cv2.waitKey(0) #assign a number tothe hey variable according to the number pressed with the keyboard\n",
    "        if key == ord(\"`\"):# if key ` is presed, ignore\n",
    "            print(\"[INFO] ignoring character\")\n",
    "            continue\n",
    "        key = chr(key).upper()\n",
    "        dirPath = os.path.sep.join([\"...\\annotations\", key])\n",
    "        #if the path does not exist, create it\n",
    "        if not os.path.exists(dirPath):\n",
    "            os.makedirs(dirPath)\n",
    "        count = counts.get(key, 1)\n",
    "        print(count)\n",
    "        p = os.path.sep.join([dirPath, \"{}.png\".format(str(count).zfill(6))]) #add six 0 to the name of the image by default and fill them with the numbers\n",
    "        cv2.imwrite(p, roi) #save the image\n",
    "        counts[key] = count + 1 #up the count so to not replace the already saved images\n",
    "    cv2.destroyAllWindows() #so it doesn't get stuck\n",
    "\n",
    "    # except KeyboardInterrupt:\n",
    "    #     print(\"[INFO] manually leaving script\")\n",
    "    #     break\n",
    "\n",
    "\t# # an unknown error has occurred for this particular image\n",
    "\t# except:\n",
    "\t# \tprint(\"[INFO] skipping image...\")"
   ]
  },
  {
   "cell_type": "markdown",
   "metadata": {},
   "source": [
    "### 3. Preprocessing function"
   ]
  },
  {
   "cell_type": "code",
   "execution_count": 3,
   "metadata": {},
   "outputs": [],
   "source": [
    "def preprocess(image, width, height):\n",
    "\t(h, w) = image.shape[:2]\n",
    "\tif w > h: #in case the width is larger than the heigh. So to avoid deformation in size\n",
    "\t\timage = imutils.resize(image, width=width)\n",
    "\telse:\n",
    "\t\timage = imutils.resize(image, height=height)\n",
    "\n",
    "\tpadW = int((width - image.shape[1]) / 2.0) #add some extrapadding on both sides\n",
    "\tpadH = int((height - image.shape[0]) / 2.0)\n",
    "\n",
    "\timage = cv2.copyMakeBorder(image, padH, padH, padW, padW, cv2.BORDER_REPLICATE)\n",
    "\timage = cv2.resize(image, (width, height)) #resize one more time just to avoid any issues\n",
    "    \n",
    "\treturn image"
   ]
  },
  {
   "cell_type": "code",
   "execution_count": 4,
   "metadata": {},
   "outputs": [],
   "source": [
    "data = []\n",
    "labels = []"
   ]
  },
  {
   "cell_type": "code",
   "execution_count": 5,
   "metadata": {},
   "outputs": [],
   "source": [
    "#extarct the labels\n",
    "for imagePath in paths.list_images(\"...\\annotations\"):\n",
    "    image = cv2.imread(imagePath)\n",
    "    image = cv2.cvtColor(image, cv2.COLOR_BGR2GRAY)\n",
    "    image = preprocess(image, 28, 28)\n",
    "    data.append(image)\n",
    "    label = imagePath.split(os.path.sep)[-2]\n",
    "    labels.append(label)"
   ]
  },
  {
   "cell_type": "markdown",
   "metadata": {},
   "source": [
    "### 4. Visualize the data"
   ]
  },
  {
   "cell_type": "code",
   "execution_count": 22,
   "metadata": {},
   "outputs": [
    {
     "data": {
      "text/plain": [
       "<AxesSubplot:>"
      ]
     },
     "execution_count": 22,
     "metadata": {},
     "output_type": "execute_result"
    },
    {
     "data": {
      "image/png": "[encoded data removed]",
      "text/plain": [
       "<Figure size 432x288 with 1 Axes>"
      ]
     },
     "metadata": {
      "needs_background": "light"
     },
     "output_type": "display_data"
    }
   ],
   "source": [
    "sns.barplot(y=labels, x = [labels.count(i) for i in labels])"
   ]
  },
  {
   "cell_type": "markdown",
   "metadata": {},
   "source": [
    "### 5. Train the model"
   ]
  },
  {
   "cell_type": "code",
   "execution_count": null,
   "metadata": {},
   "outputs": [],
   "source": [
    "#Scale the raw pixels to range [0,1] since NN require this range\n",
    "data = np.array(data, dtype=\"float\")/255.0\n",
    "labels = np.array(labels)"
   ]
  },
  {
   "cell_type": "code",
   "execution_count": null,
   "metadata": {},
   "outputs": [],
   "source": [
    "#separate data to train and test\n",
    "(trainX, testX, trainY, testY) = train_test_split(data, labels, test_size=0.25, random_state=42)"
   ]
  },
  {
   "cell_type": "code",
   "execution_count": null,
   "metadata": {},
   "outputs": [],
   "source": [
    "#Convert the labels to one hot encodings\n",
    "trainY = LabelBinarizer.fit_transform(trainY)\n",
    "testY = LabelBinarizer.transform(testY)"
   ]
  },
  {
   "cell_type": "code",
   "execution_count": null,
   "metadata": {},
   "outputs": [],
   "source": [
    "#inititalize the model\n",
    "model = minivggnet.build(width=28, height=28, depth=1, classes=9)\n",
    "opt = SGD(lr=0.01)\n",
    "model.compile(loss=\"categorical_crossentropy\", optimizer=opt, metrics=[\"accuracy\"])"
   ]
  },
  {
   "cell_type": "code",
   "execution_count": null,
   "metadata": {},
   "outputs": [],
   "source": [
    "#train model\n",
    "H = model.fit(trainX, trainY, validation_data=(testX, testY), batch_size=32, epochs= 15, verbose=1)"
   ]
  },
  {
   "cell_type": "code",
   "execution_count": null,
   "metadata": {},
   "outputs": [],
   "source": [
    "#get the predictions\n",
    "predictions = model.predict(testX, batch_size=32)\n",
    "print(classification_report(testY.argmax(axis=1), predictions.argmax(axis=1), target_names=lb.classes_))"
   ]
  },
  {
   "cell_type": "code",
   "execution_count": null,
   "metadata": {},
   "outputs": [],
   "source": [
    "# Save the model\n",
    "model.save(\"...\\best_capt.hdf5\")"
   ]
  },
  {
   "cell_type": "code",
   "execution_count": null,
   "metadata": {},
   "outputs": [],
   "source": [
    "plt.figure()\n",
    "plt.plot(np.arange(0,15), H.hisstory[\"loss\"], labels=\"train_loss\")\n",
    "plt.plot(np.arange(0,15), H.history[\"val_loss\"], label = \"val_loss\")\n",
    "plt.plot(np.arange(0,15), H.history[\"accuracy\"], label=\"accuracy\")\n",
    "plt.plot(np.arange(0, 15), H.history[\"val_accuracy\"], label=\"val_acc\")\n",
    "plt.title(\"Training Loss and Accuracy\")\n",
    "plt.xlabel(\"Epoch #\")\n",
    "plt.ylabel(\"Loss/Accuracy\")\n",
    "plt.legend()\n",
    "plt.show()"
   ]
  }
 ],
 "metadata": {
  "kernelspec": {
   "display_name": "Python 3.9.0 ('gpu-dl')",
   "language": "python",
   "name": "python3"
  },
  "language_info": {
   "codemirror_mode": {
    "name": "ipython",
    "version": 3
   },
   "file_extension": ".py",
   "mimetype": "text/x-python",
   "name": "python",
   "nbconvert_exporter": "python",
   "pygments_lexer": "ipython3",
   "version": "3.9.0"
  },
  "orig_nbformat": 4,
  "vscode": {
   "interpreter": {
    "hash": "244139a3b14db007857c14f2a9d5e3b23ed735eeb2f38a787fb45edaaccb434b"
   }
  }
 },
 "nbformat": 4,
 "nbformat_minor": 2
}
