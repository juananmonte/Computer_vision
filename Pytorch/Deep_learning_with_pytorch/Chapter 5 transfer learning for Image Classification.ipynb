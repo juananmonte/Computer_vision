{
 "cells": [
  {
   "cell_type": "code",
   "execution_count": 1,
   "id": "89439324",
   "metadata": {
    "ExecuteTime": {
     "end_time": "2021-09-13T13:06:03.048824Z",
     "start_time": "2021-09-13T13:06:01.376827Z"
    }
   },
   "outputs": [],
   "source": [
    "import torchvision\n",
    "import torch.nn as nn\n",
    "import torch\n",
    "import torch.nn.functional as F\n",
    "from torchvision import transforms,models,datasets\n",
    "from torchsummary import summary\n",
    "device = 'cuda' if torch.cuda.is_available() else 'cpu'"
   ]
  },
  {
   "cell_type": "code",
   "execution_count": 2,
   "id": "5266c680",
   "metadata": {
    "ExecuteTime": {
     "end_time": "2021-09-13T13:06:06.140885Z",
     "start_time": "2021-09-13T13:06:03.051834Z"
    }
   },
   "outputs": [],
   "source": [
    "model = models.vgg16(pretrained=True).to(device)"
   ]
  },
  {
   "cell_type": "code",
   "execution_count": 3,
   "id": "46b061d1",
   "metadata": {
    "ExecuteTime": {
     "end_time": "2021-09-13T13:06:07.149822Z",
     "start_time": "2021-09-13T13:06:06.143820Z"
    }
   },
   "outputs": [
    {
     "name": "stderr",
     "output_type": "stream",
     "text": [
      "C:\\Users\\MSI\\anaconda3\\envs\\tf-latest\\lib\\site-packages\\torch\\nn\\functional.py:718: UserWarning: Named tensors and all their associated APIs are an experimental feature and subject to change. Please do not use them for anything important until they are released as stable. (Triggered internally at  ..\\c10/core/TensorImpl.h:1156.)\n",
      "  return torch.max_pool2d(input, kernel_size, stride, padding, dilation, ceil_mode)\n"
     ]
    },
    {
     "name": "stdout",
     "output_type": "stream",
     "text": [
      "==========================================================================================\n",
      "Layer (type:depth-idx)                   Output Shape              Param #\n",
      "==========================================================================================\n",
      "├─Sequential: 1-1                        [-1, 512, 7, 7]           --\n",
      "|    └─Conv2d: 2-1                       [-1, 64, 224, 224]        1,792\n",
      "|    └─ReLU: 2-2                         [-1, 64, 224, 224]        --\n",
      "|    └─Conv2d: 2-3                       [-1, 64, 224, 224]        36,928\n",
      "|    └─ReLU: 2-4                         [-1, 64, 224, 224]        --\n",
      "|    └─MaxPool2d: 2-5                    [-1, 64, 112, 112]        --\n",
      "|    └─Conv2d: 2-6                       [-1, 128, 112, 112]       73,856\n",
      "|    └─ReLU: 2-7                         [-1, 128, 112, 112]       --\n",
      "|    └─Conv2d: 2-8                       [-1, 128, 112, 112]       147,584\n",
      "|    └─ReLU: 2-9                         [-1, 128, 112, 112]       --\n",
      "|    └─MaxPool2d: 2-10                   [-1, 128, 56, 56]         --\n",
      "|    └─Conv2d: 2-11                      [-1, 256, 56, 56]         295,168\n",
      "|    └─ReLU: 2-12                        [-1, 256, 56, 56]         --\n",
      "|    └─Conv2d: 2-13                      [-1, 256, 56, 56]         590,080\n",
      "|    └─ReLU: 2-14                        [-1, 256, 56, 56]         --\n",
      "|    └─Conv2d: 2-15                      [-1, 256, 56, 56]         590,080\n",
      "|    └─ReLU: 2-16                        [-1, 256, 56, 56]         --\n",
      "|    └─MaxPool2d: 2-17                   [-1, 256, 28, 28]         --\n",
      "|    └─Conv2d: 2-18                      [-1, 512, 28, 28]         1,180,160\n",
      "|    └─ReLU: 2-19                        [-1, 512, 28, 28]         --\n",
      "|    └─Conv2d: 2-20                      [-1, 512, 28, 28]         2,359,808\n",
      "|    └─ReLU: 2-21                        [-1, 512, 28, 28]         --\n",
      "|    └─Conv2d: 2-22                      [-1, 512, 28, 28]         2,359,808\n",
      "|    └─ReLU: 2-23                        [-1, 512, 28, 28]         --\n",
      "|    └─MaxPool2d: 2-24                   [-1, 512, 14, 14]         --\n",
      "|    └─Conv2d: 2-25                      [-1, 512, 14, 14]         2,359,808\n",
      "|    └─ReLU: 2-26                        [-1, 512, 14, 14]         --\n",
      "|    └─Conv2d: 2-27                      [-1, 512, 14, 14]         2,359,808\n",
      "|    └─ReLU: 2-28                        [-1, 512, 14, 14]         --\n",
      "|    └─Conv2d: 2-29                      [-1, 512, 14, 14]         2,359,808\n",
      "|    └─ReLU: 2-30                        [-1, 512, 14, 14]         --\n",
      "|    └─MaxPool2d: 2-31                   [-1, 512, 7, 7]           --\n",
      "├─AdaptiveAvgPool2d: 1-2                 [-1, 512, 7, 7]           --\n",
      "├─Sequential: 1-3                        [-1, 1000]                --\n",
      "|    └─Linear: 2-32                      [-1, 4096]                102,764,544\n",
      "|    └─ReLU: 2-33                        [-1, 4096]                --\n",
      "|    └─Dropout: 2-34                     [-1, 4096]                --\n",
      "|    └─Linear: 2-35                      [-1, 4096]                16,781,312\n",
      "|    └─ReLU: 2-36                        [-1, 4096]                --\n",
      "|    └─Dropout: 2-37                     [-1, 4096]                --\n",
      "|    └─Linear: 2-38                      [-1, 1000]                4,097,000\n",
      "==========================================================================================\n",
      "Total params: 138,357,544\n",
      "Trainable params: 138,357,544\n",
      "Non-trainable params: 0\n",
      "Total mult-adds (G): 15.61\n",
      "==========================================================================================\n",
      "Input size (MB): 0.57\n",
      "Forward/backward pass size (MB): 103.43\n",
      "Params size (MB): 527.79\n",
      "Estimated Total Size (MB): 631.80\n",
      "==========================================================================================\n"
     ]
    },
    {
     "data": {
      "text/plain": [
       "==========================================================================================\n",
       "Layer (type:depth-idx)                   Output Shape              Param #\n",
       "==========================================================================================\n",
       "├─Sequential: 1-1                        [-1, 512, 7, 7]           --\n",
       "|    └─Conv2d: 2-1                       [-1, 64, 224, 224]        1,792\n",
       "|    └─ReLU: 2-2                         [-1, 64, 224, 224]        --\n",
       "|    └─Conv2d: 2-3                       [-1, 64, 224, 224]        36,928\n",
       "|    └─ReLU: 2-4                         [-1, 64, 224, 224]        --\n",
       "|    └─MaxPool2d: 2-5                    [-1, 64, 112, 112]        --\n",
       "|    └─Conv2d: 2-6                       [-1, 128, 112, 112]       73,856\n",
       "|    └─ReLU: 2-7                         [-1, 128, 112, 112]       --\n",
       "|    └─Conv2d: 2-8                       [-1, 128, 112, 112]       147,584\n",
       "|    └─ReLU: 2-9                         [-1, 128, 112, 112]       --\n",
       "|    └─MaxPool2d: 2-10                   [-1, 128, 56, 56]         --\n",
       "|    └─Conv2d: 2-11                      [-1, 256, 56, 56]         295,168\n",
       "|    └─ReLU: 2-12                        [-1, 256, 56, 56]         --\n",
       "|    └─Conv2d: 2-13                      [-1, 256, 56, 56]         590,080\n",
       "|    └─ReLU: 2-14                        [-1, 256, 56, 56]         --\n",
       "|    └─Conv2d: 2-15                      [-1, 256, 56, 56]         590,080\n",
       "|    └─ReLU: 2-16                        [-1, 256, 56, 56]         --\n",
       "|    └─MaxPool2d: 2-17                   [-1, 256, 28, 28]         --\n",
       "|    └─Conv2d: 2-18                      [-1, 512, 28, 28]         1,180,160\n",
       "|    └─ReLU: 2-19                        [-1, 512, 28, 28]         --\n",
       "|    └─Conv2d: 2-20                      [-1, 512, 28, 28]         2,359,808\n",
       "|    └─ReLU: 2-21                        [-1, 512, 28, 28]         --\n",
       "|    └─Conv2d: 2-22                      [-1, 512, 28, 28]         2,359,808\n",
       "|    └─ReLU: 2-23                        [-1, 512, 28, 28]         --\n",
       "|    └─MaxPool2d: 2-24                   [-1, 512, 14, 14]         --\n",
       "|    └─Conv2d: 2-25                      [-1, 512, 14, 14]         2,359,808\n",
       "|    └─ReLU: 2-26                        [-1, 512, 14, 14]         --\n",
       "|    └─Conv2d: 2-27                      [-1, 512, 14, 14]         2,359,808\n",
       "|    └─ReLU: 2-28                        [-1, 512, 14, 14]         --\n",
       "|    └─Conv2d: 2-29                      [-1, 512, 14, 14]         2,359,808\n",
       "|    └─ReLU: 2-30                        [-1, 512, 14, 14]         --\n",
       "|    └─MaxPool2d: 2-31                   [-1, 512, 7, 7]           --\n",
       "├─AdaptiveAvgPool2d: 1-2                 [-1, 512, 7, 7]           --\n",
       "├─Sequential: 1-3                        [-1, 1000]                --\n",
       "|    └─Linear: 2-32                      [-1, 4096]                102,764,544\n",
       "|    └─ReLU: 2-33                        [-1, 4096]                --\n",
       "|    └─Dropout: 2-34                     [-1, 4096]                --\n",
       "|    └─Linear: 2-35                      [-1, 4096]                16,781,312\n",
       "|    └─ReLU: 2-36                        [-1, 4096]                --\n",
       "|    └─Dropout: 2-37                     [-1, 4096]                --\n",
       "|    └─Linear: 2-38                      [-1, 1000]                4,097,000\n",
       "==========================================================================================\n",
       "Total params: 138,357,544\n",
       "Trainable params: 138,357,544\n",
       "Non-trainable params: 0\n",
       "Total mult-adds (G): 15.61\n",
       "==========================================================================================\n",
       "Input size (MB): 0.57\n",
       "Forward/backward pass size (MB): 103.43\n",
       "Params size (MB): 527.79\n",
       "Estimated Total Size (MB): 631.80\n",
       "=========================================================================================="
      ]
     },
     "execution_count": 3,
     "metadata": {},
     "output_type": "execute_result"
    }
   ],
   "source": [
    "summary(model, torch.zeros(1, 3, 224, 224))"
   ]
  },
  {
   "cell_type": "markdown",
   "id": "29e9419d",
   "metadata": {},
   "source": [
    "## Age and face detector"
   ]
  },
  {
   "cell_type": "code",
   "execution_count": 4,
   "id": "292753f3",
   "metadata": {
    "ExecuteTime": {
     "end_time": "2021-09-13T13:06:07.197828Z",
     "start_time": "2021-09-13T13:06:07.153824Z"
    }
   },
   "outputs": [],
   "source": [
    "import numpy as np\n",
    "import pandas as pd \n",
    "import matplotlib.pyplot as plt\n",
    "import matplotlib as mpl\n",
    "import cv2\n",
    "import glob \n",
    "import time \n",
    "\n",
    "import torch\n",
    "import torch.nn as nn\n",
    "from torch import optim\n",
    "from torch.utils.data import DataLoader, Dataset\n",
    "import torch.nn.functional as F \n",
    "from torchvision import transforms, models, datasets\n",
    "\n",
    "device = 'cuda' if torch.cuda.is_available() else 'cpu'"
   ]
  },
  {
   "cell_type": "code",
   "execution_count": 5,
   "id": "a4087c9a",
   "metadata": {
    "ExecuteTime": {
     "end_time": "2021-09-13T13:06:07.324821Z",
     "start_time": "2021-09-13T13:06:07.200836Z"
    }
   },
   "outputs": [],
   "source": [
    "trn_df = pd.read_csv(r'D:\\Data Science projects\\pytorch\\train_labels.csv')\n",
    "val_df = pd.read_csv(r'D:\\Data Science projects\\pytorch\\val_labels.csv')"
   ]
  },
  {
   "cell_type": "code",
   "execution_count": 6,
   "id": "034ecc82",
   "metadata": {
    "ExecuteTime": {
     "end_time": "2021-09-13T13:06:07.340826Z",
     "start_time": "2021-09-13T13:06:07.327820Z"
    }
   },
   "outputs": [],
   "source": [
    "trn_df['age'] = trn_df['age'].astype('string')"
   ]
  },
  {
   "cell_type": "code",
   "execution_count": 7,
   "id": "3fcc6efb",
   "metadata": {
    "ExecuteTime": {
     "end_time": "2021-09-13T13:06:07.420879Z",
     "start_time": "2021-09-13T13:06:07.343824Z"
    }
   },
   "outputs": [],
   "source": [
    "splited = [i.lstrip('more than') for i in trn_df['age']] #faster to do two different list comprehension"
   ]
  },
  {
   "cell_type": "code",
   "execution_count": 8,
   "id": "34d27bd8",
   "metadata": {
    "ExecuteTime": {
     "end_time": "2021-09-13T13:06:07.514821Z",
     "start_time": "2021-09-13T13:06:07.423826Z"
    }
   },
   "outputs": [],
   "source": [
    "splited = [i.split(\"-\") for i in splited]"
   ]
  },
  {
   "cell_type": "code",
   "execution_count": 9,
   "id": "10a0de6e",
   "metadata": {
    "ExecuteTime": {
     "end_time": "2021-09-13T13:06:07.562829Z",
     "start_time": "2021-09-13T13:06:07.518821Z"
    }
   },
   "outputs": [],
   "source": [
    "splited_ = []\n",
    "for n in range(0, len(splited)):\n",
    "    splited_.append(splited[n][0])"
   ]
  },
  {
   "cell_type": "code",
   "execution_count": 10,
   "id": "8e34d50c",
   "metadata": {
    "ExecuteTime": {
     "end_time": "2021-09-13T13:06:07.578826Z",
     "start_time": "2021-09-13T13:06:07.565824Z"
    }
   },
   "outputs": [],
   "source": [
    "trn_df['age'] = splited_"
   ]
  },
  {
   "cell_type": "code",
   "execution_count": 11,
   "id": "270af6b4",
   "metadata": {
    "ExecuteTime": {
     "end_time": "2021-09-13T13:06:07.594821Z",
     "start_time": "2021-09-13T13:06:07.581825Z"
    }
   },
   "outputs": [],
   "source": [
    "#build the class\n",
    "\n",
    "class GenderAgeclass(Dataset):\n",
    "    def __init__(self, df, tfms= None):\n",
    "        self.df = df\n",
    "        self.normalize = transforms.Normalize(mean=[0.485, 0.456, 0.406],\n",
    "                                              std=[0.229, 0.224, 0.225])\n",
    "        \n",
    "    def __len__(self):\n",
    "        return len(self.df)\n",
    "    \n",
    "    def __getitem__(self, ix):\n",
    "        f = self.df.iloc[ix].squeeze() #agarra una fila \n",
    "        file = f.file #el nombre de la columna file, obtenemos la info\n",
    "        gen = f.gender == 'Female'\n",
    "        age = f.age\n",
    "        im = cv2.imread(file)\n",
    "        im = cv2.cvtColor(im, cv2.COLOR_BGR2RGB)\n",
    "        return im, age, gen\n",
    "    \n",
    "    #Preprocess (resize, permute and normalize) the images with a function\n",
    "\n",
    "    def preprocess_image(self, im): #the preprocess process\n",
    "        im = cv2.resize(im, (IMAGE_SIZE, IMAGE_SIZE))\n",
    "        im = torch.tensor(im).permute(2,0,1)\n",
    "        im = self.normalize(im/255.)\n",
    "        return im[None]\n",
    "    \n",
    "    def collate_fn(self, batch): #apply the preprocess, convert age into floats\n",
    "        ims, ages, genders = [], [], []\n",
    "        for im, age, gender in batch:\n",
    "            im = self.preprocess_image(im) #preprocess each image\n",
    "            ims.append(im)\n",
    "\n",
    "            ages.append(float(int(age)/80))#scale age by the max  age so values are between 0 and 1\n",
    "            genders.append(float(gender)) #convert it to float so they go into tensors\n",
    "\n",
    "        ages, genders = [torch.tensor(x).to(device).float() for x in [ages, genders]]#convert to tensors for the NN\n",
    "\n",
    "        ims = torch.cat(ims).to(device)\n",
    "\n",
    "        return ims, ages, genders"
   ]
  },
  {
   "cell_type": "code",
   "execution_count": 12,
   "id": "6668262c",
   "metadata": {
    "ExecuteTime": {
     "end_time": "2021-09-13T13:06:07.610823Z",
     "start_time": "2021-09-13T13:06:07.597823Z"
    }
   },
   "outputs": [],
   "source": [
    "#okay, now let's actually preprocess the data\n",
    "\n",
    "trn = GenderAgeclass(trn_df)\n",
    "val = GenderAgeclass(val_df)"
   ]
  },
  {
   "cell_type": "code",
   "execution_count": 13,
   "id": "2ea86c38",
   "metadata": {
    "ExecuteTime": {
     "end_time": "2021-09-13T13:06:07.626824Z",
     "start_time": "2021-09-13T13:06:07.614822Z"
    }
   },
   "outputs": [],
   "source": [
    "#Now, charge the Dataloaders as ammo for the NN\n",
    "train_loader= DataLoader(trn, batch_size=32, shuffle = True, drop_last= True, collate_fn= trn.collate_fn)\n",
    "test_loader = DataLoader(val, batch_size=32, shuffle=True, drop_last=True ,collate_fn= val.collate_fn)"
   ]
  },
  {
   "cell_type": "code",
   "execution_count": 14,
   "id": "df6ccb63",
   "metadata": {
    "ExecuteTime": {
     "end_time": "2021-09-13T13:06:09.022818Z",
     "start_time": "2021-09-13T13:06:07.629822Z"
    }
   },
   "outputs": [],
   "source": [
    "def get_model():\n",
    "    model = models.vgg16(pretrained = True)\n",
    "    # Freeze parameters so we don't backprop through them\n",
    "    for param in model.parameters():\n",
    "        param.requires_grad = False\n",
    "    model.avgpool = nn.Sequential(\n",
    "        nn.Conv2d(512,512, kernel_size=3),\n",
    "        nn.MaxPool2d(2),\n",
    "        nn.ReLU(),\n",
    "        nn.Flatten()\n",
    "    )\n",
    "    ### Now comes the key part. We deviate from what we have learned so far by creating two branches of outputs. \n",
    "    class ageGenderClassifier(nn.Module):\n",
    "        def __init__(self):\n",
    "            super(ageGenderClassifier, self).__init__()\n",
    "             #define the intermediate layer calculations\n",
    "            self.intermediate = nn.Sequential(\n",
    "                nn.Linear(2048,512),\n",
    "                nn.ReLU(),\n",
    "                nn.Dropout(0.4),\n",
    "                nn.Linear(512,128),\n",
    "                nn.ReLU(),\n",
    "                nn.Dropout(0.4),\n",
    "                nn.Linear(128,64),\n",
    "                nn.ReLU(),\n",
    "            )\n",
    "            self.age_classifier = nn.Sequential(\n",
    "                nn.Linear(64, 1),\n",
    "                nn.Sigmoid()\n",
    "            )\n",
    "            self.gender_classifier = nn.Sequential(\n",
    "                nn.Linear(64, 1),\n",
    "                nn.Sigmoid()\n",
    "            )\n",
    "        #Define the forward pass method that stacks layers as intermediate\n",
    "        #first, followed by age_classifier and then gender_classifier:\n",
    "        def forward(self, x):\n",
    "            x = self.intermediate(x)\n",
    "            age = self.age_classifier(x)\n",
    "            gender = self.gender_classifier(x)\n",
    "            return gender, age#returns the classification and the age\n",
    "    \n",
    "    #define the loss functionn, optimizer and put the model on GPU\n",
    "        \n",
    "    model.classifier = ageGenderClassifier()\n",
    "    \n",
    "    gender_criterion = nn.BCELoss()\n",
    "    age_criterion = nn.L1Loss()\n",
    "    loss_functions = gender_criterion, age_criterion\n",
    "    optimizer = torch.optim.Adam(model.parameters(), lr= 1e-4)\n",
    "    \n",
    "    return model.to(device), loss_functions, optimizer\n",
    "\n",
    "model, loss_functions, optimizer = get_model()"
   ]
  },
  {
   "cell_type": "code",
   "execution_count": 15,
   "id": "217ed564",
   "metadata": {
    "ExecuteTime": {
     "end_time": "2021-09-13T13:06:09.038824Z",
     "start_time": "2021-09-13T13:06:09.024820Z"
    }
   },
   "outputs": [],
   "source": [
    "#Define the train on batch of data function\n",
    "\n",
    "# The train_batch method takes an image, actual values of gender, age,model, optimizer, and loss function, \n",
    "# as input to calculate total loss, as follows\n",
    "\n",
    "def train_batch(data, model, optimizer, criteria):\n",
    "    \n",
    "    model.train()\n",
    "    ims, age, gender = data\n",
    "    optimizer.zero_grad()#we do this first for this part\n",
    "    pred_gender, pred_age = model(ims)\n",
    "    gender_criterion, age_criterion = criteria #Fetch the loss functions for both age and gender before calculating the loss \n",
    "    gender_loss = gender_criterion(pred_gender.squeeze(), gender)\n",
    "    age_loss = age_criterion(pred_age.squeeze(), age)\n",
    "    total_loss = gender_loss+age_loss #Calculate the overall loss by summing up gender_loss and age_loss and perform backpropagation to reduce the overall loss \n",
    "    total_loss.backward()\n",
    "    optimizer.step()\n",
    "    return total_loss "
   ]
  },
  {
   "cell_type": "code",
   "execution_count": 16,
   "id": "90228b54",
   "metadata": {
    "ExecuteTime": {
     "end_time": "2021-09-13T13:06:09.086831Z",
     "start_time": "2021-09-13T13:06:09.040820Z"
    }
   },
   "outputs": [],
   "source": [
    "#Now, let's do the previous part for the validation batch\n",
    "\n",
    "def validate_batch(data, model, criteria):\n",
    "    model.eval()\n",
    "    with torch.no_grad():\n",
    "        pred_gender, pred_age = model(img) # no gradient calculations are required before predicting the age and gender value\n",
    "  #Calculate the overall loss, final predicted gender class (pred_gender), and return the predicted gender, age, and total loss:  \n",
    "        gender_criterion, age_criterion = criteria\n",
    "        gender_loss = gender_criterion(pred_gender.squeeze(), gender)\n",
    "        age_loss = age_criterion(pred_age.squeeze(), age)\n",
    "  #Calculate the overall loss, final predicted gender class (pred_gender), and return the predicted gender, age, and total loss:\n",
    "        total_loss = gender_loss + age_loss\n",
    "        pred_gender = (pred_gender > 0.5).squeeze()\n",
    "        #gender accuracy\n",
    "        gender_acc = (pred_gender == gender).float().sum()\n",
    "        #age prediction\n",
    "        age_mae = torch.abs(age-pred_age).float().sum()\n",
    "        return total_loss, gender_acc, age_mae"
   ]
  },
  {
   "cell_type": "code",
   "execution_count": 17,
   "id": "c5ee5ef3",
   "metadata": {
    "ExecuteTime": {
     "end_time": "2021-09-13T13:06:09.101820Z",
     "start_time": "2021-09-13T13:06:09.089821Z"
    }
   },
   "outputs": [],
   "source": [
    "IMAGE_SIZE = 224"
   ]
  },
  {
   "cell_type": "code",
   "execution_count": 18,
   "id": "da805303",
   "metadata": {
    "ExecuteTime": {
     "end_time": "2021-09-13T15:12:34.691818Z",
     "start_time": "2021-09-13T13:06:09.105826Z"
    }
   },
   "outputs": [
    {
     "ename": "KeyboardInterrupt",
     "evalue": "",
     "output_type": "error",
     "traceback": [
      "\u001b[1;31m---------------------------------------------------------------------------\u001b[0m",
      "\u001b[1;31mKeyboardInterrupt\u001b[0m                         Traceback (most recent call last)",
      "\u001b[1;32m<ipython-input-18-0e4439c4d70f>\u001b[0m in \u001b[0;36m<module>\u001b[1;34m\u001b[0m\n\u001b[0;32m     13\u001b[0m     \u001b[0mval_age_mae\u001b[0m\u001b[1;33m,\u001b[0m \u001b[0mval_gender_acc\u001b[0m\u001b[1;33m,\u001b[0m \u001b[0mctr\u001b[0m \u001b[1;33m=\u001b[0m \u001b[1;36m0\u001b[0m\u001b[1;33m,\u001b[0m \u001b[1;36m0\u001b[0m\u001b[1;33m,\u001b[0m \u001b[1;36m0\u001b[0m\u001b[1;33m\u001b[0m\u001b[1;33m\u001b[0m\u001b[0m\n\u001b[0;32m     14\u001b[0m     \u001b[0m_n\u001b[0m \u001b[1;33m=\u001b[0m \u001b[0mlen\u001b[0m\u001b[1;33m(\u001b[0m\u001b[0mtrain_loader\u001b[0m\u001b[1;33m)\u001b[0m\u001b[1;33m\u001b[0m\u001b[1;33m\u001b[0m\u001b[0m\n\u001b[1;32m---> 15\u001b[1;33m     \u001b[1;32mfor\u001b[0m \u001b[0mix\u001b[0m\u001b[1;33m,\u001b[0m \u001b[0mdata\u001b[0m \u001b[1;32min\u001b[0m \u001b[0menumerate\u001b[0m\u001b[1;33m(\u001b[0m\u001b[0mtrain_loader\u001b[0m\u001b[1;33m)\u001b[0m\u001b[1;33m:\u001b[0m\u001b[1;33m\u001b[0m\u001b[1;33m\u001b[0m\u001b[0m\n\u001b[0m\u001b[0;32m     16\u001b[0m         \u001b[1;31m# if ix == 100: break\u001b[0m\u001b[1;33m\u001b[0m\u001b[1;33m\u001b[0m\u001b[1;33m\u001b[0m\u001b[0m\n\u001b[0;32m     17\u001b[0m         \u001b[0mloss\u001b[0m \u001b[1;33m=\u001b[0m \u001b[0mtrain_batch\u001b[0m\u001b[1;33m(\u001b[0m\u001b[0mdata\u001b[0m\u001b[1;33m,\u001b[0m \u001b[0mmodel\u001b[0m\u001b[1;33m,\u001b[0m \u001b[0moptimizer\u001b[0m\u001b[1;33m,\u001b[0m \u001b[0mcriteria\u001b[0m\u001b[1;33m)\u001b[0m\u001b[1;33m\u001b[0m\u001b[1;33m\u001b[0m\u001b[0m\n",
      "\u001b[1;32m~\\anaconda3\\envs\\tf-latest\\lib\\site-packages\\torch\\utils\\data\\dataloader.py\u001b[0m in \u001b[0;36m__next__\u001b[1;34m(self)\u001b[0m\n\u001b[0;32m    519\u001b[0m             \u001b[1;32mif\u001b[0m \u001b[0mself\u001b[0m\u001b[1;33m.\u001b[0m\u001b[0m_sampler_iter\u001b[0m \u001b[1;32mis\u001b[0m \u001b[1;32mNone\u001b[0m\u001b[1;33m:\u001b[0m\u001b[1;33m\u001b[0m\u001b[1;33m\u001b[0m\u001b[0m\n\u001b[0;32m    520\u001b[0m                 \u001b[0mself\u001b[0m\u001b[1;33m.\u001b[0m\u001b[0m_reset\u001b[0m\u001b[1;33m(\u001b[0m\u001b[1;33m)\u001b[0m\u001b[1;33m\u001b[0m\u001b[1;33m\u001b[0m\u001b[0m\n\u001b[1;32m--> 521\u001b[1;33m             \u001b[0mdata\u001b[0m \u001b[1;33m=\u001b[0m \u001b[0mself\u001b[0m\u001b[1;33m.\u001b[0m\u001b[0m_next_data\u001b[0m\u001b[1;33m(\u001b[0m\u001b[1;33m)\u001b[0m\u001b[1;33m\u001b[0m\u001b[1;33m\u001b[0m\u001b[0m\n\u001b[0m\u001b[0;32m    522\u001b[0m             \u001b[0mself\u001b[0m\u001b[1;33m.\u001b[0m\u001b[0m_num_yielded\u001b[0m \u001b[1;33m+=\u001b[0m \u001b[1;36m1\u001b[0m\u001b[1;33m\u001b[0m\u001b[1;33m\u001b[0m\u001b[0m\n\u001b[0;32m    523\u001b[0m             \u001b[1;32mif\u001b[0m \u001b[0mself\u001b[0m\u001b[1;33m.\u001b[0m\u001b[0m_dataset_kind\u001b[0m \u001b[1;33m==\u001b[0m \u001b[0m_DatasetKind\u001b[0m\u001b[1;33m.\u001b[0m\u001b[0mIterable\u001b[0m \u001b[1;32mand\u001b[0m\u001b[0;31m \u001b[0m\u001b[0;31m\\\u001b[0m\u001b[1;33m\u001b[0m\u001b[1;33m\u001b[0m\u001b[0m\n",
      "\u001b[1;32m~\\anaconda3\\envs\\tf-latest\\lib\\site-packages\\torch\\utils\\data\\dataloader.py\u001b[0m in \u001b[0;36m_next_data\u001b[1;34m(self)\u001b[0m\n\u001b[0;32m    559\u001b[0m     \u001b[1;32mdef\u001b[0m \u001b[0m_next_data\u001b[0m\u001b[1;33m(\u001b[0m\u001b[0mself\u001b[0m\u001b[1;33m)\u001b[0m\u001b[1;33m:\u001b[0m\u001b[1;33m\u001b[0m\u001b[1;33m\u001b[0m\u001b[0m\n\u001b[0;32m    560\u001b[0m         \u001b[0mindex\u001b[0m \u001b[1;33m=\u001b[0m \u001b[0mself\u001b[0m\u001b[1;33m.\u001b[0m\u001b[0m_next_index\u001b[0m\u001b[1;33m(\u001b[0m\u001b[1;33m)\u001b[0m  \u001b[1;31m# may raise StopIteration\u001b[0m\u001b[1;33m\u001b[0m\u001b[1;33m\u001b[0m\u001b[0m\n\u001b[1;32m--> 561\u001b[1;33m         \u001b[0mdata\u001b[0m \u001b[1;33m=\u001b[0m \u001b[0mself\u001b[0m\u001b[1;33m.\u001b[0m\u001b[0m_dataset_fetcher\u001b[0m\u001b[1;33m.\u001b[0m\u001b[0mfetch\u001b[0m\u001b[1;33m(\u001b[0m\u001b[0mindex\u001b[0m\u001b[1;33m)\u001b[0m  \u001b[1;31m# may raise StopIteration\u001b[0m\u001b[1;33m\u001b[0m\u001b[1;33m\u001b[0m\u001b[0m\n\u001b[0m\u001b[0;32m    562\u001b[0m         \u001b[1;32mif\u001b[0m \u001b[0mself\u001b[0m\u001b[1;33m.\u001b[0m\u001b[0m_pin_memory\u001b[0m\u001b[1;33m:\u001b[0m\u001b[1;33m\u001b[0m\u001b[1;33m\u001b[0m\u001b[0m\n\u001b[0;32m    563\u001b[0m             \u001b[0mdata\u001b[0m \u001b[1;33m=\u001b[0m \u001b[0m_utils\u001b[0m\u001b[1;33m.\u001b[0m\u001b[0mpin_memory\u001b[0m\u001b[1;33m.\u001b[0m\u001b[0mpin_memory\u001b[0m\u001b[1;33m(\u001b[0m\u001b[0mdata\u001b[0m\u001b[1;33m)\u001b[0m\u001b[1;33m\u001b[0m\u001b[1;33m\u001b[0m\u001b[0m\n",
      "\u001b[1;32m~\\anaconda3\\envs\\tf-latest\\lib\\site-packages\\torch\\utils\\data\\_utils\\fetch.py\u001b[0m in \u001b[0;36mfetch\u001b[1;34m(self, possibly_batched_index)\u001b[0m\n\u001b[0;32m     42\u001b[0m     \u001b[1;32mdef\u001b[0m \u001b[0mfetch\u001b[0m\u001b[1;33m(\u001b[0m\u001b[0mself\u001b[0m\u001b[1;33m,\u001b[0m \u001b[0mpossibly_batched_index\u001b[0m\u001b[1;33m)\u001b[0m\u001b[1;33m:\u001b[0m\u001b[1;33m\u001b[0m\u001b[1;33m\u001b[0m\u001b[0m\n\u001b[0;32m     43\u001b[0m         \u001b[1;32mif\u001b[0m \u001b[0mself\u001b[0m\u001b[1;33m.\u001b[0m\u001b[0mauto_collation\u001b[0m\u001b[1;33m:\u001b[0m\u001b[1;33m\u001b[0m\u001b[1;33m\u001b[0m\u001b[0m\n\u001b[1;32m---> 44\u001b[1;33m             \u001b[0mdata\u001b[0m \u001b[1;33m=\u001b[0m \u001b[1;33m[\u001b[0m\u001b[0mself\u001b[0m\u001b[1;33m.\u001b[0m\u001b[0mdataset\u001b[0m\u001b[1;33m[\u001b[0m\u001b[0midx\u001b[0m\u001b[1;33m]\u001b[0m \u001b[1;32mfor\u001b[0m \u001b[0midx\u001b[0m \u001b[1;32min\u001b[0m \u001b[0mpossibly_batched_index\u001b[0m\u001b[1;33m]\u001b[0m\u001b[1;33m\u001b[0m\u001b[1;33m\u001b[0m\u001b[0m\n\u001b[0m\u001b[0;32m     45\u001b[0m         \u001b[1;32melse\u001b[0m\u001b[1;33m:\u001b[0m\u001b[1;33m\u001b[0m\u001b[1;33m\u001b[0m\u001b[0m\n\u001b[0;32m     46\u001b[0m             \u001b[0mdata\u001b[0m \u001b[1;33m=\u001b[0m \u001b[0mself\u001b[0m\u001b[1;33m.\u001b[0m\u001b[0mdataset\u001b[0m\u001b[1;33m[\u001b[0m\u001b[0mpossibly_batched_index\u001b[0m\u001b[1;33m]\u001b[0m\u001b[1;33m\u001b[0m\u001b[1;33m\u001b[0m\u001b[0m\n",
      "\u001b[1;32m~\\anaconda3\\envs\\tf-latest\\lib\\site-packages\\torch\\utils\\data\\_utils\\fetch.py\u001b[0m in \u001b[0;36m<listcomp>\u001b[1;34m(.0)\u001b[0m\n\u001b[0;32m     42\u001b[0m     \u001b[1;32mdef\u001b[0m \u001b[0mfetch\u001b[0m\u001b[1;33m(\u001b[0m\u001b[0mself\u001b[0m\u001b[1;33m,\u001b[0m \u001b[0mpossibly_batched_index\u001b[0m\u001b[1;33m)\u001b[0m\u001b[1;33m:\u001b[0m\u001b[1;33m\u001b[0m\u001b[1;33m\u001b[0m\u001b[0m\n\u001b[0;32m     43\u001b[0m         \u001b[1;32mif\u001b[0m \u001b[0mself\u001b[0m\u001b[1;33m.\u001b[0m\u001b[0mauto_collation\u001b[0m\u001b[1;33m:\u001b[0m\u001b[1;33m\u001b[0m\u001b[1;33m\u001b[0m\u001b[0m\n\u001b[1;32m---> 44\u001b[1;33m             \u001b[0mdata\u001b[0m \u001b[1;33m=\u001b[0m \u001b[1;33m[\u001b[0m\u001b[0mself\u001b[0m\u001b[1;33m.\u001b[0m\u001b[0mdataset\u001b[0m\u001b[1;33m[\u001b[0m\u001b[0midx\u001b[0m\u001b[1;33m]\u001b[0m \u001b[1;32mfor\u001b[0m \u001b[0midx\u001b[0m \u001b[1;32min\u001b[0m \u001b[0mpossibly_batched_index\u001b[0m\u001b[1;33m]\u001b[0m\u001b[1;33m\u001b[0m\u001b[1;33m\u001b[0m\u001b[0m\n\u001b[0m\u001b[0;32m     45\u001b[0m         \u001b[1;32melse\u001b[0m\u001b[1;33m:\u001b[0m\u001b[1;33m\u001b[0m\u001b[1;33m\u001b[0m\u001b[0m\n\u001b[0;32m     46\u001b[0m             \u001b[0mdata\u001b[0m \u001b[1;33m=\u001b[0m \u001b[0mself\u001b[0m\u001b[1;33m.\u001b[0m\u001b[0mdataset\u001b[0m\u001b[1;33m[\u001b[0m\u001b[0mpossibly_batched_index\u001b[0m\u001b[1;33m]\u001b[0m\u001b[1;33m\u001b[0m\u001b[1;33m\u001b[0m\u001b[0m\n",
      "\u001b[1;32m<ipython-input-11-aac6855c8b0d>\u001b[0m in \u001b[0;36m__getitem__\u001b[1;34m(self, ix)\u001b[0m\n\u001b[0;32m     15\u001b[0m         \u001b[0mgen\u001b[0m \u001b[1;33m=\u001b[0m \u001b[0mf\u001b[0m\u001b[1;33m.\u001b[0m\u001b[0mgender\u001b[0m \u001b[1;33m==\u001b[0m \u001b[1;34m'Female'\u001b[0m\u001b[1;33m\u001b[0m\u001b[1;33m\u001b[0m\u001b[0m\n\u001b[0;32m     16\u001b[0m         \u001b[0mage\u001b[0m \u001b[1;33m=\u001b[0m \u001b[0mf\u001b[0m\u001b[1;33m.\u001b[0m\u001b[0mage\u001b[0m\u001b[1;33m\u001b[0m\u001b[1;33m\u001b[0m\u001b[0m\n\u001b[1;32m---> 17\u001b[1;33m         \u001b[0mim\u001b[0m \u001b[1;33m=\u001b[0m \u001b[0mcv2\u001b[0m\u001b[1;33m.\u001b[0m\u001b[0mimread\u001b[0m\u001b[1;33m(\u001b[0m\u001b[0mfile\u001b[0m\u001b[1;33m)\u001b[0m\u001b[1;33m\u001b[0m\u001b[1;33m\u001b[0m\u001b[0m\n\u001b[0m\u001b[0;32m     18\u001b[0m         \u001b[0mim\u001b[0m \u001b[1;33m=\u001b[0m \u001b[0mcv2\u001b[0m\u001b[1;33m.\u001b[0m\u001b[0mcvtColor\u001b[0m\u001b[1;33m(\u001b[0m\u001b[0mim\u001b[0m\u001b[1;33m,\u001b[0m \u001b[0mcv2\u001b[0m\u001b[1;33m.\u001b[0m\u001b[0mCOLOR_BGR2RGB\u001b[0m\u001b[1;33m)\u001b[0m\u001b[1;33m\u001b[0m\u001b[1;33m\u001b[0m\u001b[0m\n\u001b[0;32m     19\u001b[0m         \u001b[1;32mreturn\u001b[0m \u001b[0mim\u001b[0m\u001b[1;33m,\u001b[0m \u001b[0mage\u001b[0m\u001b[1;33m,\u001b[0m \u001b[0mgen\u001b[0m\u001b[1;33m\u001b[0m\u001b[1;33m\u001b[0m\u001b[0m\n",
      "\u001b[1;31mKeyboardInterrupt\u001b[0m: "
     ]
    }
   ],
   "source": [
    "model, criteria, optimizer = get_model()\n",
    "val_gender_accuracies = []\n",
    "val_age_maes = []\n",
    "train_losses = []\n",
    "val_losses = []\n",
    "\n",
    "n_epochs = 5\n",
    "best_test_loss = 1000\n",
    "start = time.time()\n",
    "\n",
    "for epoch in range(n_epochs):\n",
    "    epoch_train_loss, epoch_test_loss = 0, 0\n",
    "    val_age_mae, val_gender_acc, ctr = 0, 0, 0\n",
    "    _n = len(train_loader)\n",
    "    for ix, data in enumerate(train_loader):\n",
    "        # if ix == 100: break\n",
    "        loss = train_batch(data, model, optimizer, criteria)\n",
    "        epoch_train_loss += loss.item()\n",
    "\n",
    "    for ix, data in enumerate(test_loader):\n",
    "        # if ix == 10: break\n",
    "        loss, gender_acc, age_mae = validate_batch(data, model, criteria)\n",
    "        epoch_test_loss += loss.item()\n",
    "        val_age_mae += age_mae\n",
    "        val_gender_acc += gender_acc\n",
    "        ctr += len(data[0])\n",
    "\n",
    "    val_age_mae /= ctr\n",
    "    val_gender_acc /= ctr\n",
    "    epoch_train_loss /= len(train_loader)\n",
    "    epoch_test_loss /= len(test_loader)\n",
    "\n",
    "    elapsed = time.time()-start\n",
    "    best_test_loss = min(best_test_loss, epoch_test_loss)\n",
    "    print('{}/{} ({:.2f}s - {:.2f}s remaining)'.format(epoch+1, n_epochs, time.time()-start, (n_epochs-epoch)*(elapsed/(epoch+1))))\n",
    "    info = f'''Epoch: {epoch+1:03d}\\tTrain Loss: {epoch_train_loss:.3f}\\tTest: {epoch_test_loss:.3f}\\tBest Test Loss: {best_test_loss:.4f}'''\n",
    "    info += f'\\nGender Accuracy: {val_gender_acc*100:.2f}%\\tAge MAE: {val_age_mae:.2f}\\n'\n",
    "    print(info)\n",
    "\n",
    "    val_gender_accuracies.append(val_gender_acc)\n",
    "    val_age_maes.append(val_age_mae)"
   ]
  },
  {
   "cell_type": "code",
   "execution_count": null,
   "id": "0f46ab5d",
   "metadata": {
    "ExecuteTime": {
     "end_time": "2021-09-13T15:12:34.755464Z",
     "start_time": "2021-09-13T13:06:01.426Z"
    }
   },
   "outputs": [],
   "source": [
    "#Graph it\n",
    "\n",
    "epochs = np.arange(1,(n_epochs+1))\n",
    "fig,ax = plt.subplots(1,2,figsize=(10,5))\n",
    "ax = ax.flat\n",
    "ax[0].plot(epochs, val_gender_accuracies, 'bo')\n",
    "ax[1].plot(epochs, val_age_maes, 'r')\n",
    "ax[0].set_xlabel('Epochs') ; ax[1].set_xlabel('Epochs')\n",
    "ax[0].set_ylabel('Accuracy'); ax[1].set_ylabel('MAE')\n",
    "ax[0].set_title('Validation Gender Accuracy')\n",
    "ax[0].set_title('Validation Age Mean-Absolute-Error')\n",
    "plt.show()"
   ]
  },
  {
   "cell_type": "code",
   "execution_count": null,
   "id": "cb2d0276",
   "metadata": {},
   "outputs": [],
   "source": []
  },
  {
   "cell_type": "code",
   "execution_count": null,
   "id": "54f25181",
   "metadata": {},
   "outputs": [],
   "source": []
  },
  {
   "cell_type": "code",
   "execution_count": null,
   "id": "0d3ede58",
   "metadata": {},
   "outputs": [],
   "source": []
  },
  {
   "cell_type": "code",
   "execution_count": null,
   "id": "573d94ed",
   "metadata": {},
   "outputs": [],
   "source": []
  },
  {
   "cell_type": "code",
   "execution_count": null,
   "id": "96cc8f08",
   "metadata": {},
   "outputs": [],
   "source": []
  }
 ],
 "metadata": {
  "kernelspec": {
   "display_name": "Python 3.7 (tf-latest)",
   "language": "python",
   "name": "tf-latest"
  },
  "language_info": {
   "codemirror_mode": {
    "name": "ipython",
    "version": 3
   },
   "file_extension": ".py",
   "mimetype": "text/x-python",
   "name": "python",
   "nbconvert_exporter": "python",
   "pygments_lexer": "ipython3",
   "version": "3.8.8"
  },
  "toc": {
   "base_numbering": 1,
   "nav_menu": {},
   "number_sections": true,
   "sideBar": true,
   "skip_h1_title": false,
   "title_cell": "Table of Contents",
   "title_sidebar": "Contents",
   "toc_cell": false,
   "toc_position": {},
   "toc_section_display": true,
   "toc_window_display": false
  },
  "varInspector": {
   "cols": {
    "lenName": 16,
    "lenType": 16,
    "lenVar": 40
   },
   "kernels_config": {
    "python": {
     "delete_cmd_postfix": "",
     "delete_cmd_prefix": "del ",
     "library": "var_list.py",
     "varRefreshCmd": "print(var_dic_list())"
    },
    "r": {
     "delete_cmd_postfix": ") ",
     "delete_cmd_prefix": "rm(",
     "library": "var_list.r",
     "varRefreshCmd": "cat(var_dic_list()) "
    }
   },
   "types_to_exclude": [
    "module",
    "function",
    "builtin_function_or_method",
    "instance",
    "_Feature"
   ],
   "window_display": false
  }
 },
 "nbformat": 4,
 "nbformat_minor": 5
}
