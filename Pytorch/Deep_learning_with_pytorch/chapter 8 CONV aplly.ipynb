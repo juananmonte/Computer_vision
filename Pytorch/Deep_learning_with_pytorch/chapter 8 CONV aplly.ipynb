{
 "cells": [
  {
   "cell_type": "code",
   "execution_count": null,
   "id": "a88f527a",
   "metadata": {
    "ExecuteTime": {
     "end_time": "2021-08-18T12:00:10.912501Z",
     "start_time": "2021-08-18T11:59:33.403Z"
    }
   },
   "outputs": [],
   "source": [
    "from torchvision import datasets\n",
    "import matplotlib.pyplot as plt\n",
    "from torchvision import transforms\n",
    "import torch.nn as nn\n",
    "import torch.optim as optim\n",
    "import torch"
   ]
  },
  {
   "cell_type": "code",
   "execution_count": null,
   "id": "5b0a6866",
   "metadata": {
    "ExecuteTime": {
     "end_time": "2021-08-18T12:00:10.912501Z",
     "start_time": "2021-08-18T11:59:33.424Z"
    }
   },
   "outputs": [],
   "source": [
    "datapath = 'C:/Users/MSI/Desktop/Data Science/pytorch'\n",
    "cifar10 = datasets.CIFAR10(datapath, train = True, download = True)\n",
    "cifar10_val = datasets.CIFAR10(datapath, train = False, download=True)"
   ]
  },
  {
   "cell_type": "code",
   "execution_count": null,
   "id": "494a338f",
   "metadata": {
    "ExecuteTime": {
     "end_time": "2021-08-18T12:00:10.916492Z",
     "start_time": "2021-08-18T11:59:33.429Z"
    }
   },
   "outputs": [],
   "source": [
    "conv = nn.Conv2d(3, 16, kernel_size=3)\n",
    "conv"
   ]
  },
  {
   "cell_type": "code",
   "execution_count": null,
   "id": "8004f158",
   "metadata": {
    "ExecuteTime": {
     "end_time": "2021-08-18T12:00:10.920536Z",
     "start_time": "2021-08-18T11:59:33.435Z"
    }
   },
   "outputs": [],
   "source": [
    "#check the weights\n",
    "conv.weight.shape"
   ]
  },
  {
   "cell_type": "code",
   "execution_count": null,
   "id": "7cb19ea7",
   "metadata": {
    "ExecuteTime": {
     "end_time": "2021-08-18T12:00:10.924532Z",
     "start_time": "2021-08-18T11:59:33.441Z"
    }
   },
   "outputs": [],
   "source": [
    "conv.bias.shape #it’s a constant value we add to each channel of the output image"
   ]
  },
  {
   "cell_type": "code",
   "execution_count": null,
   "id": "a37d5836",
   "metadata": {
    "ExecuteTime": {
     "end_time": "2021-08-18T12:00:10.924532Z",
     "start_time": "2021-08-18T11:59:33.448Z"
    }
   },
   "outputs": [],
   "source": [
    "#GET THE CIFAR DATASE\n",
    "tensor_cifar10 = datasets.CIFAR10(datapath, download = True, train = True, transform = transforms.ToTensor())\n",
    "tensor_cifar10_val = datasets.CIFAR10(datapath, download = True, train = False, transform = transforms.ToTensor())"
   ]
  },
  {
   "cell_type": "code",
   "execution_count": null,
   "id": "11850977",
   "metadata": {
    "ExecuteTime": {
     "end_time": "2021-08-18T12:00:10.930593Z",
     "start_time": "2021-08-18T11:59:33.453Z"
    }
   },
   "outputs": [],
   "source": [
    "label_map = {0: 0, 2: 1}\n",
    "class_names = ['airplane', 'bird']\n",
    "\n",
    "cifar2 = [(img, label_map[label]) \n",
    "          for img, label in tensor_cifar10\n",
    "          if label in [0, 2]]\n",
    "\n",
    "cifar2_val = [(img, label_map[label])\n",
    "              for img, label in tensor_cifar10_val\n",
    "              if label in [0, 2]]"
   ]
  },
  {
   "cell_type": "code",
   "execution_count": null,
   "id": "9b1e3ac1",
   "metadata": {
    "ExecuteTime": {
     "end_time": "2021-08-18T12:00:10.930593Z",
     "start_time": "2021-08-18T11:59:33.461Z"
    }
   },
   "outputs": [],
   "source": [
    "#Make a little run of the CONV just to see how it operates\n",
    "\n",
    "img, _ = cifar2[0]\n",
    "output = conv(img.unsqueeze(0))\n",
    "print(img.unsqueeze(0).shape)\n",
    "print(output.shape)"
   ]
  },
  {
   "cell_type": "code",
   "execution_count": null,
   "id": "bade0015",
   "metadata": {
    "ExecuteTime": {
     "end_time": "2021-08-18T12:00:10.934630Z",
     "start_time": "2021-08-18T11:59:33.467Z"
    }
   },
   "outputs": [],
   "source": [
    "plt.imshow(output[0,0].detach()) #The fact that our output image is smaller than the input is a side effect of deciding what\n",
    "#                                 to do at the boundary of the image. (the i00 dimentions)"
   ]
  },
  {
   "cell_type": "code",
   "execution_count": null,
   "id": "0731e025",
   "metadata": {
    "ExecuteTime": {
     "end_time": "2021-08-18T12:00:10.939847Z",
     "start_time": "2021-08-18T11:59:33.477Z"
    }
   },
   "outputs": [],
   "source": [
    "#let's fix that\n",
    "\n",
    "conv_pad = nn.Conv2d(3,1, kernel_size=3, padding=1)\n",
    "output= conv_pad(img.unsqueeze(0))\n",
    "img.unsqueeze(0).shape"
   ]
  },
  {
   "cell_type": "code",
   "execution_count": null,
   "id": "52f8a9c8",
   "metadata": {
    "ExecuteTime": {
     "end_time": "2021-08-18T12:00:10.940854Z",
     "start_time": "2021-08-18T11:59:33.482Z"
    }
   },
   "outputs": [],
   "source": [
    "#Let's create a model\n",
    "\n",
    "model = nn.Sequential(\n",
    "                nn.Conv2d(3, 16, kernel_size=3, padding=1),\n",
    "                nn.Tanh(),\n",
    "                nn.MaxPool2d(2),\n",
    "                nn.Conv2d(16, 8, kernel_size=3, padding=1),\n",
    "                nn.Tanh(),\n",
    "                nn.MaxPool2d(2))\n",
    "\n",
    "#But! the problem with the Sequential way is that it doesn't have a \".reshape\" option for the 1D output, so the model won't run\n",
    "#we need to use the "
   ]
  },
  {
   "cell_type": "code",
   "execution_count": null,
   "id": "1eab8b67",
   "metadata": {
    "ExecuteTime": {
     "end_time": "2021-08-18T12:00:10.946139Z",
     "start_time": "2021-08-18T11:59:33.487Z"
    }
   },
   "outputs": [],
   "source": [
    "class Net(nn.Module):\n",
    "    def __init__(self):\n",
    "        super().__init__()\n",
    "        self.conv1 = nn.Conv2d(3, 16, kernel_size=3, padding=1)\n",
    "        self.act1 = nn.Tanh()\n",
    "        self.pool1 = nn.MaxPool2d(2)\n",
    "        self.conv2 = nn.Conv2d(16, 8, kernel_size=3, padding=1)\n",
    "        self.act2 = nn.Tanh()\n",
    "        self.pool2 = nn.MaxPool2d(2)\n",
    "        self.fc1 = nn.Linear(8 * 8 * 8, 32)\n",
    "        self.act3 = nn.Tanh()\n",
    "        self.fc2 = nn.Linear(32, 2)\n",
    "    def forward(self, x):\n",
    "        out = self.pool1(self.act1(self.conv1(x)))\n",
    "        out = self.pool2(self.act2(self.conv2(out)))\n",
    "        out = out.view(-1, 8 * 8 * 8)\n",
    "        out = self.act3(self.fc1(out))\n",
    "        out = self.fc2(out)\n",
    "        return out        "
   ]
  },
  {
   "cell_type": "code",
   "execution_count": null,
   "id": "f51853af",
   "metadata": {
    "ExecuteTime": {
     "end_time": "2021-08-18T12:00:10.951410Z",
     "start_time": "2021-08-18T11:59:33.492Z"
    }
   },
   "outputs": [],
   "source": [
    "import torch.nn.functional as F"
   ]
  },
  {
   "cell_type": "code",
   "execution_count": null,
   "id": "d7130dd8",
   "metadata": {
    "ExecuteTime": {
     "end_time": "2021-08-18T12:00:10.956465Z",
     "start_time": "2021-08-18T11:59:33.502Z"
    }
   },
   "outputs": [],
   "source": [
    "##The functional API\n",
    "\n",
    "class Net(nn.Module):\n",
    "    def __init__(self):\n",
    "        super().__init__()\n",
    "        self.conv1 = nn.Conv2d(3, 16, kernel_size=3, padding=1)\n",
    "        self.conv2 = nn.Conv2d(16, 8, kernel_size=3, padding =1)\n",
    "        self.fc1 = nn.Linear(8*8*8, 32)\n",
    "        self.fc2 = nn.Linear(32, 2)\n",
    "    \n",
    "    def forward(self, x):\n",
    "        out = F.max_pool2d(torch.tanh(self.conv1(x)), 2)\n",
    "        out = F.max_pool2d(torch.tanh(self.conv2(out)), 2)\n",
    "        out = out.view(-1, 8*8*8)\n",
    "        out = torch.tanh(self.fc1(out))\n",
    "        out = self.fc2(out)\n",
    "        return out"
   ]
  },
  {
   "cell_type": "code",
   "execution_count": null,
   "id": "f2f33fd9",
   "metadata": {
    "ExecuteTime": {
     "end_time": "2021-08-18T12:00:10.960468Z",
     "start_time": "2021-08-18T11:59:33.509Z"
    }
   },
   "outputs": [],
   "source": [
    "model = Net()"
   ]
  },
  {
   "cell_type": "code",
   "execution_count": null,
   "id": "1dcdaf6f",
   "metadata": {
    "ExecuteTime": {
     "end_time": "2021-08-18T12:00:10.965734Z",
     "start_time": "2021-08-18T11:59:33.525Z"
    }
   },
   "outputs": [],
   "source": [
    "model(img.unsqueeze(0))"
   ]
  },
  {
   "cell_type": "markdown",
   "id": "cd9386c4",
   "metadata": {},
   "source": [
    "## Training our convnet"
   ]
  },
  {
   "cell_type": "code",
   "execution_count": null,
   "id": "1402988d",
   "metadata": {
    "ExecuteTime": {
     "end_time": "2021-08-18T12:00:10.970819Z",
     "start_time": "2021-08-18T11:59:33.535Z"
    }
   },
   "outputs": [],
   "source": [
    "train_loader = torch.utils.data.DataLoader(cifar2, batch_size=64, shuffle=False)\n",
    "\n",
    "val_loader = torch.utils.data.DataLoader(cifar2_val, batch_size=64, shuffle=False)"
   ]
  },
  {
   "cell_type": "code",
   "execution_count": null,
   "id": "89b7bac2",
   "metadata": {
    "ExecuteTime": {
     "end_time": "2021-08-18T12:00:10.970819Z",
     "start_time": "2021-08-18T11:59:33.544Z"
    }
   },
   "outputs": [],
   "source": [
    "def validate(model, train_loader, val_loader):\n",
    "    for name, loader in [(\"train\", train_loader), (\"val\", val_loader)]:\n",
    "        correct = 0\n",
    "        total = 0\n",
    "        with torch.no_grad(): #We do not want gradients  here, as we will not want to  update the parameters.\n",
    "            for imgs, labels in loader:\n",
    "                outputs = model(imgs)\n",
    "                _, predicted = torch.max(outputs, dim=1)\n",
    "                total += labels.shape[0]\n",
    "                correct += int((predicted == labels).sum())\n",
    "            print(\"Accuracy {}: {:.2f}\".format(name , correct / total))"
   ]
  },
  {
   "cell_type": "code",
   "execution_count": null,
   "id": "33609da7",
   "metadata": {
    "ExecuteTime": {
     "end_time": "2021-08-18T12:00:10.974858Z",
     "start_time": "2021-08-18T11:59:33.550Z"
    }
   },
   "outputs": [],
   "source": [
    "validate(model, train_loader, val_loader)"
   ]
  },
  {
   "cell_type": "code",
   "execution_count": null,
   "id": "853aeb23",
   "metadata": {
    "ExecuteTime": {
     "end_time": "2021-08-18T12:00:10.978821Z",
     "start_time": "2021-08-18T11:59:33.556Z"
    }
   },
   "outputs": [],
   "source": [
    "### save the model\n",
    "\n",
    "torch.save(model.state_dict(), 'D:/Data Science projects/pytorch'+ 'chapter8.pt')"
   ]
  },
  {
   "cell_type": "code",
   "execution_count": null,
   "id": "eedacf17",
   "metadata": {
    "ExecuteTime": {
     "end_time": "2021-08-18T12:00:10.982861Z",
     "start_time": "2021-08-18T11:59:33.561Z"
    }
   },
   "outputs": [],
   "source": [
    "loaded_model = Net()\n",
    "loaded_model.load_state_dict(torch.load(data_path+ 'birds_vs_airplanes.pt'))"
   ]
  },
  {
   "cell_type": "code",
   "execution_count": null,
   "id": "794db102",
   "metadata": {
    "ExecuteTime": {
     "end_time": "2021-08-18T12:00:10.986820Z",
     "start_time": "2021-08-18T11:59:33.567Z"
    }
   },
   "outputs": [],
   "source": [
    "device = (torch.device('cuda') if torch.cuda.is_available() else torch.device('cpu'))\n",
    "print(f\"Training on device {device}.\")"
   ]
  },
  {
   "cell_type": "code",
   "execution_count": null,
   "id": "0d6872b5",
   "metadata": {},
   "outputs": [],
   "source": []
  },
  {
   "cell_type": "code",
   "execution_count": null,
   "id": "de957279",
   "metadata": {},
   "outputs": [],
   "source": []
  }
 ],
 "metadata": {
  "kernelspec": {
   "display_name": "Python 3.7 (tf-latest)",
   "language": "python",
   "name": "tf-latest"
  },
  "language_info": {
   "codemirror_mode": {
    "name": "ipython",
    "version": 3
   },
   "file_extension": ".py",
   "mimetype": "text/x-python",
   "name": "python",
   "nbconvert_exporter": "python",
   "pygments_lexer": "ipython3",
   "version": "3.8.8"
  },
  "toc": {
   "base_numbering": 1,
   "nav_menu": {},
   "number_sections": true,
   "sideBar": true,
   "skip_h1_title": false,
   "title_cell": "Table of Contents",
   "title_sidebar": "Contents",
   "toc_cell": false,
   "toc_position": {},
   "toc_section_display": true,
   "toc_window_display": false
  },
  "varInspector": {
   "cols": {
    "lenName": 16,
    "lenType": 16,
    "lenVar": 40
   },
   "kernels_config": {
    "python": {
     "delete_cmd_postfix": "",
     "delete_cmd_prefix": "del ",
     "library": "var_list.py",
     "varRefreshCmd": "print(var_dic_list())"
    },
    "r": {
     "delete_cmd_postfix": ") ",
     "delete_cmd_prefix": "rm(",
     "library": "var_list.r",
     "varRefreshCmd": "cat(var_dic_list()) "
    }
   },
   "types_to_exclude": [
    "module",
    "function",
    "builtin_function_or_method",
    "instance",
    "_Feature"
   ],
   "window_display": false
  }
 },
 "nbformat": 4,
 "nbformat_minor": 5
}
