{
 "cells": [
  {
   "cell_type": "code",
   "execution_count": null,
   "id": "288ca27e",
   "metadata": {
    "ExecuteTime": {
     "end_time": "2021-09-08T07:20:17.017797Z",
     "start_time": "2021-09-08T07:20:16.104805Z"
    }
   },
   "outputs": [],
   "source": [
    "import numpy as np\n",
    "import matplotlib.pyplot as plt\n",
    "import matplotlib as mpl\n",
    "\n",
    "import torch\n",
    "import torch.nn as nn\n",
    "from torchsummary import summary\n",
    "from torch.optim import Adam, SGD\n",
    "from torch.utils.data import DataLoader, Dataset, TensorDataset\n",
    "from torchvision import datasets\n",
    "\n",
    "device = 'cuda' if torch.cuda.is_available() else 'cpu'"
   ]
  },
  {
   "cell_type": "code",
   "execution_count": null,
   "id": "a8266c14",
   "metadata": {
    "ExecuteTime": {
     "end_time": "2021-09-08T07:20:17.033832Z",
     "start_time": "2021-09-08T07:20:17.020803Z"
    }
   },
   "outputs": [],
   "source": [
    "mpl.style.use('dark_background')"
   ]
  },
  {
   "cell_type": "code",
   "execution_count": null,
   "id": "ea63b475",
   "metadata": {
    "ExecuteTime": {
     "end_time": "2021-09-08T07:20:17.081800Z",
     "start_time": "2021-09-08T07:20:17.036801Z"
    }
   },
   "outputs": [],
   "source": [
    "#import the dataset\n",
    "\n",
    "data_folder = '~/data/FMNIST'\n",
    "\n",
    "fmnist = datasets.FashionMNIST(data_folder, download = True, train = True )\n",
    "\n",
    "tr_images = fmnist.data\n",
    "tr_targets = fmnist.targets"
   ]
  },
  {
   "cell_type": "code",
   "execution_count": null,
   "id": "d5e310ec",
   "metadata": {
    "ExecuteTime": {
     "end_time": "2021-09-08T07:20:17.320796Z",
     "start_time": "2021-09-08T07:20:17.084799Z"
    }
   },
   "outputs": [],
   "source": [
    "ix = np.random.randint(len(tr_images))\n",
    "\n",
    "plt.imshow(tr_images[ix], cmap='gray')\n",
    "plt.title(fmnist.classes[tr_targets[ix]])"
   ]
  },
  {
   "cell_type": "markdown",
   "id": "8e17f2db",
   "metadata": {},
   "source": [
    "## Building a CNN"
   ]
  },
  {
   "cell_type": "code",
   "execution_count": null,
   "id": "21e8884c",
   "metadata": {
    "ExecuteTime": {
     "end_time": "2021-09-08T07:20:19.249891Z",
     "start_time": "2021-09-08T07:20:17.322797Z"
    }
   },
   "outputs": [],
   "source": [
    "#Build a toy dataset\n",
    "\n",
    "X_train = torch.tensor([[[[1,2,3,4],[2,3,4,5],\n",
    "                          [5,6,7,8],[1,3,4,5]]],\n",
    "                        [[[-1,2,3,-4],[2,-3,4,5],\n",
    "                          [-5,6,-7,8],[-1,-3,-4,-5]]]]).to(device).float()\n",
    "X_train /= 8 #we are scaling the input dataset so that it has a range between -1 to +1 by dividing the input data by the maximum input value; that is, 8\n",
    "y_train = torch.tensor([0,1]).to(device).float()"
   ]
  },
  {
   "cell_type": "markdown",
   "id": "e06705cc",
   "metadata": {},
   "source": [
    "> ```Note that PyTorch expects inputs to be of the shape N x C x H x W, where N is the number (batch size) of images, C is the number of\n",
    "channels, H is the height, and W is the width of the image```"
   ]
  },
  {
   "cell_type": "code",
   "execution_count": null,
   "id": "b5e4ced2",
   "metadata": {
    "ExecuteTime": {
     "end_time": "2021-09-08T07:20:19.265831Z",
     "start_time": "2021-09-08T07:20:19.251803Z"
    }
   },
   "outputs": [],
   "source": [
    "#define the model and the components to use\n",
    "def get_model():\n",
    "    model = nn.Sequential( nn.Conv2d(1, 1, kernel_size=3),\n",
    "                         nn.MaxPool2d(2),\n",
    "                         nn.ReLU(),\n",
    "                         nn.Flatten(),\n",
    "                         nn.Linear(1,1),\n",
    "                         nn.Sigmoid(),).to(device)\n",
    "    \n",
    "    loss_fn = nn.BCELoss()#BCE = Binary CrossEntropy due to the output being just 0 and 1\n",
    "    optimizer = Adam(model.parameters(), lr= 1e-3)\n",
    "    return model, loss_fn, optimizer"
   ]
  },
  {
   "cell_type": "code",
   "execution_count": null,
   "id": "a85548e5",
   "metadata": {
    "ExecuteTime": {
     "end_time": "2021-09-08T07:20:20.363799Z",
     "start_time": "2021-09-08T07:20:19.267797Z"
    }
   },
   "outputs": [],
   "source": [
    "model, loss_fn, optimizer = get_model()\n",
    "\n",
    "summary(model, X_train)"
   ]
  },
  {
   "cell_type": "code",
   "execution_count": null,
   "id": "34b7f8ff",
   "metadata": {
    "ExecuteTime": {
     "end_time": "2021-09-08T07:20:20.379797Z",
     "start_time": "2021-09-08T07:20:20.367804Z"
    }
   },
   "outputs": [],
   "source": [
    "#get the model and it's components and define the trainig process\n",
    "\n",
    "def train_batch(x, y, model, opt, loss_fn):\n",
    "    model.train()\n",
    "    prediction = model(x)\n",
    "    batch_loss = loss_fn(prediction.squeeze(0), y)\n",
    "    batch_loss.backward()\n",
    "    optimizer.step()\n",
    "    optimizer.zero_grad()\n",
    "    return batch_loss.item()"
   ]
  },
  {
   "cell_type": "code",
   "execution_count": null,
   "id": "8570cd8b",
   "metadata": {
    "ExecuteTime": {
     "end_time": "2021-09-08T07:20:20.395802Z",
     "start_time": "2021-09-08T07:20:20.382817Z"
    }
   },
   "outputs": [],
   "source": [
    "#Define the training DataLoader by specifying the dataset using the TensorDataset method and then loading it using DataLoader:\n",
    "\n",
    "trn_dl = DataLoader(TensorDataset(X_train, y_train)) #load the tensonrs and load them as a dataset"
   ]
  },
  {
   "cell_type": "code",
   "execution_count": null,
   "id": "9f29bfc1",
   "metadata": {
    "ExecuteTime": {
     "end_time": "2021-09-08T07:20:28.064832Z",
     "start_time": "2021-09-08T07:20:20.398800Z"
    }
   },
   "outputs": [],
   "source": [
    "#train for 2000 epochs\n",
    "\n",
    "for epoch in range(2000):\n",
    "    for ix, batch in enumerate(iter(trn_dl)):\n",
    "        x, y = batch\n",
    "        batch_loss = train_batch(x, y, model, optimizer, loss_fn)"
   ]
  },
  {
   "cell_type": "code",
   "execution_count": null,
   "id": "95c64742",
   "metadata": {
    "ExecuteTime": {
     "end_time": "2021-09-08T07:20:28.080835Z",
     "start_time": "2021-09-08T07:20:28.066800Z"
    }
   },
   "outputs": [],
   "source": [
    "#Perform a forward pass on top of the first data point\n",
    "\n",
    "model(X_train[:1])"
   ]
  },
  {
   "cell_type": "markdown",
   "id": "793c9d74",
   "metadata": {},
   "source": [
    "## testing a CNN on the fashion MNIST dataset"
   ]
  },
  {
   "cell_type": "code",
   "execution_count": null,
   "id": "902ff55c",
   "metadata": {
    "ExecuteTime": {
     "end_time": "2021-09-08T07:20:28.096832Z",
     "start_time": "2021-09-08T07:20:28.082798Z"
    }
   },
   "outputs": [],
   "source": [
    "#define the class for the dataset and it's preprocessing\n",
    "class FMNISTDataset(Dataset):\n",
    "    def __init__(self, x, y):\n",
    "        x = x.float()/255\n",
    "        x = x.view(-1, 1, 28, 28)\n",
    "        self.x, self.y = x, y\n",
    "    def __getitem__(self, ix):\n",
    "        x, y = self.x[ix], self.y[ix]\n",
    "        return x.to(device), y.to(device)\n",
    "    def __len__(self):\n",
    "        return len(self.x)"
   ]
  },
  {
   "cell_type": "code",
   "execution_count": null,
   "id": "e704c6b4",
   "metadata": {
    "ExecuteTime": {
     "end_time": "2021-09-08T07:20:28.112798Z",
     "start_time": "2021-09-08T07:20:28.098799Z"
    }
   },
   "outputs": [],
   "source": [
    "def get_data(): \n",
    "    train = FMNISTDataset(tr_images, tr_targets) \n",
    "    trn_dl = DataLoader(train, batch_size=32, shuffle=True)\n",
    "    return trn_dl"
   ]
  },
  {
   "cell_type": "code",
   "execution_count": null,
   "id": "3b920b5f",
   "metadata": {
    "ExecuteTime": {
     "end_time": "2021-09-08T07:20:28.192799Z",
     "start_time": "2021-09-08T07:20:28.114798Z"
    }
   },
   "outputs": [],
   "source": [
    "trn_dl = get_data()"
   ]
  },
  {
   "cell_type": "code",
   "execution_count": null,
   "id": "5691e117",
   "metadata": {
    "ExecuteTime": {
     "end_time": "2021-09-08T07:20:28.208800Z",
     "start_time": "2021-09-08T07:20:28.195800Z"
    }
   },
   "outputs": [],
   "source": [
    "def get_model():\n",
    "    model = nn.Sequential(nn.Conv2d(1, 64, kernel_size=3), #1 biases. 1 input from before\n",
    "                         nn.MaxPool2d(2),\n",
    "                         nn.ReLU(),\n",
    "                         nn.Conv2d(64, 128, kernel_size = 3),\n",
    "                         nn.MaxPool2d(2),\n",
    "                         nn.ReLU(),\n",
    "                         nn.Flatten(),\n",
    "                         nn.Linear(3200, 256),\n",
    "                         nn.ReLU(),\n",
    "                         nn.Linear(256, 10)).to(device)\n",
    "    loss_fn = nn.CrossEntropyLoss()\n",
    "    optimizer = Adam(model.parameters(), lr = 1e-3)\n",
    "    return model, loss_fn, optimizer\n"
   ]
  },
  {
   "cell_type": "code",
   "execution_count": null,
   "id": "8b9fbcf5",
   "metadata": {
    "ExecuteTime": {
     "end_time": "2021-09-08T07:20:28.240798Z",
     "start_time": "2021-09-08T07:20:28.211799Z"
    }
   },
   "outputs": [],
   "source": [
    "#summary the model\n",
    "\n",
    "model, loss_fn, optimizer = get_model()\n",
    "summary(model, torch.zeros(1,1,28,28))"
   ]
  },
  {
   "cell_type": "code",
   "execution_count": null,
   "id": "44a36123",
   "metadata": {
    "ExecuteTime": {
     "end_time": "2021-09-08T07:20:28.256799Z",
     "start_time": "2021-09-08T07:20:28.242798Z"
    }
   },
   "outputs": [],
   "source": [
    "#define the training process\n",
    "def train_batch(x, y, model, opt, loss_fn):\n",
    "    model.train()\n",
    "    prediction = model(x)\n",
    "    batch_loss = loss_fn(prediction.squeeze(0), y ) #squeeze para volver en 1d ( o de 3d a 2d)\n",
    "    batch_loss.backward()\n",
    "    optimizer.step()\n",
    "    optimizer.zero_grad()\n",
    "    return batch_loss.item()"
   ]
  },
  {
   "cell_type": "code",
   "execution_count": null,
   "id": "2ab98e8d",
   "metadata": {
    "ExecuteTime": {
     "end_time": "2021-09-08T07:20:28.271798Z",
     "start_time": "2021-09-08T07:20:28.259798Z"
    }
   },
   "outputs": [],
   "source": [
    "#trn_dl = DataLoader(TensorDataset(X_train, y_train))"
   ]
  },
  {
   "cell_type": "code",
   "execution_count": null,
   "id": "58f4bc64",
   "metadata": {
    "ExecuteTime": {
     "end_time": "2021-09-08T07:20:28.287800Z",
     "start_time": "2021-09-08T07:20:28.274799Z"
    }
   },
   "outputs": [],
   "source": [
    "@torch.no_grad()\n",
    "def accuracy(x, y, model):\n",
    "    model.eval() # <- let's wait till we get to dropout section\n",
    "    # get the prediction matrix for a tensor of `x` images\n",
    "    prediction = model(x)\n",
    "    # compute if the location of maximum in each row coincides \n",
    "    # with ground truth\n",
    "    max_values, argmaxes = prediction.max(-1)\n",
    "    is_correct = argmaxes == y\n",
    "    return is_correct.cpu().numpy().tolist()"
   ]
  },
  {
   "cell_type": "code",
   "execution_count": null,
   "id": "f05bd0ee",
   "metadata": {
    "ExecuteTime": {
     "end_time": "2021-09-08T07:20:28.303795Z",
     "start_time": "2021-09-08T07:20:28.290799Z"
    }
   },
   "outputs": [],
   "source": [
    "losses = []\n",
    "accuracies = []"
   ]
  },
  {
   "cell_type": "code",
   "execution_count": null,
   "id": "88161c4f",
   "metadata": {
    "ExecuteTime": {
     "end_time": "2021-09-08T07:20:28.318798Z",
     "start_time": "2021-09-08T07:20:28.306800Z"
    }
   },
   "outputs": [],
   "source": [
    "# #train loop\n",
    "# for epoch in range(10):\n",
    "#     epoch_losses, epoch_accuracies = [], []\n",
    "#     for ix, batch in enumerate(trn_dl):\n",
    "#         x, y = batch\n",
    "#         batch_loss = train_batch(x, y, model, optimizer, loss_fn)\n",
    "#         epoch_losses.append(batch_loss)\n",
    "#     epoch_loss = np.array(epoch_losses).mean()\n",
    "#     for ix, batch in enumerate(iter(trn_dl)):\n",
    "#         x, y = batch\n",
    "#         is_correct = accuracy(x, y, model)\n",
    "#         epoch_accuracies.extend(is_correct)\n",
    "#     epoch_accuracy = np.mean(epoch_accuracies)\n",
    "#     losses.append(epoch_loss)\n",
    "#     accuracies.append(epoch_accuracy)"
   ]
  },
  {
   "cell_type": "markdown",
   "id": "b06264f2",
   "metadata": {},
   "source": [
    "## Data Augmentation"
   ]
  },
  {
   "cell_type": "code",
   "execution_count": null,
   "id": "ef926da0",
   "metadata": {
    "ExecuteTime": {
     "end_time": "2021-09-08T07:20:28.461810Z",
     "start_time": "2021-09-08T07:20:28.321801Z"
    }
   },
   "outputs": [],
   "source": [
    "ix = np.random.randint(len(tr_images))\n",
    "plt.imshow(tr_images[ix], cmap = 'gray')\n",
    "plt.title(fmnist.classes[tr_targets[ix]])"
   ]
  },
  {
   "cell_type": "code",
   "execution_count": null,
   "id": "9c3d43b9",
   "metadata": {
    "ExecuteTime": {
     "end_time": "2021-09-08T07:20:28.967796Z",
     "start_time": "2021-09-08T07:20:28.468801Z"
    }
   },
   "outputs": [],
   "source": [
    "from imgaug import augmenters as iaa"
   ]
  },
  {
   "cell_type": "code",
   "execution_count": null,
   "id": "119f4859",
   "metadata": {
    "ExecuteTime": {
     "end_time": "2021-09-08T07:20:28.983799Z",
     "start_time": "2021-09-08T07:20:28.971799Z"
    }
   },
   "outputs": [],
   "source": [
    "aug = iaa.Affine(scale=2)\n",
    "\n",
    "# Some of the important parameters in the Affine method are as follows:\n",
    "# --- scale specifies the amount of zoom that is to be done for the image\n",
    "# --- translate_percent specifies the amount of translation as a percentage of the image's height and width\n",
    "# --- translate_px specifies the amount of translation as an absolute number of pixels\n",
    "# --- rotate specifies the amount of rotation that is to be done on the image\n",
    "# --- shear specifies the amount of rotation that is to be done on part of the image"
   ]
  },
  {
   "cell_type": "code",
   "execution_count": null,
   "id": "00bc7dcf",
   "metadata": {
    "ExecuteTime": {
     "end_time": "2021-09-08T07:20:29.126797Z",
     "start_time": "2021-09-08T07:20:28.986801Z"
    }
   },
   "outputs": [],
   "source": [
    "plt.imshow(aug.augment_image(tr_images[0].cpu().detach().numpy()))\n",
    "plt.title('Scaled image')"
   ]
  },
  {
   "cell_type": "code",
   "execution_count": null,
   "id": "3275a0dd",
   "metadata": {
    "ExecuteTime": {
     "end_time": "2021-09-08T07:20:29.270796Z",
     "start_time": "2021-09-08T07:20:29.128797Z"
    }
   },
   "outputs": [],
   "source": [
    "aug = iaa.Affine(translate_px=10)\n",
    "plt.imshow(aug.augment_image(tr_images[0].cpu().detach().numpy()))\n",
    "plt.title('Translated image by 10 pixels')"
   ]
  },
  {
   "cell_type": "code",
   "execution_count": null,
   "id": "c64a5c9e",
   "metadata": {
    "ExecuteTime": {
     "end_time": "2021-09-08T07:20:29.429802Z",
     "start_time": "2021-09-08T07:20:29.274804Z"
    }
   },
   "outputs": [],
   "source": [
    "aug = iaa.Affine(rotate=30)\n",
    "plt.imshow(aug.augment_image(tr_images[0].cpu().detach().numpy()))"
   ]
  },
  {
   "cell_type": "code",
   "execution_count": null,
   "id": "95d53f9e",
   "metadata": {
    "ExecuteTime": {
     "end_time": "2021-09-08T07:20:29.649799Z",
     "start_time": "2021-09-08T07:20:29.431800Z"
    }
   },
   "outputs": [],
   "source": [
    "#The problem with the previous augmentation is that we lose parts of the image that are important (like 80% of the tennis on the rotate Affine function)\n",
    "#for avoiding that but conserving the augmentation we include the parameter 'fit_output'\n",
    "\n",
    "plt.figure(figsize=(20,20))\n",
    "plt.subplot(161)\n",
    "plt.imshow(tr_images[0])\n",
    "plt.title('original')\n",
    "\n",
    "aug = iaa.Affine(rotate= 30,   fit_output= True) #<----here\n",
    "plt.subplot(162)\n",
    "plt.imshow(aug.augment_image(tr_images[0].cpu().detach().numpy()))\n",
    "plt.title('Changed') \n"
   ]
  },
  {
   "cell_type": "code",
   "execution_count": null,
   "id": "778902d1",
   "metadata": {
    "ExecuteTime": {
     "end_time": "2021-09-08T07:20:29.665800Z",
     "start_time": "2021-09-08T07:20:29.652799Z"
    }
   },
   "outputs": [],
   "source": [
    "# Note that when the size of the augmented image increases (for example, when the\n",
    "# image is rotated and there is more to the background), we need to figure out how the new pixels that are not part of the\n",
    "# original image should be filled in."
   ]
  },
  {
   "cell_type": "code",
   "execution_count": null,
   "id": "e78d2546",
   "metadata": {
    "ExecuteTime": {
     "end_time": "2021-09-08T07:20:29.808796Z",
     "start_time": "2021-09-08T07:20:29.668798Z"
    }
   },
   "outputs": [],
   "source": [
    "#The cval parameter solves this issue. It specifies the pixel value of the new pixels that are created when fit_output is True\n",
    "aug = iaa.Affine(rotate=30, fit_output=True, cval=255)\n",
    "plt.imshow(aug.augment_image(tr_images[0].cpu().detach().numpy()), cmap= 'gray')"
   ]
  },
  {
   "cell_type": "code",
   "execution_count": null,
   "id": "f89fe8ad",
   "metadata": {
    "ExecuteTime": {
     "end_time": "2021-09-08T07:20:30.014831Z",
     "start_time": "2021-09-08T07:20:29.810797Z"
    }
   },
   "outputs": [],
   "source": [
    "#changing brightness\n",
    "\n",
    "#there are two ways: multiply and Linearcontrast\n",
    "\n",
    "aug = iaa.Multiply(0.5) #multiplies each pixel value by the value that we specify.\n",
    "\n",
    "plt.imshow(aug.augment_image(tr_images[0].cpu().detach().numpy()), cmap = 'gray', vmin = 0, vmax = 255) #vmin and vmax to see the actual change"
   ]
  },
  {
   "cell_type": "code",
   "execution_count": null,
   "id": "faaf4349",
   "metadata": {
    "ExecuteTime": {
     "end_time": "2021-09-08T07:20:30.157802Z",
     "start_time": "2021-09-08T07:20:30.016800Z"
    }
   },
   "outputs": [],
   "source": [
    "#Linearcontrast adjusts each pixel value based on a formula\n",
    "\n",
    "aug = iaa.LinearContrast(0.5)\n",
    "plt.imshow(aug.augment_image(tr_images[0].cpu().detach().numpy()), cmap='gray', vmin = 0, vmax = 255)\n"
   ]
  },
  {
   "cell_type": "code",
   "execution_count": null,
   "id": "c5aeaa71",
   "metadata": {
    "ExecuteTime": {
     "end_time": "2021-09-08T07:20:30.285813Z",
     "start_time": "2021-09-08T07:20:30.159799Z"
    }
   },
   "outputs": [],
   "source": [
    "#Blur\n",
    "aug = iaa.GaussianBlur(sigma=1)#the greater the sigm value, the more blur\n",
    "plt.imshow(aug.augment_image(tr_images[0].cpu().detach().numpy()), cmap='gray', vmin = 0, vmax = 255)"
   ]
  },
  {
   "cell_type": "code",
   "execution_count": null,
   "id": "111183c2",
   "metadata": {
    "ExecuteTime": {
     "end_time": "2021-09-08T07:20:30.554797Z",
     "start_time": "2021-09-08T07:20:30.288801Z"
    }
   },
   "outputs": [],
   "source": [
    "#Adding noise\n",
    "\n",
    "#It can be done with Dropout and SaltandPepper functions\n",
    "\n",
    "plt.figure(figsize=(10,10))\n",
    "plt.subplot(121)\n",
    "aug = iaa.Dropout(p=0.2) #Drops pixels\n",
    "plt.imshow(aug.augment_image(tr_images[0].cpu().detach().numpy()), cmap='gray', vmin = 0, vmax = 255)\n",
    "plt.title('Random 20% pixel dropout')\n",
    "\n",
    "plt.subplot(122)\n",
    "aug = iaa.SaltAndPepper(0.2) #adds random pixels. Looks like pouring salt and pepper\n",
    "plt.imshow(aug.augment_image(tr_images[0].cpu().detach().numpy()), cmap='gray', \\\n",
    " vmin = 0, vmax = 255)\n",
    "plt.title('Random 20% salt and pepper noise')"
   ]
  },
  {
   "cell_type": "markdown",
   "id": "00894518",
   "metadata": {},
   "source": [
    "### Perfoming sequence of augmentations"
   ]
  },
  {
   "cell_type": "code",
   "execution_count": null,
   "id": "4c3ad4c0",
   "metadata": {
    "ExecuteTime": {
     "end_time": "2021-09-08T07:20:30.570796Z",
     "start_time": "2021-09-08T07:20:30.556809Z"
    }
   },
   "outputs": [],
   "source": [
    "seq = iaa.Sequential([\n",
    "    iaa.Dropout(p=0.2),\n",
    "    iaa.Affine(rotate= (-30,30))\n",
    "],random_order=True)"
   ]
  },
  {
   "cell_type": "code",
   "execution_count": null,
   "id": "9df4c9c4",
   "metadata": {
    "ExecuteTime": {
     "end_time": "2021-09-08T07:20:30.726799Z",
     "start_time": "2021-09-08T07:20:30.572798Z"
    }
   },
   "outputs": [],
   "source": [
    "plt.imshow(seq.augment_image(tr_images[0].cpu().detach().numpy()), cmap='gray', vmin = 0, vmax = 255)\n",
    "plt.title('Image augmented using a \\nrandom order of the two augmentations')\n"
   ]
  },
  {
   "cell_type": "markdown",
   "id": "5e7c6363",
   "metadata": {},
   "source": [
    "### Augment batches of images"
   ]
  },
  {
   "cell_type": "code",
   "execution_count": null,
   "id": "3d72fbd1",
   "metadata": {
    "ExecuteTime": {
     "end_time": "2021-09-08T07:20:30.741818Z",
     "start_time": "2021-09-08T07:20:30.728798Z"
    }
   },
   "outputs": [],
   "source": [
    "# in our FMNIST class we have to add a function that takes batches of data as inputs\n",
    "class FMNISTDataset(Dataset):\n",
    "    \n",
    "    def __init__(self, x, y, aug= None):\n",
    "        self.x, self.y, = x, y\n",
    "        self.aug = aug\n",
    "        \n",
    "    def __getitem__(self, ix):\n",
    "        x, y = self.x[ix], selfy[ix]\n",
    "        return x, y\n",
    "    def __len__(self):\n",
    "        return len(self.x)\n",
    "    \n",
    "    def collate_fn(self, batch): #Specify that augmentation must be done if the augmentation object is provided.\n",
    "        ims, classes = list(zip(*batch))\n",
    "        if self.aug: \n",
    "            ims = self.aug.augment_images(images=ims)\n",
    "            ims = torch.tensor(ims)[:,None,:,:].to(device)/255.\n",
    "            classes = torch.tensor(classes).to(device)\n",
    "            return ims, classes"
   ]
  },
  {
   "cell_type": "code",
   "execution_count": null,
   "id": "2f30551b",
   "metadata": {
    "ExecuteTime": {
     "end_time": "2021-09-08T07:20:30.773806Z",
     "start_time": "2021-09-08T07:20:30.744802Z"
    }
   },
   "outputs": [],
   "source": [
    "# From now on, to leverage the collate_fn method, we'll use a new \n",
    "# argument while creating the DataLoader\n",
    "\n",
    "train = FMNISTDataset(tr_images, tr_targets, aug=aug)\n",
    "\n",
    "trn_dl = DataLoader(train, batch_size=64,     collate_fn=train.collate_fn,   shuffle=True)\n",
    "\n",
    "#Finally, we train the model, as we have been training it so far. B"
   ]
  },
  {
   "cell_type": "markdown",
   "id": "4cd2a880",
   "metadata": {},
   "source": [
    "## Building a CNN for classifying real-world images (cats and dogs)"
   ]
  },
  {
   "cell_type": "code",
   "execution_count": 1,
   "id": "402b7c60",
   "metadata": {
    "ExecuteTime": {
     "end_time": "2021-09-08T07:31:48.859662Z",
     "start_time": "2021-09-08T07:31:47.958601Z"
    }
   },
   "outputs": [],
   "source": [
    "import numpy as np\n",
    "import pandas as pd \n",
    "from glob import glob\n",
    "import cv2\n",
    "import matplotlib.pyplot as plt\n",
    "\n",
    "import torch\n",
    "import torchvision\n",
    "import torch.nn as nn\n",
    "import torch.nn.functional as F\n",
    "\n",
    "from torchvision import transforms, models, datasets\n",
    "from random import shuffle, seed; seed(10);\n",
    "from PIL import Image\n",
    "from torchsummary import summary\n",
    "from torch import optim\n",
    "from torch.utils.data import DataLoader, Dataset, TensorDataset\n",
    "device = 'cuda' if torch.cuda.is_available() else 'cpu'"
   ]
  },
  {
   "cell_type": "code",
   "execution_count": 2,
   "id": "d8865f7a",
   "metadata": {
    "ExecuteTime": {
     "end_time": "2021-09-08T07:31:49.066666Z",
     "start_time": "2021-09-08T07:31:49.053614Z"
    }
   },
   "outputs": [],
   "source": [
    "torch.cuda.empty_cache()"
   ]
  },
  {
   "cell_type": "code",
   "execution_count": 3,
   "id": "9c6c97fc",
   "metadata": {
    "ExecuteTime": {
     "end_time": "2021-09-08T07:31:49.274602Z",
     "start_time": "2021-09-08T07:31:49.261604Z"
    }
   },
   "outputs": [
    {
     "data": {
      "text/plain": [
       "'|===========================================================================|\\n|                  PyTorch CUDA memory summary, device ID 0                 |\\n|---------------------------------------------------------------------------|\\n|            CUDA OOMs: 0            |        cudaMalloc retries: 0         |\\n|===========================================================================|\\n|        Metric         | Cur Usage  | Peak Usage | Tot Alloc  | Tot Freed  |\\n|---------------------------------------------------------------------------|\\n| Allocated memory      |       0 B  |       0 B  |       0 B  |       0 B  |\\n|       from large pool |       0 B  |       0 B  |       0 B  |       0 B  |\\n|       from small pool |       0 B  |       0 B  |       0 B  |       0 B  |\\n|---------------------------------------------------------------------------|\\n| Active memory         |       0 B  |       0 B  |       0 B  |       0 B  |\\n|       from large pool |       0 B  |       0 B  |       0 B  |       0 B  |\\n|       from small pool |       0 B  |       0 B  |       0 B  |       0 B  |\\n|---------------------------------------------------------------------------|\\n| GPU reserved memory   |       0 B  |       0 B  |       0 B  |       0 B  |\\n|       from large pool |       0 B  |       0 B  |       0 B  |       0 B  |\\n|       from small pool |       0 B  |       0 B  |       0 B  |       0 B  |\\n|---------------------------------------------------------------------------|\\n| Non-releasable memory |       0 B  |       0 B  |       0 B  |       0 B  |\\n|       from large pool |       0 B  |       0 B  |       0 B  |       0 B  |\\n|       from small pool |       0 B  |       0 B  |       0 B  |       0 B  |\\n|---------------------------------------------------------------------------|\\n| Allocations           |       0    |       0    |       0    |       0    |\\n|       from large pool |       0    |       0    |       0    |       0    |\\n|       from small pool |       0    |       0    |       0    |       0    |\\n|---------------------------------------------------------------------------|\\n| Active allocs         |       0    |       0    |       0    |       0    |\\n|       from large pool |       0    |       0    |       0    |       0    |\\n|       from small pool |       0    |       0    |       0    |       0    |\\n|---------------------------------------------------------------------------|\\n| GPU reserved segments |       0    |       0    |       0    |       0    |\\n|       from large pool |       0    |       0    |       0    |       0    |\\n|       from small pool |       0    |       0    |       0    |       0    |\\n|---------------------------------------------------------------------------|\\n| Non-releasable allocs |       0    |       0    |       0    |       0    |\\n|       from large pool |       0    |       0    |       0    |       0    |\\n|       from small pool |       0    |       0    |       0    |       0    |\\n|===========================================================================|\\n'"
      ]
     },
     "execution_count": 3,
     "metadata": {},
     "output_type": "execute_result"
    }
   ],
   "source": [
    "torch.cuda.memory_summary(device=None, abbreviated=False)"
   ]
  },
  {
   "cell_type": "code",
   "execution_count": 4,
   "id": "f32ef7b5",
   "metadata": {
    "ExecuteTime": {
     "end_time": "2021-09-08T07:31:49.477602Z",
     "start_time": "2021-09-08T07:31:49.464603Z"
    }
   },
   "outputs": [],
   "source": [
    "#load the data\n",
    "train_data_dir = '/Data Science projects/cats_and_dogs/train'\n",
    "test_data_dir = '/Data Science projects/cats_and_dogs/test'"
   ]
  },
  {
   "cell_type": "code",
   "execution_count": 5,
   "id": "8df6a52b",
   "metadata": {
    "ExecuteTime": {
     "end_time": "2021-09-08T07:31:50.366655Z",
     "start_time": "2021-09-08T07:31:50.358647Z"
    }
   },
   "outputs": [],
   "source": [
    "# 1. Build a class that fetches data from the preceding folders. Then, based on the directory the image corresponds to, provide a label of 1 for \"dog\"\n",
    "# images and a label of 0 for \"cat\" images\n",
    "\n",
    "# 2. ensure that the fetched image has been normalized to a scale between 0 and 1 and permuteit so that channels are provided first (as PyTorch models expect to have\n",
    "# channels specified first\n",
    "\n",
    "class cats_dogs(Dataset):\n",
    "    def __init__(self,folder):\n",
    "        #get the paths\n",
    "        cats = glob(folder+'/*.jpg')\n",
    "        dogs = glob(folder+'/*.jpg')\n",
    "        self.fpaths = cats + dogs #concatenate the file paths onto one list\n",
    "        \n",
    "        #Get random images and assign 1 to dogs\n",
    "        shuffle(self.fpaths)\n",
    "        self.targets = [fpath.split('/')[-1].startswith('dog') for fpath in self.fpaths]\n",
    "        \n",
    "    def __len__(self):\n",
    "        return len(self.fpaths)\n",
    "    #get the image, resize it and permute it so the channels goes firts. REMEMBER, PYTORCH NEED THE CHANNELS FIRST!\n",
    "    def __getitem__(self, ix): \n",
    "        f = self.fpaths[ix]\n",
    "        target = self.targets[ix]\n",
    "        im = (cv2.imread(f)[:,:,::-1]) \n",
    "        im = cv2.resize(im, (224,224))\n",
    "        #normalizar la imagen y cambio del orden del channel(2), height(0), width(1) (recordar ponerlo en gpu y float)\n",
    "        return torch.tensor(im/255).permute(2,0,1).to(device).float(), torch.tensor([target]).float().to(device)\n"
   ]
  },
  {
   "cell_type": "code",
   "execution_count": 6,
   "id": "44d98735",
   "metadata": {
    "ExecuteTime": {
     "end_time": "2021-09-08T07:31:52.430982Z",
     "start_time": "2021-09-08T07:31:50.396643Z"
    }
   },
   "outputs": [],
   "source": [
    "# see if it works\n",
    "data = cats_dogs(test_data_dir)\n",
    "im, label = data[200]"
   ]
  },
  {
   "cell_type": "code",
   "execution_count": 7,
   "id": "de6da60f",
   "metadata": {
    "ExecuteTime": {
     "end_time": "2021-09-08T07:31:52.638023Z",
     "start_time": "2021-09-08T07:31:52.432991Z"
    }
   },
   "outputs": [
    {
     "name": "stdout",
     "output_type": "stream",
     "text": [
      "tensor([0.], device='cuda:0')\n"
     ]
    },
    {
     "data": {
      "image/png": "[encoded data removed]",
      "text/plain": [
       "<Figure size 432x288 with 1 Axes>"
      ]
     },
     "metadata": {
      "needs_background": "light"
     },
     "output_type": "display_data"
    }
   ],
   "source": [
    "plt.imshow(im.permute(1,2,0).cpu()) #changing the images back to H*W*C so matplotlib can see them\n",
    "print(label)"
   ]
  },
  {
   "cell_type": "code",
   "execution_count": 8,
   "id": "b0afc596",
   "metadata": {
    "ExecuteTime": {
     "end_time": "2021-09-08T07:31:53.861256Z",
     "start_time": "2021-09-08T07:31:53.848222Z"
    }
   },
   "outputs": [],
   "source": [
    "#define the model\n",
    "\n",
    "def conv_layer(ni, no, kernel_size, stride=1): #we define a convolutional layer to be used on the final model.\n",
    "                                            #Sequential was used to create the sequence of a conv2d layer. We can do this many times inside various other sequentials\n",
    "    return nn.Sequential(\n",
    "        nn.Conv2d(ni, no, kernel_size, stride),\n",
    "        nn.ReLU(),\n",
    "        nn.BatchNorm2d(no),\n",
    "        nn.MaxPool2d(2)\n",
    "    )\n",
    "\n",
    "#In the preceding code, we are taking the number of input channels (ni), number of output channels (no), kernel_size, and the stride\n",
    "#of filters as input for the conv_layer function"
   ]
  },
  {
   "cell_type": "code",
   "execution_count": 9,
   "id": "61a08338",
   "metadata": {
    "ExecuteTime": {
     "end_time": "2021-09-08T07:31:54.256026Z",
     "start_time": "2021-09-08T07:31:54.242004Z"
    }
   },
   "outputs": [],
   "source": [
    "def get_model():\n",
    "    model = nn.Sequential(conv_layer(3, 64, 3), #3 input since is three channels\n",
    "                          conv_layer(64, 512, 3),\n",
    "                          conv_layer(512, 512, 3),\n",
    "                          conv_layer(512, 512, 3),\n",
    "                          #conv_layer(512, 512, 3),\n",
    "                          #conv_layer(512, 512, 3),\n",
    "                          nn.Flatten(),\n",
    "                          nn.Linear(512, 1),\n",
    "                          nn.Sigmoid()\n",
    "                          ).to(device)\n",
    "    loss_fn = nn.BCELoss()\n",
    "    optimizer = optim.Adam(model.parameters(), lr= 1e-3)\n",
    "    return model, loss_fn, optimizer"
   ]
  },
  {
   "cell_type": "code",
   "execution_count": 10,
   "id": "a0dad6d4",
   "metadata": {
    "ExecuteTime": {
     "end_time": "2021-09-08T07:31:55.644210Z",
     "start_time": "2021-09-08T07:31:54.638212Z"
    }
   },
   "outputs": [
    {
     "name": "stderr",
     "output_type": "stream",
     "text": [
      "C:\\Users\\MSI\\anaconda3\\envs\\tf-latest\\lib\\site-packages\\torch\\nn\\functional.py:718: UserWarning: Named tensors and all their associated APIs are an experimental feature and subject to change. Please do not use them for anything important until they are released as stable. (Triggered internally at  ..\\c10/core/TensorImpl.h:1156.)\n",
      "  return torch.max_pool2d(input, kernel_size, stride, padding, dilation, ceil_mode)\n"
     ]
    },
    {
     "name": "stdout",
     "output_type": "stream",
     "text": [
      "==========================================================================================\n",
      "Layer (type:depth-idx)                   Output Shape              Param #\n",
      "==========================================================================================\n",
      "├─Sequential: 1-1                        [-1, 64, 111, 111]        --\n",
      "|    └─Conv2d: 2-1                       [-1, 64, 222, 222]        1,792\n",
      "|    └─ReLU: 2-2                         [-1, 64, 222, 222]        --\n",
      "|    └─BatchNorm2d: 2-3                  [-1, 64, 222, 222]        128\n",
      "|    └─MaxPool2d: 2-4                    [-1, 64, 111, 111]        --\n",
      "├─Sequential: 1-2                        [-1, 512, 54, 54]         --\n",
      "|    └─Conv2d: 2-5                       [-1, 512, 109, 109]       295,424\n",
      "|    └─ReLU: 2-6                         [-1, 512, 109, 109]       --\n",
      "|    └─BatchNorm2d: 2-7                  [-1, 512, 109, 109]       1,024\n",
      "|    └─MaxPool2d: 2-8                    [-1, 512, 54, 54]         --\n",
      "├─Sequential: 1-3                        [-1, 512, 26, 26]         --\n",
      "|    └─Conv2d: 2-9                       [-1, 512, 52, 52]         2,359,808\n",
      "|    └─ReLU: 2-10                        [-1, 512, 52, 52]         --\n",
      "|    └─BatchNorm2d: 2-11                 [-1, 512, 52, 52]         1,024\n",
      "|    └─MaxPool2d: 2-12                   [-1, 512, 26, 26]         --\n",
      "├─Sequential: 1-4                        [-1, 512, 12, 12]         --\n",
      "|    └─Conv2d: 2-13                      [-1, 512, 24, 24]         2,359,808\n",
      "|    └─ReLU: 2-14                        [-1, 512, 24, 24]         --\n",
      "|    └─BatchNorm2d: 2-15                 [-1, 512, 24, 24]         1,024\n",
      "|    └─MaxPool2d: 2-16                   [-1, 512, 12, 12]         --\n",
      "├─Flatten: 1-5                           [-1, 73728]               --\n",
      "├─Linear: 1-6                            [-1, 1]                   513\n",
      "├─Sigmoid: 1-7                           [-1, 1]                   --\n",
      "==========================================================================================\n",
      "Total params: 5,020,545\n",
      "Trainable params: 5,020,545\n",
      "Non-trainable params: 0\n",
      "Total mult-adds (G): 11.33\n",
      "==========================================================================================\n",
      "Input size (MB): 0.57\n",
      "Forward/backward pass size (MB): 166.57\n",
      "Params size (MB): 19.15\n",
      "Estimated Total Size (MB): 186.30\n",
      "==========================================================================================\n"
     ]
    },
    {
     "data": {
      "text/plain": [
       "==========================================================================================\n",
       "Layer (type:depth-idx)                   Output Shape              Param #\n",
       "==========================================================================================\n",
       "├─Sequential: 1-1                        [-1, 64, 111, 111]        --\n",
       "|    └─Conv2d: 2-1                       [-1, 64, 222, 222]        1,792\n",
       "|    └─ReLU: 2-2                         [-1, 64, 222, 222]        --\n",
       "|    └─BatchNorm2d: 2-3                  [-1, 64, 222, 222]        128\n",
       "|    └─MaxPool2d: 2-4                    [-1, 64, 111, 111]        --\n",
       "├─Sequential: 1-2                        [-1, 512, 54, 54]         --\n",
       "|    └─Conv2d: 2-5                       [-1, 512, 109, 109]       295,424\n",
       "|    └─ReLU: 2-6                         [-1, 512, 109, 109]       --\n",
       "|    └─BatchNorm2d: 2-7                  [-1, 512, 109, 109]       1,024\n",
       "|    └─MaxPool2d: 2-8                    [-1, 512, 54, 54]         --\n",
       "├─Sequential: 1-3                        [-1, 512, 26, 26]         --\n",
       "|    └─Conv2d: 2-9                       [-1, 512, 52, 52]         2,359,808\n",
       "|    └─ReLU: 2-10                        [-1, 512, 52, 52]         --\n",
       "|    └─BatchNorm2d: 2-11                 [-1, 512, 52, 52]         1,024\n",
       "|    └─MaxPool2d: 2-12                   [-1, 512, 26, 26]         --\n",
       "├─Sequential: 1-4                        [-1, 512, 12, 12]         --\n",
       "|    └─Conv2d: 2-13                      [-1, 512, 24, 24]         2,359,808\n",
       "|    └─ReLU: 2-14                        [-1, 512, 24, 24]         --\n",
       "|    └─BatchNorm2d: 2-15                 [-1, 512, 24, 24]         1,024\n",
       "|    └─MaxPool2d: 2-16                   [-1, 512, 12, 12]         --\n",
       "├─Flatten: 1-5                           [-1, 73728]               --\n",
       "├─Linear: 1-6                            [-1, 1]                   513\n",
       "├─Sigmoid: 1-7                           [-1, 1]                   --\n",
       "==========================================================================================\n",
       "Total params: 5,020,545\n",
       "Trainable params: 5,020,545\n",
       "Non-trainable params: 0\n",
       "Total mult-adds (G): 11.33\n",
       "==========================================================================================\n",
       "Input size (MB): 0.57\n",
       "Forward/backward pass size (MB): 166.57\n",
       "Params size (MB): 19.15\n",
       "Estimated Total Size (MB): 186.30\n",
       "=========================================================================================="
      ]
     },
     "execution_count": 10,
     "metadata": {},
     "output_type": "execute_result"
    }
   ],
   "source": [
    "#summarize the model\n",
    "\n",
    "model, loss_fn, optimizer = get_model()\n",
    "summary(model, torch.zeros(1, 3, 224, 224))"
   ]
  },
  {
   "cell_type": "code",
   "execution_count": 11,
   "id": "0db777d0",
   "metadata": {
    "ExecuteTime": {
     "end_time": "2021-09-08T07:32:12.966246Z",
     "start_time": "2021-09-08T07:32:12.954210Z"
    }
   },
   "outputs": [],
   "source": [
    "#Create the get_data function"
   ]
  },
  {
   "cell_type": "code",
   "execution_count": 12,
   "id": "06da5c67",
   "metadata": {
    "ExecuteTime": {
     "end_time": "2021-09-08T07:32:13.678071Z",
     "start_time": "2021-09-08T07:32:13.659052Z"
    }
   },
   "outputs": [],
   "source": [
    "def get_data():\n",
    "    train = cats_dogs(train_data_dir)\n",
    "    trn_dl = DataLoader(train, batch_size = 32, shuffle= True, drop_last=True)\n",
    "    \n",
    "    vals = cats_dogs(test_data_dir)\n",
    "    val_dl = DataLoader(vals, batch_size = 32, shuffle=True, drop_last= True)\n",
    "    \n",
    "    return trn_dl, val_dl\n",
    "\n",
    "# In the preceding code, we are ignoring the last batch of data by specifying that drop_last = True. We're doing this because the last batch might not\n",
    "# be the same size as the other batches (due the amount of data and divided by 32 it might not get a 32 batch but a 29 and that would give an error)"
   ]
  },
  {
   "cell_type": "code",
   "execution_count": 13,
   "id": "9d161d93",
   "metadata": {
    "ExecuteTime": {
     "end_time": "2021-09-08T07:32:14.320084Z",
     "start_time": "2021-09-08T07:32:14.304050Z"
    }
   },
   "outputs": [],
   "source": [
    "def train_batch(x, y, model, opt, loss_fn):\n",
    "    model.train()\n",
    "    prediction = model(x)\n",
    "    batch_loss = loss_fn(prediction, y)\n",
    "    batch_loss.backward()\n",
    "    optimizer.step()\n",
    "    optimizer.zero_grad()\n",
    "    return batch_loss.item()"
   ]
  },
  {
   "cell_type": "code",
   "execution_count": 14,
   "id": "1d849484",
   "metadata": {
    "ExecuteTime": {
     "end_time": "2021-09-08T07:32:15.077070Z",
     "start_time": "2021-09-08T07:32:15.066051Z"
    }
   },
   "outputs": [],
   "source": [
    "#define accuracy and validation loss\n",
    "\n",
    "@torch.no_grad()\n",
    "def accuracy(x, y, model):\n",
    "    prediction = model(x)\n",
    "    is_correct = (prediction > 0.5) == y\n",
    "    return is_correct.cpu().numpy().tolist()\n",
    "\n",
    "@torch.no_grad()\n",
    "def val_loss(x, y, model):\n",
    "    prediction = model(x)\n",
    "    val_loss = loss_fn(prediction, y)\n",
    "    return val_loss.item()"
   ]
  },
  {
   "cell_type": "code",
   "execution_count": 15,
   "id": "e55a167e",
   "metadata": {
    "ExecuteTime": {
     "end_time": "2021-09-08T07:32:16.408502Z",
     "start_time": "2021-09-08T07:32:15.809547Z"
    }
   },
   "outputs": [],
   "source": [
    "trn_dl, val_dl = get_data()\n",
    "model, loss_fn, optimizer = get_model()"
   ]
  },
  {
   "cell_type": "code",
   "execution_count": 16,
   "id": "d226c0bd",
   "metadata": {
    "ExecuteTime": {
     "end_time": "2021-09-08T07:35:10.319496Z",
     "start_time": "2021-09-08T07:35:07.933822Z"
    }
   },
   "outputs": [
    {
     "ename": "RuntimeError",
     "evalue": "CUDA out of memory. Tried to allocate 86.00 MiB (GPU 0; 6.00 GiB total capacity; 4.72 GiB already allocated; 0 bytes free; 4.75 GiB reserved in total by PyTorch)",
     "output_type": "error",
     "traceback": [
      "\u001b[1;31m---------------------------------------------------------------------------\u001b[0m",
      "\u001b[1;31mRuntimeError\u001b[0m                              Traceback (most recent call last)",
      "\u001b[1;32m<ipython-input-16-62fd6fdaf432>\u001b[0m in \u001b[0;36m<module>\u001b[1;34m\u001b[0m\n\u001b[0;32m      7\u001b[0m     \u001b[1;32mfor\u001b[0m \u001b[0mix\u001b[0m\u001b[1;33m,\u001b[0m \u001b[0mbatch\u001b[0m \u001b[1;32min\u001b[0m \u001b[0menumerate\u001b[0m\u001b[1;33m(\u001b[0m\u001b[0miter\u001b[0m\u001b[1;33m(\u001b[0m\u001b[0mtrn_dl\u001b[0m\u001b[1;33m)\u001b[0m\u001b[1;33m)\u001b[0m\u001b[1;33m:\u001b[0m\u001b[1;33m\u001b[0m\u001b[1;33m\u001b[0m\u001b[0m\n\u001b[0;32m      8\u001b[0m         \u001b[0mx\u001b[0m\u001b[1;33m,\u001b[0m \u001b[0my\u001b[0m \u001b[1;33m=\u001b[0m \u001b[0mbatch\u001b[0m\u001b[1;33m\u001b[0m\u001b[1;33m\u001b[0m\u001b[0m\n\u001b[1;32m----> 9\u001b[1;33m         \u001b[0mbatch_loss\u001b[0m \u001b[1;33m=\u001b[0m \u001b[0mtrain_batch\u001b[0m\u001b[1;33m(\u001b[0m\u001b[0mx\u001b[0m\u001b[1;33m,\u001b[0m \u001b[0my\u001b[0m\u001b[1;33m,\u001b[0m \u001b[0mmodel\u001b[0m\u001b[1;33m,\u001b[0m \u001b[0moptimizer\u001b[0m\u001b[1;33m,\u001b[0m \u001b[0mloss_fn\u001b[0m\u001b[1;33m)\u001b[0m\u001b[1;33m\u001b[0m\u001b[1;33m\u001b[0m\u001b[0m\n\u001b[0m\u001b[0;32m     10\u001b[0m         \u001b[0mtrain_epoch_losses\u001b[0m\u001b[1;33m.\u001b[0m\u001b[0mappend\u001b[0m\u001b[1;33m(\u001b[0m\u001b[0mbatch_loss\u001b[0m\u001b[1;33m)\u001b[0m\u001b[1;33m\u001b[0m\u001b[1;33m\u001b[0m\u001b[0m\n\u001b[0;32m     11\u001b[0m     \u001b[0mtrain_epoch_loss\u001b[0m \u001b[1;33m=\u001b[0m \u001b[0mnp\u001b[0m\u001b[1;33m.\u001b[0m\u001b[0marray\u001b[0m\u001b[1;33m(\u001b[0m\u001b[0mtrain_epoch_losses\u001b[0m\u001b[1;33m)\u001b[0m\u001b[1;33m.\u001b[0m\u001b[0mmean\u001b[0m\u001b[1;33m(\u001b[0m\u001b[1;33m)\u001b[0m\u001b[1;33m\u001b[0m\u001b[1;33m\u001b[0m\u001b[0m\n",
      "\u001b[1;32m<ipython-input-13-1189b1b72acb>\u001b[0m in \u001b[0;36mtrain_batch\u001b[1;34m(x, y, model, opt, loss_fn)\u001b[0m\n\u001b[0;32m      1\u001b[0m \u001b[1;32mdef\u001b[0m \u001b[0mtrain_batch\u001b[0m\u001b[1;33m(\u001b[0m\u001b[0mx\u001b[0m\u001b[1;33m,\u001b[0m \u001b[0my\u001b[0m\u001b[1;33m,\u001b[0m \u001b[0mmodel\u001b[0m\u001b[1;33m,\u001b[0m \u001b[0mopt\u001b[0m\u001b[1;33m,\u001b[0m \u001b[0mloss_fn\u001b[0m\u001b[1;33m)\u001b[0m\u001b[1;33m:\u001b[0m\u001b[1;33m\u001b[0m\u001b[1;33m\u001b[0m\u001b[0m\n\u001b[0;32m      2\u001b[0m     \u001b[0mmodel\u001b[0m\u001b[1;33m.\u001b[0m\u001b[0mtrain\u001b[0m\u001b[1;33m(\u001b[0m\u001b[1;33m)\u001b[0m\u001b[1;33m\u001b[0m\u001b[1;33m\u001b[0m\u001b[0m\n\u001b[1;32m----> 3\u001b[1;33m     \u001b[0mprediction\u001b[0m \u001b[1;33m=\u001b[0m \u001b[0mmodel\u001b[0m\u001b[1;33m(\u001b[0m\u001b[0mx\u001b[0m\u001b[1;33m)\u001b[0m\u001b[1;33m\u001b[0m\u001b[1;33m\u001b[0m\u001b[0m\n\u001b[0m\u001b[0;32m      4\u001b[0m     \u001b[0mbatch_loss\u001b[0m \u001b[1;33m=\u001b[0m \u001b[0mloss_fn\u001b[0m\u001b[1;33m(\u001b[0m\u001b[0mprediction\u001b[0m\u001b[1;33m,\u001b[0m \u001b[0my\u001b[0m\u001b[1;33m)\u001b[0m\u001b[1;33m\u001b[0m\u001b[1;33m\u001b[0m\u001b[0m\n\u001b[0;32m      5\u001b[0m     \u001b[0mbatch_loss\u001b[0m\u001b[1;33m.\u001b[0m\u001b[0mbackward\u001b[0m\u001b[1;33m(\u001b[0m\u001b[1;33m)\u001b[0m\u001b[1;33m\u001b[0m\u001b[1;33m\u001b[0m\u001b[0m\n",
      "\u001b[1;32m~\\anaconda3\\envs\\tf-latest\\lib\\site-packages\\torch\\nn\\modules\\module.py\u001b[0m in \u001b[0;36m_call_impl\u001b[1;34m(self, *input, **kwargs)\u001b[0m\n\u001b[0;32m   1049\u001b[0m         if not (self._backward_hooks or self._forward_hooks or self._forward_pre_hooks or _global_backward_hooks\n\u001b[0;32m   1050\u001b[0m                 or _global_forward_hooks or _global_forward_pre_hooks):\n\u001b[1;32m-> 1051\u001b[1;33m             \u001b[1;32mreturn\u001b[0m \u001b[0mforward_call\u001b[0m\u001b[1;33m(\u001b[0m\u001b[1;33m*\u001b[0m\u001b[0minput\u001b[0m\u001b[1;33m,\u001b[0m \u001b[1;33m**\u001b[0m\u001b[0mkwargs\u001b[0m\u001b[1;33m)\u001b[0m\u001b[1;33m\u001b[0m\u001b[1;33m\u001b[0m\u001b[0m\n\u001b[0m\u001b[0;32m   1052\u001b[0m         \u001b[1;31m# Do not call functions when jit is used\u001b[0m\u001b[1;33m\u001b[0m\u001b[1;33m\u001b[0m\u001b[1;33m\u001b[0m\u001b[0m\n\u001b[0;32m   1053\u001b[0m         \u001b[0mfull_backward_hooks\u001b[0m\u001b[1;33m,\u001b[0m \u001b[0mnon_full_backward_hooks\u001b[0m \u001b[1;33m=\u001b[0m \u001b[1;33m[\u001b[0m\u001b[1;33m]\u001b[0m\u001b[1;33m,\u001b[0m \u001b[1;33m[\u001b[0m\u001b[1;33m]\u001b[0m\u001b[1;33m\u001b[0m\u001b[1;33m\u001b[0m\u001b[0m\n",
      "\u001b[1;32m~\\anaconda3\\envs\\tf-latest\\lib\\site-packages\\torch\\nn\\modules\\container.py\u001b[0m in \u001b[0;36mforward\u001b[1;34m(self, input)\u001b[0m\n\u001b[0;32m    137\u001b[0m     \u001b[1;32mdef\u001b[0m \u001b[0mforward\u001b[0m\u001b[1;33m(\u001b[0m\u001b[0mself\u001b[0m\u001b[1;33m,\u001b[0m \u001b[0minput\u001b[0m\u001b[1;33m)\u001b[0m\u001b[1;33m:\u001b[0m\u001b[1;33m\u001b[0m\u001b[1;33m\u001b[0m\u001b[0m\n\u001b[0;32m    138\u001b[0m         \u001b[1;32mfor\u001b[0m \u001b[0mmodule\u001b[0m \u001b[1;32min\u001b[0m \u001b[0mself\u001b[0m\u001b[1;33m:\u001b[0m\u001b[1;33m\u001b[0m\u001b[1;33m\u001b[0m\u001b[0m\n\u001b[1;32m--> 139\u001b[1;33m             \u001b[0minput\u001b[0m \u001b[1;33m=\u001b[0m \u001b[0mmodule\u001b[0m\u001b[1;33m(\u001b[0m\u001b[0minput\u001b[0m\u001b[1;33m)\u001b[0m\u001b[1;33m\u001b[0m\u001b[1;33m\u001b[0m\u001b[0m\n\u001b[0m\u001b[0;32m    140\u001b[0m         \u001b[1;32mreturn\u001b[0m \u001b[0minput\u001b[0m\u001b[1;33m\u001b[0m\u001b[1;33m\u001b[0m\u001b[0m\n\u001b[0;32m    141\u001b[0m \u001b[1;33m\u001b[0m\u001b[0m\n",
      "\u001b[1;32m~\\anaconda3\\envs\\tf-latest\\lib\\site-packages\\torch\\nn\\modules\\module.py\u001b[0m in \u001b[0;36m_call_impl\u001b[1;34m(self, *input, **kwargs)\u001b[0m\n\u001b[0;32m   1049\u001b[0m         if not (self._backward_hooks or self._forward_hooks or self._forward_pre_hooks or _global_backward_hooks\n\u001b[0;32m   1050\u001b[0m                 or _global_forward_hooks or _global_forward_pre_hooks):\n\u001b[1;32m-> 1051\u001b[1;33m             \u001b[1;32mreturn\u001b[0m \u001b[0mforward_call\u001b[0m\u001b[1;33m(\u001b[0m\u001b[1;33m*\u001b[0m\u001b[0minput\u001b[0m\u001b[1;33m,\u001b[0m \u001b[1;33m**\u001b[0m\u001b[0mkwargs\u001b[0m\u001b[1;33m)\u001b[0m\u001b[1;33m\u001b[0m\u001b[1;33m\u001b[0m\u001b[0m\n\u001b[0m\u001b[0;32m   1052\u001b[0m         \u001b[1;31m# Do not call functions when jit is used\u001b[0m\u001b[1;33m\u001b[0m\u001b[1;33m\u001b[0m\u001b[1;33m\u001b[0m\u001b[0m\n\u001b[0;32m   1053\u001b[0m         \u001b[0mfull_backward_hooks\u001b[0m\u001b[1;33m,\u001b[0m \u001b[0mnon_full_backward_hooks\u001b[0m \u001b[1;33m=\u001b[0m \u001b[1;33m[\u001b[0m\u001b[1;33m]\u001b[0m\u001b[1;33m,\u001b[0m \u001b[1;33m[\u001b[0m\u001b[1;33m]\u001b[0m\u001b[1;33m\u001b[0m\u001b[1;33m\u001b[0m\u001b[0m\n",
      "\u001b[1;32m~\\anaconda3\\envs\\tf-latest\\lib\\site-packages\\torch\\nn\\modules\\container.py\u001b[0m in \u001b[0;36mforward\u001b[1;34m(self, input)\u001b[0m\n\u001b[0;32m    137\u001b[0m     \u001b[1;32mdef\u001b[0m \u001b[0mforward\u001b[0m\u001b[1;33m(\u001b[0m\u001b[0mself\u001b[0m\u001b[1;33m,\u001b[0m \u001b[0minput\u001b[0m\u001b[1;33m)\u001b[0m\u001b[1;33m:\u001b[0m\u001b[1;33m\u001b[0m\u001b[1;33m\u001b[0m\u001b[0m\n\u001b[0;32m    138\u001b[0m         \u001b[1;32mfor\u001b[0m \u001b[0mmodule\u001b[0m \u001b[1;32min\u001b[0m \u001b[0mself\u001b[0m\u001b[1;33m:\u001b[0m\u001b[1;33m\u001b[0m\u001b[1;33m\u001b[0m\u001b[0m\n\u001b[1;32m--> 139\u001b[1;33m             \u001b[0minput\u001b[0m \u001b[1;33m=\u001b[0m \u001b[0mmodule\u001b[0m\u001b[1;33m(\u001b[0m\u001b[0minput\u001b[0m\u001b[1;33m)\u001b[0m\u001b[1;33m\u001b[0m\u001b[1;33m\u001b[0m\u001b[0m\n\u001b[0m\u001b[0;32m    140\u001b[0m         \u001b[1;32mreturn\u001b[0m \u001b[0minput\u001b[0m\u001b[1;33m\u001b[0m\u001b[1;33m\u001b[0m\u001b[0m\n\u001b[0;32m    141\u001b[0m \u001b[1;33m\u001b[0m\u001b[0m\n",
      "\u001b[1;32m~\\anaconda3\\envs\\tf-latest\\lib\\site-packages\\torch\\nn\\modules\\module.py\u001b[0m in \u001b[0;36m_call_impl\u001b[1;34m(self, *input, **kwargs)\u001b[0m\n\u001b[0;32m   1049\u001b[0m         if not (self._backward_hooks or self._forward_hooks or self._forward_pre_hooks or _global_backward_hooks\n\u001b[0;32m   1050\u001b[0m                 or _global_forward_hooks or _global_forward_pre_hooks):\n\u001b[1;32m-> 1051\u001b[1;33m             \u001b[1;32mreturn\u001b[0m \u001b[0mforward_call\u001b[0m\u001b[1;33m(\u001b[0m\u001b[1;33m*\u001b[0m\u001b[0minput\u001b[0m\u001b[1;33m,\u001b[0m \u001b[1;33m**\u001b[0m\u001b[0mkwargs\u001b[0m\u001b[1;33m)\u001b[0m\u001b[1;33m\u001b[0m\u001b[1;33m\u001b[0m\u001b[0m\n\u001b[0m\u001b[0;32m   1052\u001b[0m         \u001b[1;31m# Do not call functions when jit is used\u001b[0m\u001b[1;33m\u001b[0m\u001b[1;33m\u001b[0m\u001b[1;33m\u001b[0m\u001b[0m\n\u001b[0;32m   1053\u001b[0m         \u001b[0mfull_backward_hooks\u001b[0m\u001b[1;33m,\u001b[0m \u001b[0mnon_full_backward_hooks\u001b[0m \u001b[1;33m=\u001b[0m \u001b[1;33m[\u001b[0m\u001b[1;33m]\u001b[0m\u001b[1;33m,\u001b[0m \u001b[1;33m[\u001b[0m\u001b[1;33m]\u001b[0m\u001b[1;33m\u001b[0m\u001b[1;33m\u001b[0m\u001b[0m\n",
      "\u001b[1;32m~\\anaconda3\\envs\\tf-latest\\lib\\site-packages\\torch\\nn\\modules\\pooling.py\u001b[0m in \u001b[0;36mforward\u001b[1;34m(self, input)\u001b[0m\n\u001b[0;32m    160\u001b[0m \u001b[1;33m\u001b[0m\u001b[0m\n\u001b[0;32m    161\u001b[0m     \u001b[1;32mdef\u001b[0m \u001b[0mforward\u001b[0m\u001b[1;33m(\u001b[0m\u001b[0mself\u001b[0m\u001b[1;33m,\u001b[0m \u001b[0minput\u001b[0m\u001b[1;33m:\u001b[0m \u001b[0mTensor\u001b[0m\u001b[1;33m)\u001b[0m \u001b[1;33m->\u001b[0m \u001b[0mTensor\u001b[0m\u001b[1;33m:\u001b[0m\u001b[1;33m\u001b[0m\u001b[1;33m\u001b[0m\u001b[0m\n\u001b[1;32m--> 162\u001b[1;33m         return F.max_pool2d(input, self.kernel_size, self.stride,\n\u001b[0m\u001b[0;32m    163\u001b[0m                             \u001b[0mself\u001b[0m\u001b[1;33m.\u001b[0m\u001b[0mpadding\u001b[0m\u001b[1;33m,\u001b[0m \u001b[0mself\u001b[0m\u001b[1;33m.\u001b[0m\u001b[0mdilation\u001b[0m\u001b[1;33m,\u001b[0m \u001b[0mself\u001b[0m\u001b[1;33m.\u001b[0m\u001b[0mceil_mode\u001b[0m\u001b[1;33m,\u001b[0m\u001b[1;33m\u001b[0m\u001b[1;33m\u001b[0m\u001b[0m\n\u001b[0;32m    164\u001b[0m                             self.return_indices)\n",
      "\u001b[1;32m~\\anaconda3\\envs\\tf-latest\\lib\\site-packages\\torch\\_jit_internal.py\u001b[0m in \u001b[0;36mfn\u001b[1;34m(*args, **kwargs)\u001b[0m\n\u001b[0;32m    403\u001b[0m             \u001b[1;32mreturn\u001b[0m \u001b[0mif_true\u001b[0m\u001b[1;33m(\u001b[0m\u001b[1;33m*\u001b[0m\u001b[0margs\u001b[0m\u001b[1;33m,\u001b[0m \u001b[1;33m**\u001b[0m\u001b[0mkwargs\u001b[0m\u001b[1;33m)\u001b[0m\u001b[1;33m\u001b[0m\u001b[1;33m\u001b[0m\u001b[0m\n\u001b[0;32m    404\u001b[0m         \u001b[1;32melse\u001b[0m\u001b[1;33m:\u001b[0m\u001b[1;33m\u001b[0m\u001b[1;33m\u001b[0m\u001b[0m\n\u001b[1;32m--> 405\u001b[1;33m             \u001b[1;32mreturn\u001b[0m \u001b[0mif_false\u001b[0m\u001b[1;33m(\u001b[0m\u001b[1;33m*\u001b[0m\u001b[0margs\u001b[0m\u001b[1;33m,\u001b[0m \u001b[1;33m**\u001b[0m\u001b[0mkwargs\u001b[0m\u001b[1;33m)\u001b[0m\u001b[1;33m\u001b[0m\u001b[1;33m\u001b[0m\u001b[0m\n\u001b[0m\u001b[0;32m    406\u001b[0m \u001b[1;33m\u001b[0m\u001b[0m\n\u001b[0;32m    407\u001b[0m     \u001b[1;32mif\u001b[0m \u001b[0mif_true\u001b[0m\u001b[1;33m.\u001b[0m\u001b[0m__doc__\u001b[0m \u001b[1;32mis\u001b[0m \u001b[1;32mNone\u001b[0m \u001b[1;32mand\u001b[0m \u001b[0mif_false\u001b[0m\u001b[1;33m.\u001b[0m\u001b[0m__doc__\u001b[0m \u001b[1;32mis\u001b[0m \u001b[1;32mnot\u001b[0m \u001b[1;32mNone\u001b[0m\u001b[1;33m:\u001b[0m\u001b[1;33m\u001b[0m\u001b[1;33m\u001b[0m\u001b[0m\n",
      "\u001b[1;32m~\\anaconda3\\envs\\tf-latest\\lib\\site-packages\\torch\\nn\\functional.py\u001b[0m in \u001b[0;36m_max_pool2d\u001b[1;34m(input, kernel_size, stride, padding, dilation, ceil_mode, return_indices)\u001b[0m\n\u001b[0;32m    716\u001b[0m     \u001b[1;32mif\u001b[0m \u001b[0mstride\u001b[0m \u001b[1;32mis\u001b[0m \u001b[1;32mNone\u001b[0m\u001b[1;33m:\u001b[0m\u001b[1;33m\u001b[0m\u001b[1;33m\u001b[0m\u001b[0m\n\u001b[0;32m    717\u001b[0m         \u001b[0mstride\u001b[0m \u001b[1;33m=\u001b[0m \u001b[0mtorch\u001b[0m\u001b[1;33m.\u001b[0m\u001b[0mjit\u001b[0m\u001b[1;33m.\u001b[0m\u001b[0mannotate\u001b[0m\u001b[1;33m(\u001b[0m\u001b[0mList\u001b[0m\u001b[1;33m[\u001b[0m\u001b[0mint\u001b[0m\u001b[1;33m]\u001b[0m\u001b[1;33m,\u001b[0m \u001b[1;33m[\u001b[0m\u001b[1;33m]\u001b[0m\u001b[1;33m)\u001b[0m\u001b[1;33m\u001b[0m\u001b[1;33m\u001b[0m\u001b[0m\n\u001b[1;32m--> 718\u001b[1;33m     \u001b[1;32mreturn\u001b[0m \u001b[0mtorch\u001b[0m\u001b[1;33m.\u001b[0m\u001b[0mmax_pool2d\u001b[0m\u001b[1;33m(\u001b[0m\u001b[0minput\u001b[0m\u001b[1;33m,\u001b[0m \u001b[0mkernel_size\u001b[0m\u001b[1;33m,\u001b[0m \u001b[0mstride\u001b[0m\u001b[1;33m,\u001b[0m \u001b[0mpadding\u001b[0m\u001b[1;33m,\u001b[0m \u001b[0mdilation\u001b[0m\u001b[1;33m,\u001b[0m \u001b[0mceil_mode\u001b[0m\u001b[1;33m)\u001b[0m\u001b[1;33m\u001b[0m\u001b[1;33m\u001b[0m\u001b[0m\n\u001b[0m\u001b[0;32m    719\u001b[0m \u001b[1;33m\u001b[0m\u001b[0m\n\u001b[0;32m    720\u001b[0m \u001b[1;33m\u001b[0m\u001b[0m\n",
      "\u001b[1;31mRuntimeError\u001b[0m: CUDA out of memory. Tried to allocate 86.00 MiB (GPU 0; 6.00 GiB total capacity; 4.72 GiB already allocated; 0 bytes free; 4.75 GiB reserved in total by PyTorch)"
     ]
    }
   ],
   "source": [
    "train_losses, train_accuracies = [], []\n",
    "val_losses, val_accuracies = [], []\n",
    "for epoch in range(5):\n",
    "    train_epoch_losses, train_epoch_accuracies = [], []\n",
    "    val_epoch_accuracies = []\n",
    "    #Loss train\n",
    "    for ix, batch in enumerate(iter(trn_dl)):\n",
    "        x, y = batch\n",
    "        batch_loss = train_batch(x, y, model, optimizer, loss_fn)\n",
    "        train_epoch_losses.append(batch_loss)\n",
    "    train_epoch_loss = np.array(train_epoch_losses).mean()\n",
    "    #Accuracy train\n",
    "    for ix, batch in enumerate(iter(trn_dl)):\n",
    "        x, y = batch\n",
    "        is_correct = accuracy(x, y, model)\n",
    "        train_epoch_accuracies.extend(is_correct)\n",
    "    train_epoch_accuracy = np.mean(train_epoch_accuracies)\n",
    " #accuracy val\n",
    "    for ix, batch in enumerate(iter(val_dl)):\n",
    "        x, y = batch\n",
    "        val_is_correct = accuracy(x, y, model)\n",
    "        val_epoch_accuracies.extend(val_is_correct)\n",
    "    val_epoch_accuracy = np.mean(val_epoch_accuracies)\n",
    "    \n",
    "    train_losses.append(train_epoch_loss)\n",
    "    train_accuracies.append(train_epoch_accuracy)\n",
    "    val_accuracies.append(val_epoch_accuracy)\n"
   ]
  },
  {
   "cell_type": "code",
   "execution_count": 17,
   "id": "6cba3d11",
   "metadata": {
    "ExecuteTime": {
     "end_time": "2021-09-08T07:35:13.174169Z",
     "start_time": "2021-09-08T07:35:13.004171Z"
    }
   },
   "outputs": [
    {
     "ename": "ValueError",
     "evalue": "x and y must have same first dimension, but have shapes (5,) and (0,)",
     "output_type": "error",
     "traceback": [
      "\u001b[1;31m---------------------------------------------------------------------------\u001b[0m",
      "\u001b[1;31mValueError\u001b[0m                                Traceback (most recent call last)",
      "\u001b[1;32m<ipython-input-17-3918401f93dc>\u001b[0m in \u001b[0;36m<module>\u001b[1;34m\u001b[0m\n\u001b[0;32m      4\u001b[0m \u001b[1;32mimport\u001b[0m \u001b[0mmatplotlib\u001b[0m\u001b[1;33m.\u001b[0m\u001b[0mticker\u001b[0m \u001b[1;32mas\u001b[0m \u001b[0mmticker\u001b[0m\u001b[1;33m\u001b[0m\u001b[1;33m\u001b[0m\u001b[0m\n\u001b[0;32m      5\u001b[0m \u001b[0mget_ipython\u001b[0m\u001b[1;33m(\u001b[0m\u001b[1;33m)\u001b[0m\u001b[1;33m.\u001b[0m\u001b[0mrun_line_magic\u001b[0m\u001b[1;33m(\u001b[0m\u001b[1;34m'matplotlib'\u001b[0m\u001b[1;33m,\u001b[0m \u001b[1;34m'inline'\u001b[0m\u001b[1;33m)\u001b[0m\u001b[1;33m\u001b[0m\u001b[1;33m\u001b[0m\u001b[0m\n\u001b[1;32m----> 6\u001b[1;33m \u001b[0mplt\u001b[0m\u001b[1;33m.\u001b[0m\u001b[0mplot\u001b[0m\u001b[1;33m(\u001b[0m\u001b[0mepochs\u001b[0m\u001b[1;33m,\u001b[0m \u001b[0mtrain_accuracies\u001b[0m\u001b[1;33m,\u001b[0m \u001b[1;34m'bo'\u001b[0m\u001b[1;33m,\u001b[0m \u001b[0mlabel\u001b[0m\u001b[1;33m=\u001b[0m\u001b[1;34m'Training accuracy'\u001b[0m\u001b[1;33m)\u001b[0m\u001b[1;33m\u001b[0m\u001b[1;33m\u001b[0m\u001b[0m\n\u001b[0m\u001b[0;32m      7\u001b[0m \u001b[0mplt\u001b[0m\u001b[1;33m.\u001b[0m\u001b[0mplot\u001b[0m\u001b[1;33m(\u001b[0m\u001b[0mepochs\u001b[0m\u001b[1;33m,\u001b[0m \u001b[0mval_accuracies\u001b[0m\u001b[1;33m,\u001b[0m \u001b[1;34m'r'\u001b[0m\u001b[1;33m,\u001b[0m \u001b[0mlabel\u001b[0m\u001b[1;33m=\u001b[0m\u001b[1;34m'Validation accuracy'\u001b[0m\u001b[1;33m)\u001b[0m\u001b[1;33m\u001b[0m\u001b[1;33m\u001b[0m\u001b[0m\n\u001b[0;32m      8\u001b[0m \u001b[0mplt\u001b[0m\u001b[1;33m.\u001b[0m\u001b[0mgca\u001b[0m\u001b[1;33m(\u001b[0m\u001b[1;33m)\u001b[0m\u001b[1;33m.\u001b[0m\u001b[0mxaxis\u001b[0m\u001b[1;33m.\u001b[0m\u001b[0mset_major_locator\u001b[0m\u001b[1;33m(\u001b[0m\u001b[0mmticker\u001b[0m\u001b[1;33m.\u001b[0m\u001b[0mMultipleLocator\u001b[0m\u001b[1;33m(\u001b[0m\u001b[1;36m1\u001b[0m\u001b[1;33m)\u001b[0m\u001b[1;33m)\u001b[0m\u001b[1;33m\u001b[0m\u001b[1;33m\u001b[0m\u001b[0m\n",
      "\u001b[1;32m~\\anaconda3\\envs\\tf-latest\\lib\\site-packages\\matplotlib\\pyplot.py\u001b[0m in \u001b[0;36mplot\u001b[1;34m(scalex, scaley, data, *args, **kwargs)\u001b[0m\n\u001b[0;32m   2986\u001b[0m \u001b[1;33m@\u001b[0m\u001b[0m_copy_docstring_and_deprecators\u001b[0m\u001b[1;33m(\u001b[0m\u001b[0mAxes\u001b[0m\u001b[1;33m.\u001b[0m\u001b[0mplot\u001b[0m\u001b[1;33m)\u001b[0m\u001b[1;33m\u001b[0m\u001b[1;33m\u001b[0m\u001b[0m\n\u001b[0;32m   2987\u001b[0m \u001b[1;32mdef\u001b[0m \u001b[0mplot\u001b[0m\u001b[1;33m(\u001b[0m\u001b[1;33m*\u001b[0m\u001b[0margs\u001b[0m\u001b[1;33m,\u001b[0m \u001b[0mscalex\u001b[0m\u001b[1;33m=\u001b[0m\u001b[1;32mTrue\u001b[0m\u001b[1;33m,\u001b[0m \u001b[0mscaley\u001b[0m\u001b[1;33m=\u001b[0m\u001b[1;32mTrue\u001b[0m\u001b[1;33m,\u001b[0m \u001b[0mdata\u001b[0m\u001b[1;33m=\u001b[0m\u001b[1;32mNone\u001b[0m\u001b[1;33m,\u001b[0m \u001b[1;33m**\u001b[0m\u001b[0mkwargs\u001b[0m\u001b[1;33m)\u001b[0m\u001b[1;33m:\u001b[0m\u001b[1;33m\u001b[0m\u001b[1;33m\u001b[0m\u001b[0m\n\u001b[1;32m-> 2988\u001b[1;33m     return gca().plot(\n\u001b[0m\u001b[0;32m   2989\u001b[0m         \u001b[1;33m*\u001b[0m\u001b[0margs\u001b[0m\u001b[1;33m,\u001b[0m \u001b[0mscalex\u001b[0m\u001b[1;33m=\u001b[0m\u001b[0mscalex\u001b[0m\u001b[1;33m,\u001b[0m \u001b[0mscaley\u001b[0m\u001b[1;33m=\u001b[0m\u001b[0mscaley\u001b[0m\u001b[1;33m,\u001b[0m\u001b[1;33m\u001b[0m\u001b[1;33m\u001b[0m\u001b[0m\n\u001b[0;32m   2990\u001b[0m         **({\"data\": data} if data is not None else {}), **kwargs)\n",
      "\u001b[1;32m~\\anaconda3\\envs\\tf-latest\\lib\\site-packages\\matplotlib\\axes\\_axes.py\u001b[0m in \u001b[0;36mplot\u001b[1;34m(self, scalex, scaley, data, *args, **kwargs)\u001b[0m\n\u001b[0;32m   1603\u001b[0m         \"\"\"\n\u001b[0;32m   1604\u001b[0m         \u001b[0mkwargs\u001b[0m \u001b[1;33m=\u001b[0m \u001b[0mcbook\u001b[0m\u001b[1;33m.\u001b[0m\u001b[0mnormalize_kwargs\u001b[0m\u001b[1;33m(\u001b[0m\u001b[0mkwargs\u001b[0m\u001b[1;33m,\u001b[0m \u001b[0mmlines\u001b[0m\u001b[1;33m.\u001b[0m\u001b[0mLine2D\u001b[0m\u001b[1;33m)\u001b[0m\u001b[1;33m\u001b[0m\u001b[1;33m\u001b[0m\u001b[0m\n\u001b[1;32m-> 1605\u001b[1;33m         \u001b[0mlines\u001b[0m \u001b[1;33m=\u001b[0m \u001b[1;33m[\u001b[0m\u001b[1;33m*\u001b[0m\u001b[0mself\u001b[0m\u001b[1;33m.\u001b[0m\u001b[0m_get_lines\u001b[0m\u001b[1;33m(\u001b[0m\u001b[1;33m*\u001b[0m\u001b[0margs\u001b[0m\u001b[1;33m,\u001b[0m \u001b[0mdata\u001b[0m\u001b[1;33m=\u001b[0m\u001b[0mdata\u001b[0m\u001b[1;33m,\u001b[0m \u001b[1;33m**\u001b[0m\u001b[0mkwargs\u001b[0m\u001b[1;33m)\u001b[0m\u001b[1;33m]\u001b[0m\u001b[1;33m\u001b[0m\u001b[1;33m\u001b[0m\u001b[0m\n\u001b[0m\u001b[0;32m   1606\u001b[0m         \u001b[1;32mfor\u001b[0m \u001b[0mline\u001b[0m \u001b[1;32min\u001b[0m \u001b[0mlines\u001b[0m\u001b[1;33m:\u001b[0m\u001b[1;33m\u001b[0m\u001b[1;33m\u001b[0m\u001b[0m\n\u001b[0;32m   1607\u001b[0m             \u001b[0mself\u001b[0m\u001b[1;33m.\u001b[0m\u001b[0madd_line\u001b[0m\u001b[1;33m(\u001b[0m\u001b[0mline\u001b[0m\u001b[1;33m)\u001b[0m\u001b[1;33m\u001b[0m\u001b[1;33m\u001b[0m\u001b[0m\n",
      "\u001b[1;32m~\\anaconda3\\envs\\tf-latest\\lib\\site-packages\\matplotlib\\axes\\_base.py\u001b[0m in \u001b[0;36m__call__\u001b[1;34m(self, data, *args, **kwargs)\u001b[0m\n\u001b[0;32m    313\u001b[0m                 \u001b[0mthis\u001b[0m \u001b[1;33m+=\u001b[0m \u001b[0margs\u001b[0m\u001b[1;33m[\u001b[0m\u001b[1;36m0\u001b[0m\u001b[1;33m]\u001b[0m\u001b[1;33m,\u001b[0m\u001b[1;33m\u001b[0m\u001b[1;33m\u001b[0m\u001b[0m\n\u001b[0;32m    314\u001b[0m                 \u001b[0margs\u001b[0m \u001b[1;33m=\u001b[0m \u001b[0margs\u001b[0m\u001b[1;33m[\u001b[0m\u001b[1;36m1\u001b[0m\u001b[1;33m:\u001b[0m\u001b[1;33m]\u001b[0m\u001b[1;33m\u001b[0m\u001b[1;33m\u001b[0m\u001b[0m\n\u001b[1;32m--> 315\u001b[1;33m             \u001b[1;32myield\u001b[0m \u001b[1;32mfrom\u001b[0m \u001b[0mself\u001b[0m\u001b[1;33m.\u001b[0m\u001b[0m_plot_args\u001b[0m\u001b[1;33m(\u001b[0m\u001b[0mthis\u001b[0m\u001b[1;33m,\u001b[0m \u001b[0mkwargs\u001b[0m\u001b[1;33m)\u001b[0m\u001b[1;33m\u001b[0m\u001b[1;33m\u001b[0m\u001b[0m\n\u001b[0m\u001b[0;32m    316\u001b[0m \u001b[1;33m\u001b[0m\u001b[0m\n\u001b[0;32m    317\u001b[0m     \u001b[1;32mdef\u001b[0m \u001b[0mget_next_color\u001b[0m\u001b[1;33m(\u001b[0m\u001b[0mself\u001b[0m\u001b[1;33m)\u001b[0m\u001b[1;33m:\u001b[0m\u001b[1;33m\u001b[0m\u001b[1;33m\u001b[0m\u001b[0m\n",
      "\u001b[1;32m~\\anaconda3\\envs\\tf-latest\\lib\\site-packages\\matplotlib\\axes\\_base.py\u001b[0m in \u001b[0;36m_plot_args\u001b[1;34m(self, tup, kwargs, return_kwargs)\u001b[0m\n\u001b[0;32m    499\u001b[0m \u001b[1;33m\u001b[0m\u001b[0m\n\u001b[0;32m    500\u001b[0m         \u001b[1;32mif\u001b[0m \u001b[0mx\u001b[0m\u001b[1;33m.\u001b[0m\u001b[0mshape\u001b[0m\u001b[1;33m[\u001b[0m\u001b[1;36m0\u001b[0m\u001b[1;33m]\u001b[0m \u001b[1;33m!=\u001b[0m \u001b[0my\u001b[0m\u001b[1;33m.\u001b[0m\u001b[0mshape\u001b[0m\u001b[1;33m[\u001b[0m\u001b[1;36m0\u001b[0m\u001b[1;33m]\u001b[0m\u001b[1;33m:\u001b[0m\u001b[1;33m\u001b[0m\u001b[1;33m\u001b[0m\u001b[0m\n\u001b[1;32m--> 501\u001b[1;33m             raise ValueError(f\"x and y must have same first dimension, but \"\n\u001b[0m\u001b[0;32m    502\u001b[0m                              f\"have shapes {x.shape} and {y.shape}\")\n\u001b[0;32m    503\u001b[0m         \u001b[1;32mif\u001b[0m \u001b[0mx\u001b[0m\u001b[1;33m.\u001b[0m\u001b[0mndim\u001b[0m \u001b[1;33m>\u001b[0m \u001b[1;36m2\u001b[0m \u001b[1;32mor\u001b[0m \u001b[0my\u001b[0m\u001b[1;33m.\u001b[0m\u001b[0mndim\u001b[0m \u001b[1;33m>\u001b[0m \u001b[1;36m2\u001b[0m\u001b[1;33m:\u001b[0m\u001b[1;33m\u001b[0m\u001b[1;33m\u001b[0m\u001b[0m\n",
      "\u001b[1;31mValueError\u001b[0m: x and y must have same first dimension, but have shapes (5,) and (0,)"
     ]
    },
    {
     "data": {
      "image/png": "[encoded data removed]",
      "text/plain": [
       "<Figure size 432x288 with 1 Axes>"
      ]
     },
     "metadata": {
      "needs_background": "light"
     },
     "output_type": "display_data"
    }
   ],
   "source": [
    "epochs = np.arange(5)+1\n",
    "import matplotlib.ticker as mtick\n",
    "import matplotlib.pyplot as plt\n",
    "import matplotlib.ticker as mticker\n",
    "%matplotlib inline\n",
    "plt.plot(epochs, train_accuracies, 'bo', label='Training accuracy')\n",
    "plt.plot(epochs, val_accuracies, 'r', label='Validation accuracy')\n",
    "plt.gca().xaxis.set_major_locator(mticker.MultipleLocator(1))\n",
    "plt.title('Training and validation accuracy with 4K data points used for training')\n",
    "plt.xlabel('Epochs')\n",
    "plt.ylabel('Accuracy')\n",
    "plt.gca().set_yticklabels(['{:.0f}%'.format(x*100) for x in plt.gca().get_yticks()])\n",
    "plt.legend()\n",
    "plt.grid('off')\n",
    "plt.show()"
   ]
  },
  {
   "cell_type": "code",
   "execution_count": null,
   "id": "faeebef6",
   "metadata": {
    "ExecuteTime": {
     "end_time": "2021-09-08T07:17:15.207059Z",
     "start_time": "2021-09-08T07:17:15.199059Z"
    }
   },
   "outputs": [],
   "source": []
  },
  {
   "cell_type": "code",
   "execution_count": null,
   "id": "ebfb01ef",
   "metadata": {},
   "outputs": [],
   "source": []
  }
 ],
 "metadata": {
  "kernelspec": {
   "display_name": "Python 3.7 (tf-latest)",
   "language": "python",
   "name": "tf-latest"
  },
  "language_info": {
   "codemirror_mode": {
    "name": "ipython",
    "version": 3
   },
   "file_extension": ".py",
   "mimetype": "text/x-python",
   "name": "python",
   "nbconvert_exporter": "python",
   "pygments_lexer": "ipython3",
   "version": "3.8.8"
  },
  "toc": {
   "base_numbering": 1,
   "nav_menu": {},
   "number_sections": true,
   "sideBar": true,
   "skip_h1_title": false,
   "title_cell": "Table of Contents",
   "title_sidebar": "Contents",
   "toc_cell": false,
   "toc_position": {},
   "toc_section_display": true,
   "toc_window_display": false
  },
  "varInspector": {
   "cols": {
    "lenName": 16,
    "lenType": 16,
    "lenVar": 40
   },
   "kernels_config": {
    "python": {
     "delete_cmd_postfix": "",
     "delete_cmd_prefix": "del ",
     "library": "var_list.py",
     "varRefreshCmd": "print(var_dic_list())"
    },
    "r": {
     "delete_cmd_postfix": ") ",
     "delete_cmd_prefix": "rm(",
     "library": "var_list.r",
     "varRefreshCmd": "cat(var_dic_list()) "
    }
   },
   "types_to_exclude": [
    "module",
    "function",
    "builtin_function_or_method",
    "instance",
    "_Feature"
   ],
   "window_display": false
  }
 },
 "nbformat": 4,
 "nbformat_minor": 5
}
