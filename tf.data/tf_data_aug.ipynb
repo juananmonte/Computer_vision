{
 "cells": [
  {
   "cell_type": "code",
   "execution_count": 1,
   "metadata": {},
   "outputs": [],
   "source": [
    "#--Tensorflow\n",
    "from tensorflow.keras.layers import Conv2D, Activation, Flatten, Dense\n",
    "from tensorflow.keras import Sequential\n",
    "from tensorflow.keras.datasets import cifar10\n",
    "from tensorflow.keras.layers.experimental import preprocessing\n",
    "from tensorflow.data import AUTOTUNE\n",
    "import tensorflow as tf\n",
    "#--Others\n",
    "from imutils import paths\n",
    "import matplotlib.pyplot as plt\n",
    "import os"
   ]
  },
  {
   "cell_type": "code",
   "execution_count": 24,
   "metadata": {},
   "outputs": [],
   "source": [
    "((trainX, trainLabels), (textX, testLabels)) = cifar10.load_data()"
   ]
  },
  {
   "cell_type": "markdown",
   "metadata": {},
   "source": [
    "#### Prepare preprocess function"
   ]
  },
  {
   "cell_type": "code",
   "execution_count": 2,
   "metadata": {},
   "outputs": [],
   "source": [
    "def load_images(imagePath):\n",
    "    #--Image\n",
    "    image = tf.io.read_file(imagePath)\n",
    "    image = tf.io.decode_jpeg(image, channels=3)\n",
    "    image = tf.image.convert_image_dtype(image, dtype=tf.float32)\n",
    "    image = tf.image.resize(image, (156,156))\n",
    "    #--Labels\n",
    "    label = tf.strings.split(imagePath, os.path.sep)[-2]\n",
    "    return(image, label)"
   ]
  },
  {
   "cell_type": "markdown",
   "metadata": {},
   "source": [
    "#### There are two ways to do augmentation: with a series of operations or sequential layers"
   ]
  },
  {
   "cell_type": "code",
   "execution_count": 4,
   "metadata": {},
   "outputs": [],
   "source": [
    "#-----------------------1: Series of operations ----------------------------\n",
    "#This way needs to define the augmentation on the go\n",
    "def augment_using_ops(images, labels):\n",
    "    images = tf.image.random_flip_left_right(images)\n",
    "    images = tf.image.random_flip_up_down(images)\n",
    "    images = tf.image.rot90(images)\n",
    "    return(images, labels)"
   ]
  },
  {
   "cell_type": "code",
   "execution_count": 19,
   "metadata": {},
   "outputs": [],
   "source": [
    "#-----------------------2: Layers ----------------------------\n",
    "def augment_using_layers(images, labels, aug):\n",
    "    images = aug(images)\n",
    "    return (images, labels)"
   ]
  },
  {
   "cell_type": "markdown",
   "metadata": {},
   "source": [
    "#### Define the \"basic\" pipeline"
   ]
  },
  {
   "cell_type": "code",
   "execution_count": 20,
   "metadata": {},
   "outputs": [],
   "source": [
    "batch_size = 8\n",
    "\n",
    "imagePaths = list(paths.list_images(\"G:\\\\pyimage_univ\\\\CNN_tf\\\\tf_data\\\\cancer_data\\\\trainig\"))\n",
    "\n",
    "ds = tf.data.Dataset.from_tensor_slices(imagePaths)\n",
    "ds = (ds.shuffle(len(imagePaths), 42).map(load_images, num_parallel_calls=AUTOTUNE).\n",
    "        cache().batch(batch_size))"
   ]
  },
  {
   "cell_type": "code",
   "execution_count": 25,
   "metadata": {},
   "outputs": [],
   "source": [
    "#define augmentation for using layers\n",
    "trainAug = Sequential([\n",
    "\tpreprocessing.Rescaling(scale=1.0 / 255),\n",
    "\tpreprocessing.RandomFlip(\"horizontal_and_vertical\"),\n",
    "\tpreprocessing.RandomZoom(\n",
    "\t\theight_factor=(-0.05, -0.15),\n",
    "\t\twidth_factor=(-0.05, -0.15)),\n",
    "\tpreprocessing.RandomRotation(0.3)\n",
    "])\n",
    "\n",
    "testAug = Sequential([\n",
    "\tpreprocessing.Rescaling(scale=1.0 / 255)\n",
    "])"
   ]
  },
  {
   "cell_type": "code",
   "execution_count": 27,
   "metadata": {},
   "outputs": [],
   "source": [
    "#### Add augmentation for layers\n",
    "trainDS = tf.data.Dataset.from_tensor_slices((trainX, trainLabels))\n",
    "trainDS = (\n",
    "\ttrainDS\n",
    "\t.shuffle(batch_size * 100)\n",
    "\t.batch(batch_size)\n",
    "\t.map(lambda x, y: (trainAug(x), y),num_parallel_calls=tf.data.AUTOTUNE)\n",
    "\t.prefetch(tf.data.AUTOTUNE)\n",
    ")\n",
    "\n",
    "#### And for test too\n",
    "testDS = tf.data.Dataset.from_tensor_slices((textX, testLabels))\n",
    "testDS = (\n",
    "\ttestDS\n",
    "\t.batch(batch_size)\n",
    "\t.map(lambda x, y: (testAug(x), y), num_parallel_calls=tf.data.AUTOTUNE)\n",
    "\t.prefetch(tf.data.AUTOTUNE)\n",
    ")"
   ]
  },
  {
   "cell_type": "code",
   "execution_count": null,
   "metadata": {},
   "outputs": [],
   "source": [
    "model = Sequential()\n",
    "model.add(Conv2D(32, (3, 3), padding=\"same\",\n",
    "\tinput_shape=(32, 32, 3)))\n",
    "model.add(Activation(\"relu\"))\n",
    "model.add(Flatten())\n",
    "model.add(Dense(10))\n",
    "model.add(Activation(\"softmax\"))"
   ]
  },
  {
   "cell_type": "code",
   "execution_count": null,
   "metadata": {},
   "outputs": [],
   "source": [
    "model.compile(loss=\"sparse_categorical_crossentropy\",\n",
    "\toptimizer=\"sgd\", metrics=[\"accuracy\"])\n",
    "\n",
    "# train the model\n",
    "print(\"[INFO] training model...\")\n",
    "H = model.fit(\n",
    "\ttrainDS,\n",
    "\tvalidation_data=testDS,\n",
    "\tepochs=EPOCHS)"
   ]
  },
  {
   "cell_type": "code",
   "execution_count": null,
   "metadata": {},
   "outputs": [],
   "source": [
    "(loss, accuracy) = model.evaluate(testDS)"
   ]
  }
 ],
 "metadata": {
  "kernelspec": {
   "display_name": "Python 3.9.0 ('gpu-dl')",
   "language": "python",
   "name": "python3"
  },
  "language_info": {
   "codemirror_mode": {
    "name": "ipython",
    "version": 3
   },
   "file_extension": ".py",
   "mimetype": "text/x-python",
   "name": "python",
   "nbconvert_exporter": "python",
   "pygments_lexer": "ipython3",
   "version": "3.9.0"
  },
  "orig_nbformat": 4,
  "vscode": {
   "interpreter": {
    "hash": "244139a3b14db007857c14f2a9d5e3b23ed735eeb2f38a787fb45edaaccb434b"
   }
  }
 },
 "nbformat": 4,
 "nbformat_minor": 2
}
