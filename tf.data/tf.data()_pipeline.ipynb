{
 "cells": [
  {
   "cell_type": "code",
   "execution_count": 57,
   "metadata": {},
   "outputs": [],
   "source": [
    "#---tensorflow\n",
    "from tensorflow.keras.callbacks import EarlyStopping, ModelCheckpoint\n",
    "from tensorflow.keras.optimizers import Adagrad\n",
    "from tensorflow.keras.utils import to_categorical\n",
    "from tensorflow.data import AUTOTUNE\n",
    "import tensorflow as tf\n",
    "from tensorflow.keras.models import load_model\n",
    "#---sklearn\n",
    "from sklearn.metrics import classification_report\n",
    "#---others\n",
    "from cancer_model.cancernet import CancerNet\n",
    "from imutils import paths\n",
    "import imutils \n",
    "import random\n",
    "import cv2\n",
    "import shutil\n",
    "import os\n",
    "import matplotlib.pyplot as plt\n",
    "import splitfolders\n",
    "import numpy as np"
   ]
  },
  {
   "cell_type": "markdown",
   "metadata": {},
   "source": [
    "#### Check some pictures"
   ]
  },
  {
   "cell_type": "code",
   "execution_count": 4,
   "metadata": {},
   "outputs": [],
   "source": [
    "main_path = \"....tf_data\\\\cancer_data\\\\\"\n",
    "all_images = list(paths.list_images(main_path))"
   ]
  },
  {
   "cell_type": "code",
   "execution_count": 5,
   "metadata": {},
   "outputs": [],
   "source": [
    "random_images = random.choices(all_images, k=3)\n",
    "for i in random_images:\n",
    "    random_image = cv2.imread(i)\n",
    "    random_image = cv2.cvtColor(random_image, cv2.COLOR_BGR2RGB)\n",
    "    random_image = imutils.resize(random_image, height=200)\n",
    "    cv2.imshow(\"example\", random_image)\n",
    "    cv2.waitKey(0)\n",
    "cv2.destroyAllWindows()"
   ]
  },
  {
   "cell_type": "markdown",
   "metadata": {},
   "source": [
    "##### Divide the data in train, test and validation (easier than train_test_split and goes easy on disk)"
   ]
  },
  {
   "cell_type": "code",
   "execution_count": 6,
   "metadata": {},
   "outputs": [],
   "source": [
    "random.shuffle(all_images)"
   ]
  },
  {
   "cell_type": "code",
   "execution_count": 7,
   "metadata": {},
   "outputs": [],
   "source": [
    "#train and test\n",
    "i = int(len(all_images)*0.8) #80% of data to training set\n",
    "trainData = all_images[:i]\n",
    "testData = all_images[i:]"
   ]
  },
  {
   "cell_type": "code",
   "execution_count": 8,
   "metadata": {},
   "outputs": [],
   "source": [
    "#validation\n",
    "i = int(len(trainData)*0.1)\n",
    "validData = trainData[:i]\n",
    "trainData = trainData[i:]"
   ]
  },
  {
   "cell_type": "markdown",
   "metadata": {},
   "source": [
    "```another option is to use the splitfolders library which divides the data in training, validation and test on folders on disk. But this only applies when we have all data together in one folder```"
   ]
  },
  {
   "cell_type": "markdown",
   "metadata": {},
   "source": [
    "#### Extract labels and images and save them on folders"
   ]
  },
  {
   "cell_type": "code",
   "execution_count": 9,
   "metadata": {},
   "outputs": [],
   "source": [
    "#---Folders\n",
    "train_path = main_path+\"trainig\"\n",
    "valid_path = main_path+\"validation\"\n",
    "test_path = main_path+\"test\""
   ]
  },
  {
   "cell_type": "code",
   "execution_count": 30,
   "metadata": {},
   "outputs": [],
   "source": [
    "datasets = [(\"training\", trainData, train_path ), (\"validation\", validData, valid_path), \n",
    "            (\"testing\", testData, test_path)]"
   ]
  },
  {
   "cell_type": "code",
   "execution_count": 42,
   "metadata": {},
   "outputs": [],
   "source": [
    "for (dtype, imagepaths, out_path) in datasets:\n",
    "    if not os.path.exists(out_path):\n",
    "        os.makedirs(out_path)\n",
    "\n",
    "    for inputpath in imagepaths:\n",
    "        filename = inputpath.split(os.path.sep)[-1]\n",
    "        label = inputpath.split(os.path.sep)[-2] #os.path.sep refers to the \"\\\\\"symbols.So split by this.\n",
    "    \n",
    "        #Now that we have the labels, create a path with those labels for each dataset\n",
    "        labelPath = os.path.sep.join([out_path, label])\n",
    "\n",
    "        if not os.path.exists(labelPath):\n",
    "            os.makedirs(labelPath)\n",
    "\n",
    "        #get the image and copy it to the respecive label folder\n",
    "        p = os.path.sep.join([labelPath, filename])\n",
    "        shutil.copy2(inputpath, p)        "
   ]
  },
  {
   "cell_type": "markdown",
   "metadata": {},
   "source": [
    "### Deploy tf.data() pipeline"
   ]
  },
  {
   "cell_type": "code",
   "execution_count": 10,
   "metadata": {},
   "outputs": [],
   "source": [
    "#---------First! create the preprocess pipeline\n",
    "def load_images(imagePath):\n",
    "    #--images\n",
    "    image = tf.io.read_file(imagePath)\n",
    "    image = tf.io.decode_png(image, channels=3)\n",
    "    image = tf.image.convert_image_dtype(image, dtype= tf.float32)\n",
    "    image = tf.image.resize(image, (48,48))\n",
    "    #--labels\n",
    "    label = tf.strings.split(imagePath, os.path.sep)[-2]\n",
    "    label = tf.strings.to_number(label, tf.int32)\n",
    "    return(image, label)"
   ]
  },
  {
   "cell_type": "code",
   "execution_count": 11,
   "metadata": {},
   "outputs": [],
   "source": [
    "@tf.function #the decorator makes this function able to be used with tf on the pipeline\n",
    "#-------Second! the augmentation pipeline\n",
    "def augment(image, label):\n",
    "    image = tf.image.random_flip_up_down(image)\n",
    "    image = tf.image.random_flip_left_right(image)\n",
    "    return(image, label)"
   ]
  },
  {
   "cell_type": "code",
   "execution_count": 45,
   "metadata": {},
   "outputs": [],
   "source": [
    "#quickly get the images from each path\n",
    "trainPaths = list(paths.list_images(train_path))\n",
    "valPaths = list(paths.list_images(valid_path))\n",
    "testPaths = list(paths.list_images(test_path))"
   ]
  },
  {
   "cell_type": "code",
   "execution_count": 46,
   "metadata": {},
   "outputs": [],
   "source": [
    "#Construct the tf.data() pipeline for each dataset\n",
    "\n",
    "#--Train\n",
    "trainDS = tf.data.Dataset.from_tensor_slices(trainPaths)\n",
    "trainDS = (trainDS.shuffle(len(trainPaths)).map(load_images, num_parallel_calls=AUTOTUNE)\n",
    "          .map(augment, num_parallel_calls=AUTOTUNE).cache().batch(64).prefetch(AUTOTUNE)\n",
    "          )\n",
    "\n",
    "#--Validation\n",
    "valDS = tf.data.Dataset.from_tensor_slices(valPaths)\n",
    "valDS = (valDS.map(load_images, num_parallel_calls=AUTOTUNE).cache().batch(64).prefetch(AUTOTUNE))\n",
    "#Remember not to shuffle and augment the validation and test, but as always we have to preprocess it\n",
    "\n",
    "#--Test\n",
    "testDS = tf.data.Dataset.from_tensor_slices(testPaths)\n",
    "testDS = (testDS.map(load_images, num_parallel_calls=AUTOTUNE).cache().batch(64).prefetch(AUTOTUNE))"
   ]
  },
  {
   "cell_type": "markdown",
   "metadata": {},
   "source": [
    "#### Deal with the class imabalance"
   ]
  },
  {
   "cell_type": "code",
   "execution_count": 47,
   "metadata": {},
   "outputs": [],
   "source": [
    "#Get the labels from the training set\n",
    "train_paths = list(paths.list_images(train_path))\n",
    "trainlabels = [int(p.split(os.path.sep)[-2]) for p in train_paths]\n",
    "#turn them into categorical values so we can count them (one hot encoding)\n",
    "trainlabels = to_categorical(trainlabels)\n",
    "classTotals = trainlabels.sum(axis=0)\n",
    "classWeight = {}\n",
    "#loop though all the sum and calculate the weights\n",
    "for i in range(0, len(classTotals)):\n",
    "    classWeight[i] = classTotals.max()/classTotals[i]"
   ]
  },
  {
   "cell_type": "code",
   "execution_count": 48,
   "metadata": {},
   "outputs": [
    {
     "data": {
      "text/plain": [
       "{0: 1.0, 1: 2.5295885}"
      ]
     },
     "execution_count": 48,
     "metadata": {},
     "output_type": "execute_result"
    }
   ],
   "source": [
    "classWeight"
   ]
  },
  {
   "cell_type": "markdown",
   "metadata": {},
   "source": [
    "##### Initialize the model"
   ]
  },
  {
   "cell_type": "code",
   "execution_count": 50,
   "metadata": {},
   "outputs": [],
   "source": [
    "# initialize our CancerNet model and compile it\n",
    "model = CancerNet.build(width=48, height=48, depth=3, classes=1)\n",
    "opt = Adagrad(learning_rate=1e-2, decay=1e-2/40)\n",
    "model.compile(loss=\"binary_crossentropy\", optimizer=opt, metrics=[\"accuracy\"])"
   ]
  },
  {
   "cell_type": "markdown",
   "metadata": {},
   "source": [
    "#### Before fit, define some callbacks"
   ]
  },
  {
   "cell_type": "code",
   "execution_count": 51,
   "metadata": {},
   "outputs": [],
   "source": [
    "early_s = EarlyStopping(monitor=\"val_loss\", patience = 10, restore_best_weights=True)\n",
    "save_b = ModelCheckpoint(filepath =\"...tf_data\\\\cancer_model\",\n",
    "                         monitor=\"val_loss\", verbose = 1 )\n",
    "callbacks = [early_s, save_b]"
   ]
  },
  {
   "cell_type": "code",
   "execution_count": 52,
   "metadata": {},
   "outputs": [
    {
     "name": "stdout",
     "output_type": "stream",
     "text": [
      "Epoch 1/60\n",
      "313/313 [==============================] - 17s 45ms/step - loss: 0.7542 - accuracy: 0.7666 - val_loss: 3.8432 - val_accuracy: 0.2932\n",
      "\n",
      "Epoch 00001: saving model to G:\\pyimage_univ\\CNN_tf\\tf_data\\cancer_model\n",
      "INFO:tensorflow:Assets written to: G:\\pyimage_univ\\CNN_tf\\tf_data\\cancer_model\\assets\n",
      "Epoch 2/60\n",
      "313/313 [==============================] - 14s 44ms/step - loss: 0.6458 - accuracy: 0.8065 - val_loss: 1.2227 - val_accuracy: 0.4874\n",
      "\n",
      "Epoch 00002: saving model to G:\\pyimage_univ\\CNN_tf\\tf_data\\cancer_model\n",
      "INFO:tensorflow:Assets written to: G:\\pyimage_univ\\CNN_tf\\tf_data\\cancer_model\\assets\n",
      "Epoch 3/60\n",
      "313/313 [==============================] - 10s 32ms/step - loss: 0.6201 - accuracy: 0.8146 - val_loss: 0.6001 - val_accuracy: 0.7320\n",
      "\n",
      "Epoch 00003: saving model to G:\\pyimage_univ\\CNN_tf\\tf_data\\cancer_model\n",
      "INFO:tensorflow:Assets written to: G:\\pyimage_univ\\CNN_tf\\tf_data\\cancer_model\\assets\n",
      "Epoch 4/60\n",
      "313/313 [==============================] - 10s 33ms/step - loss: 0.5995 - accuracy: 0.8221 - val_loss: 0.4373 - val_accuracy: 0.8302\n",
      "\n",
      "Epoch 00004: saving model to G:\\pyimage_univ\\CNN_tf\\tf_data\\cancer_model\n",
      "INFO:tensorflow:Assets written to: G:\\pyimage_univ\\CNN_tf\\tf_data\\cancer_model\\assets\n",
      "Epoch 5/60\n",
      "313/313 [==============================] - 10s 33ms/step - loss: 0.5833 - accuracy: 0.8274 - val_loss: 0.4610 - val_accuracy: 0.7941\n",
      "\n",
      "Epoch 00005: saving model to G:\\pyimage_univ\\CNN_tf\\tf_data\\cancer_model\n",
      "INFO:tensorflow:Assets written to: G:\\pyimage_univ\\CNN_tf\\tf_data\\cancer_model\\assets\n",
      "Epoch 6/60\n",
      "313/313 [==============================] - 10s 33ms/step - loss: 0.5709 - accuracy: 0.8320 - val_loss: 0.5081 - val_accuracy: 0.7941\n",
      "\n",
      "Epoch 00006: saving model to G:\\pyimage_univ\\CNN_tf\\tf_data\\cancer_model\n",
      "INFO:tensorflow:Assets written to: G:\\pyimage_univ\\CNN_tf\\tf_data\\cancer_model\\assets\n",
      "Epoch 7/60\n",
      "313/313 [==============================] - 10s 32ms/step - loss: 0.5644 - accuracy: 0.8345 - val_loss: 0.4940 - val_accuracy: 0.7955\n",
      "\n",
      "Epoch 00007: saving model to G:\\pyimage_univ\\CNN_tf\\tf_data\\cancer_model\n",
      "INFO:tensorflow:Assets written to: G:\\pyimage_univ\\CNN_tf\\tf_data\\cancer_model\\assets\n",
      "Epoch 8/60\n",
      "313/313 [==============================] - 10s 32ms/step - loss: 0.5608 - accuracy: 0.8354 - val_loss: 0.4553 - val_accuracy: 0.8216\n",
      "\n",
      "Epoch 00008: saving model to G:\\pyimage_univ\\CNN_tf\\tf_data\\cancer_model\n",
      "INFO:tensorflow:Assets written to: G:\\pyimage_univ\\CNN_tf\\tf_data\\cancer_model\\assets\n",
      "Epoch 9/60\n",
      "313/313 [==============================] - 10s 33ms/step - loss: 0.5553 - accuracy: 0.8339 - val_loss: 0.4889 - val_accuracy: 0.7946\n",
      "\n",
      "Epoch 00009: saving model to G:\\pyimage_univ\\CNN_tf\\tf_data\\cancer_model\n",
      "INFO:tensorflow:Assets written to: G:\\pyimage_univ\\CNN_tf\\tf_data\\cancer_model\\assets\n",
      "Epoch 10/60\n",
      "313/313 [==============================] - 12s 36ms/step - loss: 0.5505 - accuracy: 0.8387 - val_loss: 0.4230 - val_accuracy: 0.8338\n",
      "\n",
      "Epoch 00010: saving model to G:\\pyimage_univ\\CNN_tf\\tf_data\\cancer_model\n",
      "INFO:tensorflow:Assets written to: G:\\pyimage_univ\\CNN_tf\\tf_data\\cancer_model\\assets\n",
      "Epoch 11/60\n",
      "313/313 [==============================] - 11s 34ms/step - loss: 0.5480 - accuracy: 0.8362 - val_loss: 0.4832 - val_accuracy: 0.7955\n",
      "\n",
      "Epoch 00011: saving model to G:\\pyimage_univ\\CNN_tf\\tf_data\\cancer_model\n",
      "INFO:tensorflow:Assets written to: G:\\pyimage_univ\\CNN_tf\\tf_data\\cancer_model\\assets\n",
      "Epoch 12/60\n",
      "313/313 [==============================] - 10s 33ms/step - loss: 0.5415 - accuracy: 0.8396 - val_loss: 0.4680 - val_accuracy: 0.8126\n",
      "\n",
      "Epoch 00012: saving model to G:\\pyimage_univ\\CNN_tf\\tf_data\\cancer_model\n",
      "INFO:tensorflow:Assets written to: G:\\pyimage_univ\\CNN_tf\\tf_data\\cancer_model\\assets\n",
      "Epoch 13/60\n",
      "313/313 [==============================] - 11s 34ms/step - loss: 0.5385 - accuracy: 0.8392 - val_loss: 0.4763 - val_accuracy: 0.8059\n",
      "\n",
      "Epoch 00013: saving model to G:\\pyimage_univ\\CNN_tf\\tf_data\\cancer_model\n",
      "INFO:tensorflow:Assets written to: G:\\pyimage_univ\\CNN_tf\\tf_data\\cancer_model\\assets\n",
      "Epoch 14/60\n",
      "313/313 [==============================] - 11s 34ms/step - loss: 0.5376 - accuracy: 0.8405 - val_loss: 0.4768 - val_accuracy: 0.8086\n",
      "\n",
      "Epoch 00014: saving model to G:\\pyimage_univ\\CNN_tf\\tf_data\\cancer_model\n",
      "INFO:tensorflow:Assets written to: G:\\pyimage_univ\\CNN_tf\\tf_data\\cancer_model\\assets\n",
      "Epoch 15/60\n",
      "313/313 [==============================] - 10s 33ms/step - loss: 0.5321 - accuracy: 0.8418 - val_loss: 0.4262 - val_accuracy: 0.8333\n",
      "\n",
      "Epoch 00015: saving model to G:\\pyimage_univ\\CNN_tf\\tf_data\\cancer_model\n",
      "INFO:tensorflow:Assets written to: G:\\pyimage_univ\\CNN_tf\\tf_data\\cancer_model\\assets\n",
      "Epoch 16/60\n",
      "313/313 [==============================] - 10s 33ms/step - loss: 0.5319 - accuracy: 0.8430 - val_loss: 0.4717 - val_accuracy: 0.8018\n",
      "\n",
      "Epoch 00016: saving model to G:\\pyimage_univ\\CNN_tf\\tf_data\\cancer_model\n",
      "INFO:tensorflow:Assets written to: G:\\pyimage_univ\\CNN_tf\\tf_data\\cancer_model\\assets\n",
      "Epoch 17/60\n",
      "313/313 [==============================] - 10s 33ms/step - loss: 0.5305 - accuracy: 0.8419 - val_loss: 0.4907 - val_accuracy: 0.7950\n",
      "\n",
      "Epoch 00017: saving model to G:\\pyimage_univ\\CNN_tf\\tf_data\\cancer_model\n",
      "INFO:tensorflow:Assets written to: G:\\pyimage_univ\\CNN_tf\\tf_data\\cancer_model\\assets\n",
      "Epoch 18/60\n",
      "313/313 [==============================] - 10s 31ms/step - loss: 0.5288 - accuracy: 0.8438 - val_loss: 0.4529 - val_accuracy: 0.8198\n",
      "\n",
      "Epoch 00018: saving model to G:\\pyimage_univ\\CNN_tf\\tf_data\\cancer_model\n",
      "INFO:tensorflow:Assets written to: G:\\pyimage_univ\\CNN_tf\\tf_data\\cancer_model\\assets\n",
      "Epoch 19/60\n",
      "313/313 [==============================] - 11s 34ms/step - loss: 0.5224 - accuracy: 0.8460 - val_loss: 0.4657 - val_accuracy: 0.8081\n",
      "\n",
      "Epoch 00019: saving model to G:\\pyimage_univ\\CNN_tf\\tf_data\\cancer_model\n",
      "INFO:tensorflow:Assets written to: G:\\pyimage_univ\\CNN_tf\\tf_data\\cancer_model\\assets\n",
      "Epoch 20/60\n",
      "313/313 [==============================] - 11s 34ms/step - loss: 0.5217 - accuracy: 0.8474 - val_loss: 0.4622 - val_accuracy: 0.8108\n",
      "\n",
      "Epoch 00020: saving model to G:\\pyimage_univ\\CNN_tf\\tf_data\\cancer_model\n",
      "INFO:tensorflow:Assets written to: G:\\pyimage_univ\\CNN_tf\\tf_data\\cancer_model\\assets\n"
     ]
    }
   ],
   "source": [
    "#No need for batch size since is defined on the tf.data() pipeline\n",
    "H = model.fit(x = trainDS, validation_data=valDS, class_weight=classWeight, epochs= 60, callbacks=callbacks, verbose=1)"
   ]
  },
  {
   "cell_type": "markdown",
   "metadata": {},
   "source": [
    "#### Graph the results"
   ]
  },
  {
   "cell_type": "code",
   "execution_count": 53,
   "metadata": {},
   "outputs": [
    {
     "data": {
      "image/png": "[encoded data removed]",
      "text/plain": [
       "<Figure size 432x288 with 1 Axes>"
      ]
     },
     "metadata": {
      "needs_background": "light"
     },
     "output_type": "display_data"
    }
   ],
   "source": [
    "plt.figure()\n",
    "plt.plot(H.history[\"loss\"], label=\"train_loss\")\n",
    "plt.plot(H.history[\"val_loss\"], label=\"val_loss\")\n",
    "plt.plot(H.history[\"accuracy\"], label=\"train_acc\")\n",
    "plt.plot(H.history[\"val_accuracy\"], label=\"val_acc\")\n",
    "plt.title(\"training loss and accuracy\")\n",
    "plt.xlabel(\"Epoch #\")\n",
    "plt.ylabel(\"loss/accuracy\")\n",
    "plt.legend(loc=\"lower left\")\n",
    "plt.show()"
   ]
  },
  {
   "cell_type": "markdown",
   "metadata": {},
   "source": [
    "#### Further evaluate the model"
   ]
  },
  {
   "cell_type": "code",
   "execution_count": 55,
   "metadata": {},
   "outputs": [],
   "source": [
    "#First, get labels of the test set\n",
    "test_paths = list(paths.list_images(test_path))\n",
    "testlabels = [int(p.split(os.path.sep)[-2]) for p in test_paths]\n",
    "#turn them into categorical values so we can count them (one hot encoding)\n",
    "testlabels = to_categorical(testlabels)"
   ]
  },
  {
   "cell_type": "code",
   "execution_count": 56,
   "metadata": {},
   "outputs": [
    {
     "name": "stdout",
     "output_type": "stream",
     "text": [
      "              precision    recall  f1-score   support\n",
      "\n",
      "           0       0.75      1.00      0.86     41781\n",
      "           1       0.00      0.00      0.00     13724\n",
      "\n",
      "    accuracy                           0.75     55505\n",
      "   macro avg       0.38      0.50      0.43     55505\n",
      "weighted avg       0.57      0.75      0.65     55505\n",
      "\n"
     ]
    },
    {
     "name": "stderr",
     "output_type": "stream",
     "text": [
      "c:\\Users\\juana\\.conda\\envs\\gpu-dl\\lib\\site-packages\\sklearn\\metrics\\_classification.py:1308: UndefinedMetricWarning: Precision and F-score are ill-defined and being set to 0.0 in labels with no predicted samples. Use `zero_division` parameter to control this behavior.\n",
      "  _warn_prf(average, modifier, msg_start, len(result))\n",
      "c:\\Users\\juana\\.conda\\envs\\gpu-dl\\lib\\site-packages\\sklearn\\metrics\\_classification.py:1308: UndefinedMetricWarning: Precision and F-score are ill-defined and being set to 0.0 in labels with no predicted samples. Use `zero_division` parameter to control this behavior.\n",
      "  _warn_prf(average, modifier, msg_start, len(result))\n",
      "c:\\Users\\juana\\.conda\\envs\\gpu-dl\\lib\\site-packages\\sklearn\\metrics\\_classification.py:1308: UndefinedMetricWarning: Precision and F-score are ill-defined and being set to 0.0 in labels with no predicted samples. Use `zero_division` parameter to control this behavior.\n",
      "  _warn_prf(average, modifier, msg_start, len(result))\n"
     ]
    }
   ],
   "source": [
    "predictions = model.predict(testDS)\n",
    "\n",
    "print(classification_report(testlabels.argmax(axis=1), predictions.argmax(axis=1), target_names=[\"0\", \"1\"]))"
   ]
  },
  {
   "cell_type": "code",
   "execution_count": 60,
   "metadata": {},
   "outputs": [],
   "source": [
    "model = load_model(\"...tf_data\\\\cancer_model\")"
   ]
  },
  {
   "cell_type": "code",
   "execution_count": 64,
   "metadata": {},
   "outputs": [
    {
     "name": "stderr",
     "output_type": "stream",
     "text": [
      "c:\\Users\\juana\\.conda\\envs\\gpu-dl\\lib\\site-packages\\tensorflow\\python\\keras\\engine\\sequential.py:455: UserWarning: `model.predict_classes()` is deprecated and will be removed after 2021-01-01. Please use instead:* `np.argmax(model.predict(x), axis=-1)`,   if your model does multi-class classification   (e.g. if it uses a `softmax` last-layer activation).* `(model.predict(x) > 0.5).astype(\"int32\")`,   if your model does binary classification   (e.g. if it uses a `sigmoid` last-layer activation).\n",
      "  warnings.warn('`model.predict_classes()` is deprecated and '\n"
     ]
    },
    {
     "data": {
      "text/plain": [
       "array([[0],\n",
       "       [0],\n",
       "       [0],\n",
       "       ...,\n",
       "       [0],\n",
       "       [1],\n",
       "       [1]])"
      ]
     },
     "execution_count": 64,
     "metadata": {},
     "output_type": "execute_result"
    }
   ],
   "source": [
    "model.predict_classes(testDS)"
   ]
  },
  {
   "cell_type": "markdown",
   "metadata": {},
   "source": [
    "#### For one image"
   ]
  },
  {
   "cell_type": "code",
   "execution_count": 70,
   "metadata": {},
   "outputs": [
    {
     "ename": "NotFoundError",
     "evalue": "NewRandomAccessFile failed to Create/Open: ...cancer_data\\test\\1\\9041_idx5_x2851_y1951_class1.png : The system cannot find the path specified.\r\n; No such process [Op:ReadFile]",
     "output_type": "error",
     "traceback": [
      "\u001b[1;31m---------------------------------------------------------------------------\u001b[0m",
      "\u001b[1;31mNotFoundError\u001b[0m                             Traceback (most recent call last)",
      "\u001b[1;32m~\\AppData\\Local\\Temp/ipykernel_10412/4028636300.py\u001b[0m in \u001b[0;36m<module>\u001b[1;34m\u001b[0m\n\u001b[0;32m      3\u001b[0m \u001b[1;31m# (and since we used the tf.data() pipeline we have to pass the image through the same process):\u001b[0m\u001b[1;33m\u001b[0m\u001b[1;33m\u001b[0m\u001b[1;33m\u001b[0m\u001b[0m\n\u001b[0;32m      4\u001b[0m \u001b[0mimage\u001b[0m \u001b[1;33m=\u001b[0m \u001b[1;34m\"...cancer_data\\\\test\\\\1\\\\9041_idx5_x2851_y1951_class1.png\"\u001b[0m\u001b[1;33m\u001b[0m\u001b[1;33m\u001b[0m\u001b[0m\n\u001b[1;32m----> 5\u001b[1;33m \u001b[0mimage\u001b[0m \u001b[1;33m=\u001b[0m \u001b[0mtf\u001b[0m\u001b[1;33m.\u001b[0m\u001b[0mio\u001b[0m\u001b[1;33m.\u001b[0m\u001b[0mread_file\u001b[0m\u001b[1;33m(\u001b[0m\u001b[0mimage\u001b[0m\u001b[1;33m)\u001b[0m\u001b[1;33m\u001b[0m\u001b[1;33m\u001b[0m\u001b[0m\n\u001b[0m\u001b[0;32m      6\u001b[0m \u001b[0mimage\u001b[0m \u001b[1;33m=\u001b[0m \u001b[0mtf\u001b[0m\u001b[1;33m.\u001b[0m\u001b[0mimage\u001b[0m\u001b[1;33m.\u001b[0m\u001b[0mdecode_jpeg\u001b[0m\u001b[1;33m(\u001b[0m\u001b[0mimage\u001b[0m\u001b[1;33m,\u001b[0m \u001b[0mchannels\u001b[0m\u001b[1;33m=\u001b[0m\u001b[1;36m3\u001b[0m\u001b[1;33m)\u001b[0m\u001b[1;33m\u001b[0m\u001b[1;33m\u001b[0m\u001b[0m\n\u001b[0;32m      7\u001b[0m \u001b[0mimage\u001b[0m \u001b[1;33m=\u001b[0m \u001b[0mtf\u001b[0m\u001b[1;33m.\u001b[0m\u001b[0mimage\u001b[0m\u001b[1;33m.\u001b[0m\u001b[0mresize\u001b[0m\u001b[1;33m(\u001b[0m\u001b[0mimage\u001b[0m\u001b[1;33m,\u001b[0m \u001b[1;33m[\u001b[0m\u001b[1;36m48\u001b[0m\u001b[1;33m,\u001b[0m \u001b[1;36m48\u001b[0m\u001b[1;33m]\u001b[0m\u001b[1;33m)\u001b[0m\u001b[1;33m\u001b[0m\u001b[1;33m\u001b[0m\u001b[0m\n",
      "\u001b[1;32mc:\\Users\\juana\\.conda\\envs\\gpu-dl\\lib\\site-packages\\tensorflow\\python\\ops\\io_ops.py\u001b[0m in \u001b[0;36mread_file\u001b[1;34m(filename, name)\u001b[0m\n\u001b[0;32m    136\u001b[0m     \u001b[0mA\u001b[0m \u001b[0mtensor\u001b[0m \u001b[0mof\u001b[0m \u001b[0mdtype\u001b[0m \u001b[1;34m\"string\"\u001b[0m\u001b[1;33m,\u001b[0m \u001b[1;32mwith\u001b[0m \u001b[0mthe\u001b[0m \u001b[0mfile\u001b[0m \u001b[0mcontents\u001b[0m\u001b[1;33m.\u001b[0m\u001b[1;33m\u001b[0m\u001b[1;33m\u001b[0m\u001b[0m\n\u001b[0;32m    137\u001b[0m   \"\"\"\n\u001b[1;32m--> 138\u001b[1;33m   \u001b[1;32mreturn\u001b[0m \u001b[0mgen_io_ops\u001b[0m\u001b[1;33m.\u001b[0m\u001b[0mread_file\u001b[0m\u001b[1;33m(\u001b[0m\u001b[0mfilename\u001b[0m\u001b[1;33m,\u001b[0m \u001b[0mname\u001b[0m\u001b[1;33m)\u001b[0m\u001b[1;33m\u001b[0m\u001b[1;33m\u001b[0m\u001b[0m\n\u001b[0m\u001b[0;32m    139\u001b[0m \u001b[1;33m\u001b[0m\u001b[0m\n\u001b[0;32m    140\u001b[0m \u001b[1;33m\u001b[0m\u001b[0m\n",
      "\u001b[1;32mc:\\Users\\juana\\.conda\\envs\\gpu-dl\\lib\\site-packages\\tensorflow\\python\\ops\\gen_io_ops.py\u001b[0m in \u001b[0;36mread_file\u001b[1;34m(filename, name)\u001b[0m\n\u001b[0;32m    552\u001b[0m       \u001b[1;32mpass\u001b[0m\u001b[1;33m\u001b[0m\u001b[1;33m\u001b[0m\u001b[0m\n\u001b[0;32m    553\u001b[0m     \u001b[1;32mtry\u001b[0m\u001b[1;33m:\u001b[0m\u001b[1;33m\u001b[0m\u001b[1;33m\u001b[0m\u001b[0m\n\u001b[1;32m--> 554\u001b[1;33m       return read_file_eager_fallback(\n\u001b[0m\u001b[0;32m    555\u001b[0m           filename, name=name, ctx=_ctx)\n\u001b[0;32m    556\u001b[0m     \u001b[1;32mexcept\u001b[0m \u001b[0m_core\u001b[0m\u001b[1;33m.\u001b[0m\u001b[0m_SymbolicException\u001b[0m\u001b[1;33m:\u001b[0m\u001b[1;33m\u001b[0m\u001b[1;33m\u001b[0m\u001b[0m\n",
      "\u001b[1;32mc:\\Users\\juana\\.conda\\envs\\gpu-dl\\lib\\site-packages\\tensorflow\\python\\ops\\gen_io_ops.py\u001b[0m in \u001b[0;36mread_file_eager_fallback\u001b[1;34m(filename, name, ctx)\u001b[0m\n\u001b[0;32m    575\u001b[0m   \u001b[0m_inputs_flat\u001b[0m \u001b[1;33m=\u001b[0m \u001b[1;33m[\u001b[0m\u001b[0mfilename\u001b[0m\u001b[1;33m]\u001b[0m\u001b[1;33m\u001b[0m\u001b[1;33m\u001b[0m\u001b[0m\n\u001b[0;32m    576\u001b[0m   \u001b[0m_attrs\u001b[0m \u001b[1;33m=\u001b[0m \u001b[1;32mNone\u001b[0m\u001b[1;33m\u001b[0m\u001b[1;33m\u001b[0m\u001b[0m\n\u001b[1;32m--> 577\u001b[1;33m   _result = _execute.execute(b\"ReadFile\", 1, inputs=_inputs_flat,\n\u001b[0m\u001b[0;32m    578\u001b[0m                              attrs=_attrs, ctx=ctx, name=name)\n\u001b[0;32m    579\u001b[0m   \u001b[1;32mif\u001b[0m \u001b[0m_execute\u001b[0m\u001b[1;33m.\u001b[0m\u001b[0mmust_record_gradient\u001b[0m\u001b[1;33m(\u001b[0m\u001b[1;33m)\u001b[0m\u001b[1;33m:\u001b[0m\u001b[1;33m\u001b[0m\u001b[1;33m\u001b[0m\u001b[0m\n",
      "\u001b[1;32mc:\\Users\\juana\\.conda\\envs\\gpu-dl\\lib\\site-packages\\tensorflow\\python\\eager\\execute.py\u001b[0m in \u001b[0;36mquick_execute\u001b[1;34m(op_name, num_outputs, inputs, attrs, ctx, name)\u001b[0m\n\u001b[0;32m     57\u001b[0m   \u001b[1;32mtry\u001b[0m\u001b[1;33m:\u001b[0m\u001b[1;33m\u001b[0m\u001b[1;33m\u001b[0m\u001b[0m\n\u001b[0;32m     58\u001b[0m     \u001b[0mctx\u001b[0m\u001b[1;33m.\u001b[0m\u001b[0mensure_initialized\u001b[0m\u001b[1;33m(\u001b[0m\u001b[1;33m)\u001b[0m\u001b[1;33m\u001b[0m\u001b[1;33m\u001b[0m\u001b[0m\n\u001b[1;32m---> 59\u001b[1;33m     tensors = pywrap_tfe.TFE_Py_Execute(ctx._handle, device_name, op_name,\n\u001b[0m\u001b[0;32m     60\u001b[0m                                         inputs, attrs, num_outputs)\n\u001b[0;32m     61\u001b[0m   \u001b[1;32mexcept\u001b[0m \u001b[0mcore\u001b[0m\u001b[1;33m.\u001b[0m\u001b[0m_NotOkStatusException\u001b[0m \u001b[1;32mas\u001b[0m \u001b[0me\u001b[0m\u001b[1;33m:\u001b[0m\u001b[1;33m\u001b[0m\u001b[1;33m\u001b[0m\u001b[0m\n",
      "\u001b[1;31mNotFoundError\u001b[0m: NewRandomAccessFile failed to Create/Open: ...cancer_data\\test\\1\\9041_idx5_x2851_y1951_class1.png : The system cannot find the path specified.\r\n; No such process [Op:ReadFile]"
     ]
    }
   ],
   "source": [
    "#All the predict functions in Keras expect batch of inputs. Therefore, since you are doing prediction on one single image, \n",
    "# you need to add an axis at the beginning of image tensor to represent the batch axis \n",
    "# (and since we used the tf.data() pipeline we have to pass the image through the same process):\n",
    "image = \"...cancer_data\\\\test\\\\1\\\\9041_idx5_x2851_y1951_class1.png\"\n",
    "image = tf.io.read_file(image)\n",
    "image = tf.image.decode_jpeg(image, channels=3)\n",
    "image = tf.image.resize(image, [48, 48])\n",
    "image = tf.expand_dims(image, axis=0)   # the shape would be (1, 48, 48, 3)  \n",
    "print(np.argmax(model.predict(image), axis=-1))"
   ]
  },
  {
   "cell_type": "code",
   "execution_count": null,
   "metadata": {},
   "outputs": [],
   "source": []
  }
 ],
 "metadata": {
  "kernelspec": {
   "display_name": "Python 3.9.0 ('gpu-dl')",
   "language": "python",
   "name": "python3"
  },
  "language_info": {
   "codemirror_mode": {
    "name": "ipython",
    "version": 3
   },
   "file_extension": ".py",
   "mimetype": "text/x-python",
   "name": "python",
   "nbconvert_exporter": "python",
   "pygments_lexer": "ipython3",
   "version": "3.9.0"
  },
  "orig_nbformat": 4,
  "vscode": {
   "interpreter": {
    "hash": "244139a3b14db007857c14f2a9d5e3b23ed735eeb2f38a787fb45edaaccb434b"
   }
  }
 },
 "nbformat": 4,
 "nbformat_minor": 2
}
