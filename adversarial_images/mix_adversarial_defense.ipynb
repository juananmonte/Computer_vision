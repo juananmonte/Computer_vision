{
 "cells": [
  {
   "cell_type": "markdown",
   "metadata": {},
   "source": [
    "This training process is slightly more complex since we are sampling from our training set and generating adversarial examples on the fly. Still, the benefit is that the model can:\n",
    "\n",
    "- Learn patterns from the original training set\n",
    "- Learn patterns from the adversarial examples\n",
    "- Since the model has now been trained on adversarial examples, it will be more robust and generalize better when presented with adversarial images."
   ]
  },
  {
   "cell_type": "code",
   "execution_count": 20,
   "metadata": {},
   "outputs": [],
   "source": [
    "#---Utilities\n",
    "from pyimagesearch.simplecnn import SimpleCNN \n",
    "from pyimagesearch.datagen_mix import generate_mixed_adversarial_batch\n",
    "from pyimagesearch.datagen import generate_adversarial_batch\n",
    "#---Tensorflow\n",
    "from tensorflow.keras.optimizers import Adam\n",
    "from tensorflow.keras.utils import to_categorical\n",
    "from tensorflow.keras.datasets import mnist\n",
    "#---Others\n",
    "import numpy as np"
   ]
  },
  {
   "cell_type": "code",
   "execution_count": 2,
   "metadata": {},
   "outputs": [],
   "source": [
    "(trainX, trainY), (testX, testY) = mnist.load_data()\n",
    "trainX = trainX / 255.0\n",
    "testX = testX / 255.0"
   ]
  },
  {
   "cell_type": "code",
   "execution_count": 3,
   "metadata": {},
   "outputs": [],
   "source": [
    "trainX = np.expand_dims(trainX, axis=-1)\n",
    "testX = np.expand_dims(testX, axis=-1)"
   ]
  },
  {
   "cell_type": "code",
   "execution_count": 4,
   "metadata": {},
   "outputs": [],
   "source": [
    "trainY = to_categorical(trainY, 10)\n",
    "testY = to_categorical(testY, 10)"
   ]
  },
  {
   "cell_type": "code",
   "execution_count": 5,
   "metadata": {},
   "outputs": [
    {
     "name": "stderr",
     "output_type": "stream",
     "text": [
      "2022-09-26 16:52:26.622218: E tensorflow/stream_executor/cuda/cuda_driver.cc:271] failed call to cuInit: CUDA_ERROR_UNKNOWN: unknown error\n",
      "2022-09-26 16:52:26.622268: I tensorflow/stream_executor/cuda/cuda_diagnostics.cc:169] retrieving CUDA diagnostic information for host: juan-GS63VR-7RF\n",
      "2022-09-26 16:52:26.622284: I tensorflow/stream_executor/cuda/cuda_diagnostics.cc:176] hostname: juan-GS63VR-7RF\n",
      "2022-09-26 16:52:26.622394: I tensorflow/stream_executor/cuda/cuda_diagnostics.cc:200] libcuda reported version is: 515.65.1\n",
      "2022-09-26 16:52:26.622435: I tensorflow/stream_executor/cuda/cuda_diagnostics.cc:204] kernel reported version is: 515.65.1\n",
      "2022-09-26 16:52:26.622449: I tensorflow/stream_executor/cuda/cuda_diagnostics.cc:310] kernel version seems to match DSO: 515.65.1\n",
      "2022-09-26 16:52:26.622989: I tensorflow/core/platform/cpu_feature_guard.cc:193] This TensorFlow binary is optimized with oneAPI Deep Neural Network Library (oneDNN) to use the following CPU instructions in performance-critical operations:  AVX2 FMA\n",
      "To enable them in other operations, rebuild TensorFlow with the appropriate compiler flags.\n",
      "/home/juan/anaconda3/envs/gpu-dl/lib/python3.9/site-packages/keras/optimizers/optimizer_v2/adam.py:110: UserWarning: The `lr` argument is deprecated, use `learning_rate` instead.\n",
      "  super(Adam, self).__init__(name, **kwargs)\n"
     ]
    }
   ],
   "source": [
    "model = SimpleCNN.build(width=28, height=28, depth=1, classes=10)\n",
    "model.compile(loss=\"categorical_crossentropy\", optimizer=Adam(lr=1e-3), metrics=[\"accuracy\"])"
   ]
  },
  {
   "cell_type": "code",
   "execution_count": 7,
   "metadata": {},
   "outputs": [
    {
     "name": "stdout",
     "output_type": "stream",
     "text": [
      "Epoch 1/10\n",
      "938/938 [==============================] - 10s 11ms/step - loss: 0.0278 - accuracy: 0.9909 - val_loss: 0.0479 - val_accuracy: 0.9858\n",
      "Epoch 2/10\n",
      "938/938 [==============================] - 10s 11ms/step - loss: 0.0249 - accuracy: 0.9919 - val_loss: 0.0419 - val_accuracy: 0.9876\n",
      "Epoch 3/10\n",
      "938/938 [==============================] - 11s 12ms/step - loss: 0.0221 - accuracy: 0.9929 - val_loss: 0.0371 - val_accuracy: 0.9876\n",
      "Epoch 4/10\n",
      "938/938 [==============================] - 11s 12ms/step - loss: 0.0180 - accuracy: 0.9941 - val_loss: 0.0415 - val_accuracy: 0.9879\n",
      "Epoch 5/10\n",
      "938/938 [==============================] - 11s 12ms/step - loss: 0.0173 - accuracy: 0.9941 - val_loss: 0.0411 - val_accuracy: 0.9889\n",
      "Epoch 6/10\n",
      "938/938 [==============================] - 12s 12ms/step - loss: 0.0162 - accuracy: 0.9945 - val_loss: 0.0536 - val_accuracy: 0.9871\n",
      "Epoch 7/10\n",
      "938/938 [==============================] - 11s 12ms/step - loss: 0.0150 - accuracy: 0.9951 - val_loss: 0.0413 - val_accuracy: 0.9892\n",
      "Epoch 8/10\n",
      "938/938 [==============================] - 12s 12ms/step - loss: 0.0135 - accuracy: 0.9953 - val_loss: 0.0401 - val_accuracy: 0.9890\n",
      "Epoch 9/10\n",
      "938/938 [==============================] - 11s 12ms/step - loss: 0.0126 - accuracy: 0.9957 - val_loss: 0.0542 - val_accuracy: 0.9862\n",
      "Epoch 10/10\n",
      "938/938 [==============================] - 11s 12ms/step - loss: 0.0114 - accuracy: 0.9960 - val_loss: 0.0414 - val_accuracy: 0.9887\n"
     ]
    },
    {
     "data": {
      "text/plain": [
       "<keras.callbacks.History at 0x7f86e7803e50>"
      ]
     },
     "execution_count": 7,
     "metadata": {},
     "output_type": "execute_result"
    }
   ],
   "source": [
    "model.fit(trainX, trainY, validation_data=(testX, testY), batch_size=64, epochs=10, verbose=1)"
   ]
  },
  {
   "cell_type": "code",
   "execution_count": 11,
   "metadata": {},
   "outputs": [
    {
     "name": "stdout",
     "output_type": "stream",
     "text": [
      "Loss: 0.0414, acc: 0.9887\n"
     ]
    }
   ],
   "source": [
    "(loss, acc) = model.evaluate(x=testX, y=testY, verbose=0)\n",
    "print(\"Loss: {:.4f}, acc: {:.4f}\".format(loss, acc))"
   ]
  },
  {
   "cell_type": "code",
   "execution_count": 22,
   "metadata": {},
   "outputs": [],
   "source": [
    "(advX, advY) = next(generate_adversarial_batch(model, len(testX), testX, testY, (28, 28, 1), eps=0.1))"
   ]
  },
  {
   "cell_type": "code",
   "execution_count": 13,
   "metadata": {},
   "outputs": [
    {
     "name": "stdout",
     "output_type": "stream",
     "text": [
      "Loss: 27.3050, acc: 0.0000\n"
     ]
    }
   ],
   "source": [
    "(loss, acc) = model.evaluate(x=advX, y=advY, verbose=0)\n",
    "print(\"Loss: {:.4f}, acc: {:.4f}\".format(loss, acc))"
   ]
  },
  {
   "cell_type": "markdown",
   "metadata": {},
   "source": [
    "### Re-tune the model"
   ]
  },
  {
   "cell_type": "code",
   "execution_count": 14,
   "metadata": {},
   "outputs": [],
   "source": [
    "model.compile(loss=\"categorical_crossentropy\", optimizer=Adam(lr=1e-4), metrics=[\"accuracy\"])"
   ]
  },
  {
   "cell_type": "markdown",
   "metadata": {},
   "source": [
    "### Use the mix adversarial dataset"
   ]
  },
  {
   "cell_type": "code",
   "execution_count": 15,
   "metadata": {},
   "outputs": [],
   "source": [
    "dataGen = generate_mixed_adversarial_batch(model, 64, trainX, trainY, (28, 28, 1), eps=0.1, split=0.5)"
   ]
  },
  {
   "cell_type": "code",
   "execution_count": 16,
   "metadata": {},
   "outputs": [
    {
     "name": "stdout",
     "output_type": "stream",
     "text": [
      "Epoch 1/10\n",
      "937/937 [==============================] - 218s 233ms/step - loss: 0.2393 - accuracy: 0.9687\n",
      "Epoch 2/10\n",
      "937/937 [==============================] - 214s 229ms/step - loss: 0.1142 - accuracy: 0.9747\n",
      "Epoch 3/10\n",
      "937/937 [==============================] - 215s 229ms/step - loss: 0.0744 - accuracy: 0.9799\n",
      "Epoch 4/10\n",
      "937/937 [==============================] - 214s 229ms/step - loss: 0.0544 - accuracy: 0.9834\n",
      "Epoch 5/10\n",
      "937/937 [==============================] - 217s 232ms/step - loss: 0.0559 - accuracy: 0.9837\n",
      "Epoch 6/10\n",
      "937/937 [==============================] - 213s 228ms/step - loss: 0.0458 - accuracy: 0.9860\n",
      "Epoch 7/10\n",
      "937/937 [==============================] - 218s 232ms/step - loss: 0.0420 - accuracy: 0.9868\n",
      "Epoch 8/10\n",
      "937/937 [==============================] - 216s 231ms/step - loss: 0.0396 - accuracy: 0.9867\n",
      "Epoch 9/10\n",
      "937/937 [==============================] - 214s 229ms/step - loss: 0.0378 - accuracy: 0.9886\n",
      "Epoch 10/10\n",
      "937/937 [==============================] - 215s 229ms/step - loss: 0.0335 - accuracy: 0.9896\n"
     ]
    },
    {
     "data": {
      "text/plain": [
       "<keras.callbacks.History at 0x7f878ce1b2b0>"
      ]
     },
     "execution_count": 16,
     "metadata": {},
     "output_type": "execute_result"
    }
   ],
   "source": [
    "#Add steps per epoch to deal with the generator\n",
    "model.fit(dataGen, steps_per_epoch=len(trainX) // 64, epochs=10, verbose=1)"
   ]
  },
  {
   "cell_type": "code",
   "execution_count": 17,
   "metadata": {},
   "outputs": [
    {
     "name": "stdout",
     "output_type": "stream",
     "text": [
      "Normal testing images *after* fine-tuning:\n",
      "Loss: 0.0323, acc: 0.9908\n",
      "\n"
     ]
    }
   ],
   "source": [
    "(loss, acc) = model.evaluate(x=testX, y=testY, verbose=0)\n",
    "print(\"Normal testing images *after* fine-tuning:\")\n",
    "print(\"Loss: {:.4f}, acc: {:.4f}\\n\".format(loss, acc))"
   ]
  },
  {
   "cell_type": "code",
   "execution_count": null,
   "metadata": {},
   "outputs": [],
   "source": []
  }
 ],
 "metadata": {
  "kernelspec": {
   "display_name": "Python 3.9.12 ('gpu-dl')",
   "language": "python",
   "name": "python3"
  },
  "language_info": {
   "codemirror_mode": {
    "name": "ipython",
    "version": 3
   },
   "file_extension": ".py",
   "mimetype": "text/x-python",
   "name": "python",
   "nbconvert_exporter": "python",
   "pygments_lexer": "ipython3",
   "version": "3.9.12"
  },
  "orig_nbformat": 4,
  "vscode": {
   "interpreter": {
    "hash": "da695c087d6368c9b262a08c2ebf368542a47f83b2881693eefdf5ebab9d0ecb"
   }
  }
 },
 "nbformat": 4,
 "nbformat_minor": 2
}
