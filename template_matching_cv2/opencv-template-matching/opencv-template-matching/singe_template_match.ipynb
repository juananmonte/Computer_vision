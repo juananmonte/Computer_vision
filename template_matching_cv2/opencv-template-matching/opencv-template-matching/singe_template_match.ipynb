{
 "cells": [
  {
   "cell_type": "markdown",
   "metadata": {},
   "source": [
    "# Single Template"
   ]
  },
  {
   "cell_type": "markdown",
   "metadata": {},
   "source": [
    "Other than contour filtering and processing, **template matching is arguably one of the most simple forms of object detection:**\n",
    "\n",
    "- It’s simple to implement, requiring only 2-3 lines of code\n",
    "- Template matching is computationally efficient\n",
    "- It doesn’t require you to perform thresholding, edge detection, etc., to generate a binary image (such as contour detection and processing does)\n",
    "\n",
    "And with a basic extension, template matching can detect multiple instances of the same/similar object in an input image.\n",
    "\n",
    "Of course, template matching isn’t perfect. Despite all the positives, template matching **quickly fails if there are factors of variation in your input images, including changes to rotation, scale, viewing angle, etc.**\n",
    "\n",
    "If your input images contain these types of variations, you should not use template matching — utilize dedicated object detectors including HOG + Linear SVM, Faster R-CNN, SSDs, YOLO, etc.\n",
    "\n",
    ">> But in situations where you know the rotation, scale, and viewing angle are constant, template matching can work wonders."
   ]
  },
  {
   "cell_type": "code",
   "execution_count": 2,
   "metadata": {},
   "outputs": [],
   "source": [
    "import cv2"
   ]
  },
  {
   "cell_type": "code",
   "execution_count": 5,
   "metadata": {},
   "outputs": [],
   "source": [
    "image = cv2.imread('coke_bottle.png')\n",
    "template = cv2.imread ('coke_logo.png')\n",
    "cv2.imshow(\"image\", image)\n",
    "cv2.imshow(\"template\", template)\n",
    "cv2.waitKey(0)\n",
    "cv2.destroyAllWindows()"
   ]
  },
  {
   "cell_type": "code",
   "execution_count": 6,
   "metadata": {},
   "outputs": [],
   "source": [
    "#Conver the images to grayscale\n",
    "imageGray = cv2.cvtColor(image, cv2.COLOR_BGR2GRAY)\n",
    "templateGray = cv2.cvtColor(template, cv2.COLOR_BGR2GRAY)"
   ]
  },
  {
   "cell_type": "code",
   "execution_count": 7,
   "metadata": {},
   "outputs": [],
   "source": [
    "#Perform template matching\n",
    "result = cv2.matchTemplate(imageGray, templateGray, cv2.TM_CCOEFF_NORMED)\n",
    "#Extract the min and max values to get the boiunding box\n",
    "(minVal, maxVal, minLoc, maxLoc) = cv2.minMaxLoc(result)"
   ]
  },
  {
   "cell_type": "code",
   "execution_count": 8,
   "metadata": {},
   "outputs": [],
   "source": [
    "#determine the start and end (x,y) points of the bounding box\n",
    "(starX, startY) = maxLoc\n",
    "endX = starX + template.shape[1]\n",
    "endY = startY + template.shape[0]"
   ]
  },
  {
   "cell_type": "code",
   "execution_count": 9,
   "metadata": {},
   "outputs": [],
   "source": [
    "cv2.rectangle(image, (starX, startY), (endX, endY), (255, 0, 0), 3)\n",
    "cv2.imshow(\"Out\", image)\n",
    "cv2.waitKey(0)\n",
    "cv2.destroyAllWindows()"
   ]
  }
 ],
 "metadata": {
  "kernelspec": {
   "display_name": "Python 3.9.12 ('gpu-dl')",
   "language": "python",
   "name": "python3"
  },
  "language_info": {
   "codemirror_mode": {
    "name": "ipython",
    "version": 3
   },
   "file_extension": ".py",
   "mimetype": "text/x-python",
   "name": "python",
   "nbconvert_exporter": "python",
   "pygments_lexer": "ipython3",
   "version": "3.9.12"
  },
  "orig_nbformat": 4,
  "vscode": {
   "interpreter": {
    "hash": "da695c087d6368c9b262a08c2ebf368542a47f83b2881693eefdf5ebab9d0ecb"
   }
  }
 },
 "nbformat": 4,
 "nbformat_minor": 2
}
