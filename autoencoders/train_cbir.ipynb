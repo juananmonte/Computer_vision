{
 "cells": [
  {
   "cell_type": "markdown",
   "metadata": {},
   "source": [
    "# CBIR"
   ]
  },
  {
   "cell_type": "markdown",
   "metadata": {},
   "source": [
    "**Content-based Image Retrieval (CBIR)** is really just a fancy academic word for image search engines.\n",
    "\n",
    "Image search engines are similar to text search engines, only instead of presenting the search engine with a text query, you instead provide an image query — the image search engine then finds all visually similar/relevant images in its database and returns them to you (just as a text search engine would return links to articles, blog posts, etc.).\n",
    "\n",
    "Deep learning-based CBIR and image retrieval can be framed as a form of unsupervised learning:\n",
    "\n",
    "- When training the autoencoder, **we do not use any class labels**\n",
    "\n",
    "- The autoencoder is then **used to compute the latent-space vector representation for each image in our dataset** (i.e., our “feature vector” for a given image)\n",
    "\n",
    "- Then, at search time, **we compute the distance between the latent-space vectors** — the smaller the distance, the more relevant/visually similar two images are\n",
    "\n",
    "\n",
    "We can thus break up the CBIR project into three distinct phases:\n",
    "\n",
    "**Phase #1: Train the autoencoder**\n",
    "\n",
    "**Phase #2: Extract features from all images in our dataset by computing their latent-space representations using the autoencoder**\n",
    "\n",
    "**Phase #3: Compare latent-space vectors to find all relevant images in the dataset**"
   ]
  },
  {
   "cell_type": "markdown",
   "metadata": {},
   "source": [
    "### Train CBIR autoencoder"
   ]
  },
  {
   "cell_type": "code",
   "execution_count": 47,
   "metadata": {},
   "outputs": [],
   "source": [
    "from pyimagesearch.convautoencoder import ConvAutoencoder\n",
    "from tensorflow.keras.optimizers import Adam\n",
    "from tensorflow.keras.datasets import mnist\n",
    "from tensorflow.keras.models import Model, load_model\n",
    "#-Other\n",
    "from imutils import build_montages\n",
    "import pickle\n",
    "import numpy as np\n",
    "import matplotlib.pyplot as plt\n",
    "import cv2"
   ]
  },
  {
   "cell_type": "code",
   "execution_count": 9,
   "metadata": {},
   "outputs": [],
   "source": [
    "def visualize_predictions(decoded, gt, samples=10):\n",
    "    #initialize our list of output images\n",
    "    outputs = None\n",
    "\n",
    "    for i in range(0, samples):\n",
    "        original = (gt[i]*255).astype(\"uint8\")\n",
    "        recon = (decoded[i]*255).astype(\"uint8\")\n",
    "\n",
    "        output = np.hstack([original, recon])\n",
    "\n",
    "        if outputs is None:\n",
    "            outputs = output\n",
    "\n",
    "        else:\n",
    "            outputs = np.vstack([outputs, output])\n",
    "    \n",
    "    return outputs"
   ]
  },
  {
   "cell_type": "code",
   "execution_count": 10,
   "metadata": {},
   "outputs": [],
   "source": [
    "((trainX, _), (testX, _)) = mnist.load_data()"
   ]
  },
  {
   "cell_type": "code",
   "execution_count": 11,
   "metadata": {},
   "outputs": [],
   "source": [
    "trainX = np.expand_dims(trainX, axis=-1)\n",
    "testX = np.expand_dims(testX, axis=-1)\n",
    "trainX = trainX.astype(\"float32\") / 255.0\n",
    "testX = testX.astype(\"float32\") / 255.0"
   ]
  },
  {
   "cell_type": "code",
   "execution_count": 12,
   "metadata": {},
   "outputs": [],
   "source": [
    "autoencoder = ConvAutoencoder.build(28, 28, 1)\n",
    "opt = Adam(learning_rate=1e-3, decay=1e-3 / 20)\n",
    "autoencoder.compile(loss=\"mse\", optimizer=opt)"
   ]
  },
  {
   "cell_type": "code",
   "execution_count": 13,
   "metadata": {},
   "outputs": [
    {
     "name": "stdout",
     "output_type": "stream",
     "text": [
      "Epoch 1/20\n",
      "1875/1875 [==============================] - 12s 6ms/step - loss: 0.0190 - val_loss: 0.0110\n",
      "Epoch 2/20\n",
      "1875/1875 [==============================] - 10s 5ms/step - loss: 0.0103 - val_loss: 0.0092\n",
      "Epoch 3/20\n",
      "1875/1875 [==============================] - 10s 5ms/step - loss: 0.0092 - val_loss: 0.0086\n",
      "Epoch 4/20\n",
      "1875/1875 [==============================] - 10s 5ms/step - loss: 0.0086 - val_loss: 0.0081\n",
      "Epoch 5/20\n",
      "1875/1875 [==============================] - 10s 5ms/step - loss: 0.0082 - val_loss: 0.0081\n",
      "Epoch 6/20\n",
      "1875/1875 [==============================] - 10s 5ms/step - loss: 0.0079 - val_loss: 0.0078\n",
      "Epoch 7/20\n",
      "1875/1875 [==============================] - 10s 5ms/step - loss: 0.0077 - val_loss: 0.0078\n",
      "Epoch 8/20\n",
      "1875/1875 [==============================] - 10s 5ms/step - loss: 0.0075 - val_loss: 0.0075\n",
      "Epoch 9/20\n",
      "1875/1875 [==============================] - 10s 5ms/step - loss: 0.0073 - val_loss: 0.0073\n",
      "Epoch 10/20\n",
      "1875/1875 [==============================] - 10s 6ms/step - loss: 0.0072 - val_loss: 0.0072\n",
      "Epoch 11/20\n",
      "1875/1875 [==============================] - 11s 6ms/step - loss: 0.0071 - val_loss: 0.0072\n",
      "Epoch 12/20\n",
      "1875/1875 [==============================] - 11s 6ms/step - loss: 0.0070 - val_loss: 0.0071\n",
      "Epoch 13/20\n",
      "1875/1875 [==============================] - 11s 6ms/step - loss: 0.0069 - val_loss: 0.0072\n",
      "Epoch 14/20\n",
      "1875/1875 [==============================] - 11s 6ms/step - loss: 0.0069 - val_loss: 0.0070\n",
      "Epoch 15/20\n",
      "1875/1875 [==============================] - 11s 6ms/step - loss: 0.0068 - val_loss: 0.0070\n",
      "Epoch 16/20\n",
      "1875/1875 [==============================] - 11s 6ms/step - loss: 0.0067 - val_loss: 0.0069\n",
      "Epoch 17/20\n",
      "1875/1875 [==============================] - 11s 6ms/step - loss: 0.0067 - val_loss: 0.0070\n",
      "Epoch 18/20\n",
      "1875/1875 [==============================] - 11s 6ms/step - loss: 0.0066 - val_loss: 0.0068\n",
      "Epoch 19/20\n",
      "1875/1875 [==============================] - 11s 6ms/step - loss: 0.0066 - val_loss: 0.0069\n",
      "Epoch 20/20\n",
      "1875/1875 [==============================] - 11s 6ms/step - loss: 0.0065 - val_loss: 0.0068\n"
     ]
    }
   ],
   "source": [
    "H = autoencoder.fit(trainX, trainX, validation_data=(testX, testX), epochs=20,\n",
    "                    batch_size=32)"
   ]
  },
  {
   "cell_type": "code",
   "execution_count": 14,
   "metadata": {},
   "outputs": [
    {
     "name": "stdout",
     "output_type": "stream",
     "text": [
      "313/313 [==============================] - 1s 2ms/step\n"
     ]
    }
   ],
   "source": [
    "decoded = autoencoder.predict(testX)\n",
    "vis = visualize_predictions(decoded, testX)\n",
    "#cv2.imwrite(\"output.png\", vis)"
   ]
  },
  {
   "cell_type": "code",
   "execution_count": 15,
   "metadata": {},
   "outputs": [
    {
     "data": {
      "text/plain": [
       "<matplotlib.legend.Legend at 0x7f31e0650970>"
      ]
     },
     "execution_count": 15,
     "metadata": {},
     "output_type": "execute_result"
    },
    {
     "data": {
      "image/png": "[encoded data removed]",
      "text/plain": [
       "<Figure size 432x288 with 1 Axes>"
      ]
     },
     "metadata": {
      "needs_background": "light"
     },
     "output_type": "display_data"
    }
   ],
   "source": [
    "N = np.arange(0, 20)\n",
    "plt.plot(N, H.history[\"loss\"], label=\"train_loss\")\n",
    "plt.plot(N, H.history[\"val_loss\"], label=\"val_loss\")\n",
    "plt.title(\"Training Loss and Accuracy\")\n",
    "plt.xlabel(\"Epoch #\")\n",
    "plt.ylabel(\"Loss/Accuracy\")\n",
    "plt.legend(loc=\"lower left\")"
   ]
  },
  {
   "cell_type": "code",
   "execution_count": 16,
   "metadata": {},
   "outputs": [],
   "source": [
    "#autoencoder.save(\"cbir_autoenc\" save_format=\"h5\")"
   ]
  },
  {
   "cell_type": "markdown",
   "metadata": {},
   "source": [
    "### Index Images"
   ]
  },
  {
   "cell_type": "code",
   "execution_count": 20,
   "metadata": {},
   "outputs": [],
   "source": [
    "autoencoder = load_model('/media/juan/juan1/pyimage_univ/Autoencoders/cbir/output/autoencoder.h5')"
   ]
  },
  {
   "cell_type": "code",
   "execution_count": 21,
   "metadata": {},
   "outputs": [],
   "source": [
    "#Create the **encoder** model which consists of portion of the autoencoder\n",
    "encoder = Model(inputs=autoencoder.input, \n",
    "outputs=autoencoder.get_layer(\"encoded\").output)#remember to add .input and .output to get the layers"
   ]
  },
  {
   "cell_type": "code",
   "execution_count": 22,
   "metadata": {},
   "outputs": [
    {
     "name": "stdout",
     "output_type": "stream",
     "text": [
      "1875/1875 [==============================] - 3s 1ms/step\n"
     ]
    }
   ],
   "source": [
    "#Quantify the contents of our inputs images with the enconder\n",
    "features = encoder.predict(trainX)"
   ]
  },
  {
   "cell_type": "code",
   "execution_count": 23,
   "metadata": {},
   "outputs": [],
   "source": [
    "# construct a dictionary that maps the index of the MNIST training\n",
    "# image to its corresponding latent-space representation\n",
    "indexes = list(range(0, trainX.shape[0]))\n",
    "data = {\"indexes\":indexes, \"features\": features}"
   ]
  },
  {
   "cell_type": "code",
   "execution_count": 37,
   "metadata": {},
   "outputs": [],
   "source": [
    "# write the data dictionary to disk\n",
    "f = open(\"/outputs/index.pickle\", \"wb\")\n",
    "f.write(pickle.dumps(data))\n",
    "f.close()"
   ]
  },
  {
   "cell_type": "markdown",
   "metadata": {},
   "source": [
    "### Search images"
   ]
  },
  {
   "cell_type": "code",
   "execution_count": 43,
   "metadata": {},
   "outputs": [],
   "source": [
    "index = pickle.loads(open('output/index.pickle', \"rb\").read())"
   ]
  },
  {
   "cell_type": "code",
   "execution_count": 39,
   "metadata": {},
   "outputs": [],
   "source": [
    "def eucledian(a,b):\n",
    "    #computer and return the eucleadian distance between two vectors\n",
    "    return np.linalg.norm(a-b)"
   ]
  },
  {
   "cell_type": "code",
   "execution_count": 45,
   "metadata": {},
   "outputs": [],
   "source": [
    "def perform_search(queryFeatures, index, maxResults=64):\n",
    "    #list of results\n",
    "    results=[]\n",
    "\n",
    "    for i in range(0, len(data[\"indexes\"])):\n",
    "    # compute the euclidean distance between our query features\n",
    "\t# and the features for the current image in our index\n",
    "        d = eucledian(queryFeatures, data[\"features\"][i])\n",
    "        results.append((d,i))\n",
    "    \n",
    "    #sort the results and grab the top ones\n",
    "    results = sorted(results)[:maxResults]\n",
    "\n",
    "    return results\n"
   ]
  },
  {
   "cell_type": "code",
   "execution_count": 48,
   "metadata": {},
   "outputs": [],
   "source": [
    "# randomly sample a set of testing query image indexes\n",
    "queryIdxs = list(range(0, testX.shape[0]))\n",
    "queryIdxs = np.random.choice(queryIdxs, size=10,\n",
    "\treplace=False)\n",
    "\n",
    "# loop over the testing indexes\n",
    "for i in queryIdxs:\n",
    "\t# take the features for the current image, find all similar\n",
    "\t# images in our dataset, and then initialize our list of result\n",
    "\t# images\n",
    "\tqueryFeatures = features[i]\n",
    "\tresults = perform_search(queryFeatures, index, maxResults=225)\n",
    "\timages = []\n",
    "\n",
    "\t# loop over the results\n",
    "\tfor (d, j) in results:\n",
    "\t\t# grab the result image, convert it back to the range\n",
    "\t\t# [0, 255], and then update the images list\n",
    "\t\timage = (trainX[j] * 255).astype(\"uint8\")\n",
    "\t\timage = np.dstack([image] * 3)\n",
    "\t\timages.append(image)\n",
    "\n",
    "\t# display the query image\n",
    "\tquery = (testX[i] * 255).astype(\"uint8\")\n",
    "\tcv2.imshow(\"Query\", query)\n",
    "\n",
    "\tmontage = build_montages(images, (28, 28), (15, 15))[0]\n",
    "\tcv2.imshow(\"Results\", montage)\n",
    "\n",
    "\tcv2.waitKey(0)\n",
    "\n",
    "cv2.destroyAllWindows()"
   ]
  },
  {
   "cell_type": "code",
   "execution_count": null,
   "metadata": {},
   "outputs": [],
   "source": []
  }
 ],
 "metadata": {
  "kernelspec": {
   "display_name": "Python 3.9.12 ('gpu-dl')",
   "language": "python",
   "name": "python3"
  },
  "language_info": {
   "codemirror_mode": {
    "name": "ipython",
    "version": 3
   },
   "file_extension": ".py",
   "mimetype": "text/x-python",
   "name": "python",
   "nbconvert_exporter": "python",
   "pygments_lexer": "ipython3",
   "version": "3.9.12"
  },
  "orig_nbformat": 4,
  "vscode": {
   "interpreter": {
    "hash": "da695c087d6368c9b262a08c2ebf368542a47f83b2881693eefdf5ebab9d0ecb"
   }
  }
 },
 "nbformat": 4,
 "nbformat_minor": 2
}
