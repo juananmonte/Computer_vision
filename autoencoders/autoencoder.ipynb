{
 "cells": [
  {
   "cell_type": "markdown",
   "metadata": {},
   "source": [
    "## Autoencoders"
   ]
  },
  {
   "cell_type": "markdown",
   "metadata": {},
   "source": [
    "### **Autoencoders are a type of unsupervised neural network (i.e., no class labels or labeled data) that seek to:**\n",
    "\n",
    "### ---- Steps\n",
    "\n",
    "1. Accept an input set of data (i.e., the input).\n",
    "\n",
    "2. Internally compress the input data into a latent-space representation (i.e., a single vector that compresses and quantifies the input).\n",
    "\n",
    "3. Reconstruct the input data from this latent representation (i.e., the output).\n",
    "\n",
    "\n",
    "### ---- Typically, autoencoders has two components/subnetworks:\n",
    "\n",
    "**Encoder**: Accepts the input data and compresses it into the latent-space.\n",
    "\n",
    "**Decoder**: The decoder is responsible for accepting the latent-space representation (s) and then reconstructing the original input\n",
    "\n",
    ">> You can thus think of an autoencoder as a network that reconstructs its input!"
   ]
  },
  {
   "cell_type": "markdown",
   "metadata": {},
   "source": [
    "**Autoencoders are typically used for:**\n",
    "\n",
    "1. Dimensionality reduction (i.e., think PCA but more powerful/intelligent).\n",
    "2. Denoising (ex., removing noise and preprocessing images to improve OCR accuracy).\n",
    "3. Anomaly/outlier detection (ex., detecting mislabeled data points in a dataset or detecting when an input data point falls well outside our typical data distribution)."
   ]
  },
  {
   "cell_type": "code",
   "execution_count": 3,
   "metadata": {},
   "outputs": [],
   "source": [
    "#---Tensorflow\n",
    "from pyimagesearch.convautoencoder import ConvAutoencoder\n",
    "from tensorflow.keras.optimizers import Adam\n",
    "from tensorflow.keras.datasets import mnist\n",
    "#---Others\n",
    "import matplotlib.pyplot as plt\n",
    "import numpy as np\n",
    "import cv2"
   ]
  },
  {
   "cell_type": "markdown",
   "metadata": {},
   "source": [
    "### Get the data"
   ]
  },
  {
   "cell_type": "code",
   "execution_count": 4,
   "metadata": {},
   "outputs": [],
   "source": [
    "((trainX, _), (testX, _)) = mnist.load_data()"
   ]
  },
  {
   "cell_type": "code",
   "execution_count": 6,
   "metadata": {},
   "outputs": [],
   "source": [
    "#load data\n",
    "((trainX, _), (testX, _)) = mnist.load_data()\n",
    "#Add the black and white channel\n",
    "trainX = np.expand_dims(trainX, axis=-1)\n",
    "testX = np.expand_dims(testX, axis=-1)\n",
    "#Normalize the images\n",
    "trainX = trainX.astype(\"float32\")/255.0\n",
    "testX = testX.astype('float32')/255.0"
   ]
  },
  {
   "cell_type": "markdown",
   "metadata": {},
   "source": [
    "### Construct the convolutional autoencoder"
   ]
  },
  {
   "cell_type": "code",
   "execution_count": 7,
   "metadata": {},
   "outputs": [
    {
     "name": "stderr",
     "output_type": "stream",
     "text": [
      "2022-09-28 00:20:35.781046: I tensorflow/stream_executor/cuda/cuda_gpu_executor.cc:975] successful NUMA node read from SysFS had negative value (-1), but there must be at least one NUMA node, so returning NUMA node zero\n",
      "2022-09-28 00:20:35.827210: I tensorflow/stream_executor/cuda/cuda_gpu_executor.cc:975] successful NUMA node read from SysFS had negative value (-1), but there must be at least one NUMA node, so returning NUMA node zero\n",
      "2022-09-28 00:20:35.827410: I tensorflow/stream_executor/cuda/cuda_gpu_executor.cc:975] successful NUMA node read from SysFS had negative value (-1), but there must be at least one NUMA node, so returning NUMA node zero\n",
      "2022-09-28 00:20:35.828304: I tensorflow/core/platform/cpu_feature_guard.cc:193] This TensorFlow binary is optimized with oneAPI Deep Neural Network Library (oneDNN) to use the following CPU instructions in performance-critical operations:  AVX2 FMA\n",
      "To enable them in other operations, rebuild TensorFlow with the appropriate compiler flags.\n",
      "2022-09-28 00:20:35.829326: I tensorflow/stream_executor/cuda/cuda_gpu_executor.cc:975] successful NUMA node read from SysFS had negative value (-1), but there must be at least one NUMA node, so returning NUMA node zero\n",
      "2022-09-28 00:20:35.829533: I tensorflow/stream_executor/cuda/cuda_gpu_executor.cc:975] successful NUMA node read from SysFS had negative value (-1), but there must be at least one NUMA node, so returning NUMA node zero\n",
      "2022-09-28 00:20:35.829679: I tensorflow/stream_executor/cuda/cuda_gpu_executor.cc:975] successful NUMA node read from SysFS had negative value (-1), but there must be at least one NUMA node, so returning NUMA node zero\n",
      "2022-09-28 00:20:36.786436: I tensorflow/stream_executor/cuda/cuda_gpu_executor.cc:975] successful NUMA node read from SysFS had negative value (-1), but there must be at least one NUMA node, so returning NUMA node zero\n",
      "2022-09-28 00:20:36.786644: I tensorflow/stream_executor/cuda/cuda_gpu_executor.cc:975] successful NUMA node read from SysFS had negative value (-1), but there must be at least one NUMA node, so returning NUMA node zero\n",
      "2022-09-28 00:20:36.786815: I tensorflow/stream_executor/cuda/cuda_gpu_executor.cc:975] successful NUMA node read from SysFS had negative value (-1), but there must be at least one NUMA node, so returning NUMA node zero\n",
      "2022-09-28 00:20:36.786941: I tensorflow/core/common_runtime/gpu/gpu_device.cc:1532] Created device /job:localhost/replica:0/task:0/device:GPU:0 with 4870 MB memory:  -> device: 0, name: NVIDIA GeForce GTX 1060, pci bus id: 0000:01:00.0, compute capability: 6.1\n"
     ]
    }
   ],
   "source": [
    "(encoder, decoder, autoencoder) = ConvAutoencoder.build(28,28,1)"
   ]
  },
  {
   "cell_type": "code",
   "execution_count": 8,
   "metadata": {},
   "outputs": [],
   "source": [
    "autoencoder.compile(loss=\"MSE\", optimizer=Adam(learning_rate=1e-3))"
   ]
  },
  {
   "cell_type": "code",
   "execution_count": 9,
   "metadata": {},
   "outputs": [
    {
     "name": "stdout",
     "output_type": "stream",
     "text": [
      "Epoch 1/25\n"
     ]
    },
    {
     "name": "stderr",
     "output_type": "stream",
     "text": [
      "2022-09-28 00:23:23.101125: I tensorflow/stream_executor/cuda/cuda_dnn.cc:384] Loaded cuDNN version 8100\n",
      "2022-09-28 00:23:24.160578: I tensorflow/core/platform/default/subprocess.cc:304] Start cannot spawn child process: No such file or directory\n",
      "2022-09-28 00:23:24.161956: I tensorflow/core/platform/default/subprocess.cc:304] Start cannot spawn child process: No such file or directory\n",
      "2022-09-28 00:23:24.161987: W tensorflow/stream_executor/gpu/asm_compiler.cc:80] Couldn't get ptxas version string: INTERNAL: Couldn't invoke ptxas --version\n",
      "2022-09-28 00:23:24.163018: I tensorflow/core/platform/default/subprocess.cc:304] Start cannot spawn child process: No such file or directory\n",
      "2022-09-28 00:23:24.163111: W tensorflow/stream_executor/gpu/redzone_allocator.cc:314] INTERNAL: Failed to launch ptxas\n",
      "Relying on driver to perform ptx compilation. \n",
      "Modify $PATH to customize ptxas location.\n",
      "This message will be only logged once.\n"
     ]
    },
    {
     "name": "stdout",
     "output_type": "stream",
     "text": [
      "1875/1875 [==============================] - 14s 6ms/step - loss: 0.0183 - val_loss: 0.0106\n",
      "Epoch 2/25\n",
      "1875/1875 [==============================] - 11s 6ms/step - loss: 0.0102 - val_loss: 0.0093\n",
      "Epoch 3/25\n",
      "1875/1875 [==============================] - 11s 6ms/step - loss: 0.0092 - val_loss: 0.0087\n",
      "Epoch 4/25\n",
      "1875/1875 [==============================] - 11s 6ms/step - loss: 0.0086 - val_loss: 0.0084\n",
      "Epoch 5/25\n",
      "1875/1875 [==============================] - 11s 6ms/step - loss: 0.0083 - val_loss: 0.0081\n",
      "Epoch 6/25\n",
      "1875/1875 [==============================] - 11s 6ms/step - loss: 0.0080 - val_loss: 0.0078\n",
      "Epoch 7/25\n",
      "1875/1875 [==============================] - 11s 6ms/step - loss: 0.0078 - val_loss: 0.0076\n",
      "Epoch 8/25\n",
      "1875/1875 [==============================] - 11s 6ms/step - loss: 0.0076 - val_loss: 0.0077\n",
      "Epoch 9/25\n",
      "1875/1875 [==============================] - 11s 6ms/step - loss: 0.0074 - val_loss: 0.0075\n",
      "Epoch 10/25\n",
      "1875/1875 [==============================] - 11s 6ms/step - loss: 0.0073 - val_loss: 0.0073\n",
      "Epoch 11/25\n",
      "1875/1875 [==============================] - 11s 6ms/step - loss: 0.0072 - val_loss: 0.0073\n",
      "Epoch 12/25\n",
      "1875/1875 [==============================] - 11s 6ms/step - loss: 0.0071 - val_loss: 0.0072\n",
      "Epoch 13/25\n",
      "1875/1875 [==============================] - 11s 6ms/step - loss: 0.0070 - val_loss: 0.0071\n",
      "Epoch 14/25\n",
      "1875/1875 [==============================] - 11s 6ms/step - loss: 0.0069 - val_loss: 0.0071\n",
      "Epoch 15/25\n",
      "1875/1875 [==============================] - 11s 6ms/step - loss: 0.0069 - val_loss: 0.0071\n",
      "Epoch 16/25\n",
      "1875/1875 [==============================] - 11s 6ms/step - loss: 0.0068 - val_loss: 0.0070\n",
      "Epoch 17/25\n",
      "1875/1875 [==============================] - 11s 6ms/step - loss: 0.0068 - val_loss: 0.0069\n",
      "Epoch 18/25\n",
      "1875/1875 [==============================] - 11s 6ms/step - loss: 0.0067 - val_loss: 0.0069\n",
      "Epoch 19/25\n",
      "1875/1875 [==============================] - 11s 6ms/step - loss: 0.0067 - val_loss: 0.0071\n",
      "Epoch 20/25\n",
      "1875/1875 [==============================] - 11s 6ms/step - loss: 0.0066 - val_loss: 0.0068\n",
      "Epoch 21/25\n",
      "1875/1875 [==============================] - 11s 6ms/step - loss: 0.0066 - val_loss: 0.0068\n",
      "Epoch 22/25\n",
      "1875/1875 [==============================] - 11s 6ms/step - loss: 0.0066 - val_loss: 0.0068\n",
      "Epoch 23/25\n",
      "1875/1875 [==============================] - 11s 6ms/step - loss: 0.0065 - val_loss: 0.0067\n",
      "Epoch 24/25\n",
      "1875/1875 [==============================] - 11s 6ms/step - loss: 0.0065 - val_loss: 0.0067\n",
      "Epoch 25/25\n",
      "1875/1875 [==============================] - 11s 6ms/step - loss: 0.0065 - val_loss: 0.0069\n"
     ]
    }
   ],
   "source": [
    "#We use both the train data as training and labels since this is an usupervised task\n",
    "H = autoencoder.fit(trainX, trainX, validation_data=(testX, testX), epochs=25, batch_size=32)"
   ]
  },
  {
   "cell_type": "markdown",
   "metadata": {},
   "source": [
    "### Graph the results"
   ]
  },
  {
   "cell_type": "code",
   "execution_count": 10,
   "metadata": {},
   "outputs": [
    {
     "data": {
      "text/plain": [
       "<matplotlib.legend.Legend at 0x7f0912c50490>"
      ]
     },
     "execution_count": 10,
     "metadata": {},
     "output_type": "execute_result"
    },
    {
     "data": {
      "image/png": "[encoded data removed]",
      "text/plain": [
       "<Figure size 432x288 with 1 Axes>"
      ]
     },
     "metadata": {},
     "output_type": "display_data"
    }
   ],
   "source": [
    "N = np.arange(0, 25)\n",
    "plt.style.use(\"ggplot\")\n",
    "plt.figure()\n",
    "plt.plot(N, H.history[\"loss\"], label=\"train_loss\")\n",
    "plt.plot(N, H.history[\"val_loss\"], label=\"val_loss\")\n",
    "plt.title(\"Training Loss and Accuracy\")\n",
    "plt.xlabel(\"Epoch #\")\n",
    "plt.ylabel(\"Loss/Accuracy\")\n",
    "plt.legend(loc=\"lower left\")"
   ]
  },
  {
   "cell_type": "markdown",
   "metadata": {},
   "source": [
    "### Make predictions"
   ]
  },
  {
   "cell_type": "code",
   "execution_count": 11,
   "metadata": {},
   "outputs": [
    {
     "name": "stdout",
     "output_type": "stream",
     "text": [
      "313/313 [==============================] - 1s 2ms/step\n"
     ]
    }
   ],
   "source": [
    "###Use the autoencoder to make predictions\n",
    "decoded = autoencoder.predict(testX)\n",
    "outputs = None "
   ]
  },
  {
   "cell_type": "code",
   "execution_count": 15,
   "metadata": {},
   "outputs": [
    {
     "data": {
      "text/plain": [
       "True"
      ]
     },
     "execution_count": 15,
     "metadata": {},
     "output_type": "execute_result"
    }
   ],
   "source": [
    "## Create an image of the predictions\n",
    "\n",
    "#Get 8 test images and 8 predictions\n",
    "for i in range(0, 8):\n",
    "    #convert images to uint8 to use with cv2\n",
    "    original = (testX[i] * 255).astype(\"uint8\")\n",
    "    recon = (decoded[i]*255).astype(\"uint8\")\n",
    "\n",
    "    #Stack both images to each other\n",
    "    output = np.hstack([original, recon])\n",
    "\n",
    "\t# if the outputs array is empty, initialize it as the current\n",
    "\t# side-by-side image display\n",
    "    if outputs is None:\n",
    "        outputs = output\n",
    "\n",
    "    # otherwise, vertically stack the outputs\n",
    "    else:\n",
    "        outputs = np.vstack([outputs, output])\n",
    "\n",
    "# save the outputs image to disk\n",
    "cv2.imwrite('/media/juan/juan1/pyimage_univ/Autoencoders/intro_autoencoders/ae_out.jpg', outputs)"
   ]
  },
  {
   "cell_type": "code",
   "execution_count": null,
   "metadata": {},
   "outputs": [],
   "source": []
  },
  {
   "cell_type": "code",
   "execution_count": null,
   "metadata": {},
   "outputs": [],
   "source": []
  },
  {
   "cell_type": "markdown",
   "metadata": {},
   "source": []
  }
 ],
 "metadata": {
  "kernelspec": {
   "display_name": "Python 3.9.12 ('gpu-dl')",
   "language": "python",
   "name": "python3"
  },
  "language_info": {
   "codemirror_mode": {
    "name": "ipython",
    "version": 3
   },
   "file_extension": ".py",
   "mimetype": "text/x-python",
   "name": "python",
   "nbconvert_exporter": "python",
   "pygments_lexer": "ipython3",
   "version": "3.9.12"
  },
  "orig_nbformat": 4,
  "vscode": {
   "interpreter": {
    "hash": "da695c087d6368c9b262a08c2ebf368542a47f83b2881693eefdf5ebab9d0ecb"
   }
  }
 },
 "nbformat": 4,
 "nbformat_minor": 2
}
