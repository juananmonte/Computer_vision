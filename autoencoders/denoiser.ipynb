{
 "cells": [
  {
   "cell_type": "markdown",
   "metadata": {},
   "source": [
    "## ---- Denoiser Autoencoder"
   ]
  },
  {
   "cell_type": "markdown",
   "metadata": {},
   "source": [
    "The term “noise” here could be:\n",
    "\n",
    "- Produced by a faulty or poor quality image sensor\n",
    "- Random variations in brightness or color\n",
    "- Quantization noise\n",
    "- Artifacts due to JPEG compression\n",
    "- Image perturbations produced by an image scanner or threshold post-processing\n",
    "- Poor paper quality (crinkles and folds) when trying to perform OCR\n",
    "- From the perspective of image processing and computer vision, you should think of noise as anything that could be removed by a really good pre-processing filter."
   ]
  },
  {
   "cell_type": "markdown",
   "metadata": {},
   "source": [
    "**Denoising autoencoders are an extension of simple autoencoders;** however, it’s worth noting that denoising autoencoders were not originally meant to automatically denoise an image.\n",
    "\n",
    "Instead, the denoising autoencoder procedure was invented to help:\n",
    "\n",
    "- The hidden layers of the autoencoder learn more robust filters\n",
    "- Reduce the risk of overfitting in the autoencoder\n",
    "- Prevent the autoencoder from learning a simple identify function\n",
    "\n",
    "\n",
    "In Vincent et al.’s 2008 ICML paper, Extracting and Composing Robust Features with Denoising Autoencoders, **the authors found that they could improve the robustness of their internal layers (i.e., latent-space representation) by purposely introducing noise to their signal.**\n",
    "\n",
    ">> Noise was stochastically (i.e., randomly) added to the input data, and then the autoencoder was trained to recover the original, nonperturbed signal."
   ]
  },
  {
   "cell_type": "code",
   "execution_count": 1,
   "metadata": {},
   "outputs": [],
   "source": [
    "from files.convautoencoder import ConvAutoencoder\n",
    "from tensorflow.keras.optimizers import Adam\n",
    "from tensorflow.keras.datasets import mnist\n",
    "import matplotlib.pyplot as plt\n",
    "import numpy as np\n",
    "import argparse\n",
    "import cv2"
   ]
  },
  {
   "cell_type": "code",
   "execution_count": 2,
   "metadata": {},
   "outputs": [],
   "source": [
    "#Load the dataset but don't define the label variables\n",
    "((trainX, _), (testX, _)) = mnist.load_data()"
   ]
  },
  {
   "cell_type": "code",
   "execution_count": 3,
   "metadata": {},
   "outputs": [],
   "source": [
    "#Add the black and white channel and also scale\n",
    "from cgi import test\n",
    "\n",
    "\n",
    "trainX = np.expand_dims(trainX, axis=-1)\n",
    "testX = np.expand_dims(testX, axis=-1)\n",
    "trainX = trainX.astype(\"float32\")/255.0\n",
    "testX = testX.astype(\"float32\")/255.0"
   ]
  },
  {
   "cell_type": "markdown",
   "metadata": {},
   "source": [
    "### Create some noise to train the denoiser"
   ]
  },
  {
   "cell_type": "code",
   "execution_count": 4,
   "metadata": {},
   "outputs": [],
   "source": [
    "# sample noise from a random normal distribution centered at 0.5 (since\n",
    "# our images lie in the range [0, 1]) and a standard deviation of 0.5\n",
    "trainNoise = np.random.normal(loc=0.5, scale=0.5, size=trainX.shape)\n",
    "testNoise = np.random.normal(loc=0.5, scale=0.5, size=testX.shape)\n",
    "#add the noise\n",
    "trainXNoisy = np.clip(trainX + trainNoise, 0, 1)\n",
    "testXNoisy = np.clip(testX + testNoise, 0, 1)"
   ]
  },
  {
   "cell_type": "markdown",
   "metadata": {},
   "source": [
    "### Define the autoencoder and train it"
   ]
  },
  {
   "cell_type": "code",
   "execution_count": 6,
   "metadata": {},
   "outputs": [],
   "source": [
    "(encoder, decoder, autoencoder) = ConvAutoencoder.build(28,28,1)\n",
    "autoencoder.compile(loss=\"mse\", optimizer=Adam(learning_rate=1e-3))"
   ]
  },
  {
   "cell_type": "code",
   "execution_count": 7,
   "metadata": {},
   "outputs": [
    {
     "name": "stdout",
     "output_type": "stream",
     "text": [
      "Epoch 1/25\n",
      "1875/1875 [==============================] - 14s 6ms/step - loss: 0.0292 - val_loss: 0.0198\n",
      "Epoch 2/25\n",
      "1875/1875 [==============================] - 10s 5ms/step - loss: 0.0191 - val_loss: 0.0187\n",
      "Epoch 3/25\n",
      "1875/1875 [==============================] - 10s 5ms/step - loss: 0.0179 - val_loss: 0.0180\n",
      "Epoch 4/25\n",
      "1875/1875 [==============================] - 10s 5ms/step - loss: 0.0173 - val_loss: 0.0174\n",
      "Epoch 5/25\n",
      "1875/1875 [==============================] - 10s 5ms/step - loss: 0.0169 - val_loss: 0.0174\n",
      "Epoch 6/25\n",
      "1875/1875 [==============================] - 10s 5ms/step - loss: 0.0165 - val_loss: 0.0171\n",
      "Epoch 7/25\n",
      "1875/1875 [==============================] - 10s 5ms/step - loss: 0.0163 - val_loss: 0.0162\n",
      "Epoch 8/25\n",
      "1875/1875 [==============================] - 10s 6ms/step - loss: 0.0161 - val_loss: 0.0183\n",
      "Epoch 9/25\n",
      "1875/1875 [==============================] - 10s 6ms/step - loss: 0.0159 - val_loss: 0.0164\n",
      "Epoch 10/25\n",
      "1875/1875 [==============================] - 10s 6ms/step - loss: 0.0157 - val_loss: 0.0167\n",
      "Epoch 11/25\n",
      "1875/1875 [==============================] - 10s 6ms/step - loss: 0.0156 - val_loss: 0.0174\n",
      "Epoch 12/25\n",
      "1875/1875 [==============================] - 10s 6ms/step - loss: 0.0155 - val_loss: 0.0161\n",
      "Epoch 13/25\n",
      "1875/1875 [==============================] - 10s 5ms/step - loss: 0.0154 - val_loss: 0.0158\n",
      "Epoch 14/25\n",
      "1875/1875 [==============================] - 10s 5ms/step - loss: 0.0153 - val_loss: 0.0164\n",
      "Epoch 15/25\n",
      "1875/1875 [==============================] - 10s 6ms/step - loss: 0.0152 - val_loss: 0.0157\n",
      "Epoch 16/25\n",
      "1875/1875 [==============================] - 10s 6ms/step - loss: 0.0151 - val_loss: 0.0168\n",
      "Epoch 17/25\n",
      "1875/1875 [==============================] - 11s 6ms/step - loss: 0.0150 - val_loss: 0.0161\n",
      "Epoch 18/25\n",
      "1875/1875 [==============================] - 11s 6ms/step - loss: 0.0149 - val_loss: 0.0157\n",
      "Epoch 19/25\n",
      "1875/1875 [==============================] - 10s 6ms/step - loss: 0.0149 - val_loss: 0.0164\n",
      "Epoch 20/25\n",
      "1875/1875 [==============================] - 10s 5ms/step - loss: 0.0148 - val_loss: 0.0156\n",
      "Epoch 21/25\n",
      "1875/1875 [==============================] - 10s 5ms/step - loss: 0.0148 - val_loss: 0.0156\n",
      "Epoch 22/25\n",
      "1875/1875 [==============================] - 10s 5ms/step - loss: 0.0147 - val_loss: 0.0157\n",
      "Epoch 23/25\n",
      "1875/1875 [==============================] - 10s 6ms/step - loss: 0.0147 - val_loss: 0.0160\n",
      "Epoch 24/25\n",
      "1875/1875 [==============================] - 11s 6ms/step - loss: 0.0146 - val_loss: 0.0156\n",
      "Epoch 25/25\n",
      "1875/1875 [==============================] - 10s 6ms/step - loss: 0.0146 - val_loss: 0.0159\n"
     ]
    }
   ],
   "source": [
    "#The normal images will be the ones being evaluated on\n",
    "H = autoencoder.fit(trainXNoisy, trainX, validation_data=(testXNoisy, testX),\n",
    "                    epochs=25, batch_size = 32)"
   ]
  },
  {
   "cell_type": "markdown",
   "metadata": {},
   "source": [
    "### Plot the results"
   ]
  },
  {
   "cell_type": "code",
   "execution_count": 8,
   "metadata": {},
   "outputs": [
    {
     "data": {
      "text/plain": [
       "<matplotlib.legend.Legend at 0x7faa8bc31d30>"
      ]
     },
     "execution_count": 8,
     "metadata": {},
     "output_type": "execute_result"
    },
    {
     "data": {
      "image/png": "[encoded data removed]",
      "text/plain": [
       "<Figure size 432x288 with 1 Axes>"
      ]
     },
     "metadata": {
      "needs_background": "light"
     },
     "output_type": "display_data"
    }
   ],
   "source": [
    "N = np.arange(0, 25)\n",
    "plt.figure()\n",
    "plt.plot(N, H.history[\"loss\"], label=\"train_loss\")\n",
    "plt.plot(N, H.history[\"val_loss\"], label=\"val_loss\")\n",
    "plt.title(\"Training Loss and Accuracy\")\n",
    "plt.xlabel(\"Epoch #\")\n",
    "plt.ylabel(\"Loss/Accuracy\")\n",
    "plt.legend(loc=\"lower left\")"
   ]
  },
  {
   "cell_type": "markdown",
   "metadata": {},
   "source": [
    "### Make predictions"
   ]
  },
  {
   "cell_type": "code",
   "execution_count": 11,
   "metadata": {},
   "outputs": [
    {
     "name": "stdout",
     "output_type": "stream",
     "text": [
      "313/313 [==============================] - 1s 2ms/step\n"
     ]
    }
   ],
   "source": [
    "decoded = autoencoder.predict(testXNoisy)\n",
    "outputs = None"
   ]
  },
  {
   "cell_type": "markdown",
   "metadata": {},
   "source": [
    "### Save the predicted images"
   ]
  },
  {
   "cell_type": "code",
   "execution_count": 13,
   "metadata": {},
   "outputs": [
    {
     "data": {
      "text/plain": [
       "True"
      ]
     },
     "execution_count": 13,
     "metadata": {},
     "output_type": "execute_result"
    }
   ],
   "source": [
    "for i in range(0, 8):\n",
    "    #get the noisy image\n",
    "    original = (testXNoisy[i]*255).astype(\"uint8\")\n",
    "    #Get the predictions\n",
    "    recon = (decoded[i]*255).astype(\"uint8\")\n",
    "\n",
    "    #Stack the images horizontally\n",
    "    output = np.hstack([original, recon])\n",
    "\n",
    "    if outputs is None:\n",
    "\t    outputs = output\n",
    "        \n",
    "    else:\n",
    "        outputs = np.vstack([outputs, output])\n",
    "\n",
    "cv2.imwrite('...Denoiser/de_results.jpg', output )"
   ]
  },
  {
   "cell_type": "code",
   "execution_count": null,
   "metadata": {},
   "outputs": [],
   "source": []
  },
  {
   "cell_type": "code",
   "execution_count": null,
   "metadata": {},
   "outputs": [],
   "source": []
  },
  {
   "cell_type": "code",
   "execution_count": null,
   "metadata": {},
   "outputs": [],
   "source": []
  },
  {
   "cell_type": "code",
   "execution_count": null,
   "metadata": {},
   "outputs": [],
   "source": []
  }
 ],
 "metadata": {
  "kernelspec": {
   "display_name": "Python 3.9.12 ('gpu-dl')",
   "language": "python",
   "name": "python3"
  },
  "language_info": {
   "codemirror_mode": {
    "name": "ipython",
    "version": 3
   },
   "file_extension": ".py",
   "mimetype": "text/x-python",
   "name": "python",
   "nbconvert_exporter": "python",
   "pygments_lexer": "ipython3",
   "version": "3.9.12"
  },
  "orig_nbformat": 4,
  "vscode": {
   "interpreter": {
    "hash": "da695c087d6368c9b262a08c2ebf368542a47f83b2881693eefdf5ebab9d0ecb"
   }
  }
 },
 "nbformat": 4,
 "nbformat_minor": 2
}
