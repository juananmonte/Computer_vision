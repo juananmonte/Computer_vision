{
 "cells": [
  {
   "cell_type": "markdown",
   "metadata": {},
   "source": [
    "### This file is coded in order to use the anomaly detection autoencoder on data"
   ]
  },
  {
   "cell_type": "code",
   "execution_count": 13,
   "metadata": {},
   "outputs": [],
   "source": [
    "from tensorflow.keras.models import load_model\n",
    "import numpy as np\n",
    "import cv2\n",
    "import pickle"
   ]
  },
  {
   "cell_type": "markdown",
   "metadata": {},
   "source": [
    "### Load the model"
   ]
  },
  {
   "cell_type": "code",
   "execution_count": 14,
   "metadata": {},
   "outputs": [],
   "source": [
    "autoencoder = load_model('anomaly_detection/output/autoencoder.model')\n",
    "images = pickle.loads(open('/media/juan/juan1/pyimage_univ/Autoencoders/anomaly_detection/output/images.pickle', \"rb\").read())"
   ]
  },
  {
   "cell_type": "markdown",
   "metadata": {},
   "source": [
    "### Make predictions (get decoded images)"
   ]
  },
  {
   "cell_type": "code",
   "execution_count": 15,
   "metadata": {},
   "outputs": [
    {
     "name": "stdout",
     "output_type": "stream",
     "text": [
      "213/213 [==============================] - 1s 2ms/step\n"
     ]
    }
   ],
   "source": [
    "decoded = autoencoder.predict(images)\n",
    "#Save the reconstructions errors to a list\n",
    "errors = []"
   ]
  },
  {
   "cell_type": "code",
   "execution_count": 16,
   "metadata": {},
   "outputs": [],
   "source": [
    "#Go through the images and their reconstructions (decoded)\n",
    "for (image, recon) in zip(images, decoded):\n",
    "    #Compute the mean squared error (MSE) and add them to the errors list\n",
    "    mse = np.mean((image-recon)**2)\n",
    "    errors.append(mse)"
   ]
  },
  {
   "cell_type": "code",
   "execution_count": 17,
   "metadata": {},
   "outputs": [
    {
     "data": {
      "text/plain": [
       "[0.0011744336, 0.0005435257, 0.0012951262, 0.0005053923, 0.0008721597]"
      ]
     },
     "execution_count": 17,
     "metadata": {},
     "output_type": "execute_result"
    }
   ],
   "source": [
    "errors[:5]"
   ]
  },
  {
   "cell_type": "markdown",
   "metadata": {},
   "source": [
    "### Anomaly detection"
   ]
  },
  {
   "cell_type": "markdown",
   "metadata": {},
   "source": [
    "##### To separate the normal images from the anomalies is necessary to define a threshold. Any data point that has a bigger error than our threshold will be classsified as an anomaly. For the threshold calculation, we will use quantiles"
   ]
  },
  {
   "cell_type": "code",
   "execution_count": 18,
   "metadata": {},
   "outputs": [],
   "source": [
    "thresh = np.quantile(errors, 0.999) #1% of the data will be classified as anomaly"
   ]
  },
  {
   "cell_type": "code",
   "execution_count": 19,
   "metadata": {},
   "outputs": [],
   "source": [
    "idxs = np.where(np.array(errors)>= thresh)"
   ]
  },
  {
   "cell_type": "code",
   "execution_count": 23,
   "metadata": {},
   "outputs": [],
   "source": [
    "#Initialize the outputs array\n",
    "outputs = None\n",
    "\n",
    "#loop ober the indexes of images with high MSE \n",
    "for i in idxs:\n",
    "    #get the original image and the reconstructed image\n",
    "    original = (images[i]*255).astype(\"uint8\") #In order to make the images work with cv2\n",
    "    recon = (decoded[i]*255).astype(\"uint8\")\n",
    "\n",
    "    #Stack the original and reconstructed\n",
    "    output = np.hstack([original, recon])\n",
    "\n",
    "    #Add all the anomaly images together\n",
    "    if outputs is None:\n",
    "        outputs = output #the hstack\n",
    "    \n",
    "    else:\n",
    "        outputs = np.vstack([outputs, output])#add the images to the None space\n",
    "\n",
    "cv2.imshow('Outputs', outputs)\n",
    "cv2.waitKey(0)\n",
    "cv2.destroyAllWindows()"
   ]
  },
  {
   "cell_type": "code",
   "execution_count": null,
   "metadata": {},
   "outputs": [],
   "source": []
  },
  {
   "cell_type": "code",
   "execution_count": null,
   "metadata": {},
   "outputs": [],
   "source": []
  }
 ],
 "metadata": {
  "kernelspec": {
   "display_name": "Python 3.9.12 ('gpu-dl')",
   "language": "python",
   "name": "python3"
  },
  "language_info": {
   "codemirror_mode": {
    "name": "ipython",
    "version": 3
   },
   "file_extension": ".py",
   "mimetype": "text/x-python",
   "name": "python",
   "nbconvert_exporter": "python",
   "pygments_lexer": "ipython3",
   "version": "3.9.12"
  },
  "orig_nbformat": 4,
  "vscode": {
   "interpreter": {
    "hash": "da695c087d6368c9b262a08c2ebf368542a47f83b2881693eefdf5ebab9d0ecb"
   }
  }
 },
 "nbformat": 4,
 "nbformat_minor": 2
}
