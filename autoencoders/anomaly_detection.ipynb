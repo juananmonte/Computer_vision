{
 "cells": [
  {
   "cell_type": "markdown",
   "metadata": {},
   "source": [
    "# Anomaly detection with Keras, TensorFlow, and Deep Learning"
   ]
  },
  {
   "cell_type": "markdown",
   "metadata": {},
   "source": [
    "**Anomalies are defined as events that deviate from the standard, happen rarely, and don’t follow the rest of the “pattern.”**\n",
    "\n",
    "Examples of anomalies include:\n",
    "\n",
    "- Large dips and spikes in the stock market due to world events\n",
    "- Defective items in a factory/on a conveyor belt\n",
    "- Contaminated samples in a lab"
   ]
  },
  {
   "cell_type": "markdown",
   "metadata": {},
   "source": [
    "**The encoder accepts the input data and compresses it into the latent-space representation.** \n",
    "\n",
    "**The decoder then attempts to reconstruct the input data from the latent space.**\n",
    "\n",
    "When trained in an end-to-end fashion, the hidden layers of the network learn filters that are robust and even capable of denoising the input data.\n",
    "\n",
    "However, what makes autoencoders so special from an anomaly detection perspective is the reconstruction loss. When we train an autoencoder, we typically measure the mean-squared-error (MSE) between:\n",
    "\n",
    "- The input image\n",
    "- The reconstructed image from the autoencoder\n",
    "\n",
    ">> The lower the loss, the better a job the autoencoder is doing at reconstructing the image."
   ]
  },
  {
   "cell_type": "code",
   "execution_count": 2,
   "metadata": {},
   "outputs": [],
   "source": [
    "from pyimagesearch.convautoencoder import ConvAutoencoder\n",
    "from tensorflow.keras.optimizers import Adam\n",
    "from tensorflow.keras.datasets import mnist\n",
    "from sklearn.model_selection import train_test_split\n",
    "import matplotlib.pyplot as plt\n",
    "import numpy as np\n",
    "import pickle\n",
    "import random\n",
    "import cv2"
   ]
  },
  {
   "cell_type": "markdown",
   "metadata": {},
   "source": [
    "### Create an unsupervised dataset"
   ]
  },
  {
   "cell_type": "code",
   "execution_count": 3,
   "metadata": {},
   "outputs": [],
   "source": [
    "def build_unsupervised_dataset(data, labels, validLabel=1, anomalyLabel=3, contam=0.01, seed=42):\n",
    "\n",
    "    #grab the indexes of the label we want. Do the same fot the 'anomalies'\n",
    "    validIdxs = np.where(labels == validLabel)[0]\n",
    "    anomalyIdxs = np.where(labels == anomalyLabel)[0]\n",
    "\n",
    "    #Randomly shuffle the indexes\n",
    "    random.shuffle(validIdxs)\n",
    "    random.shuffle(anomalyIdxs)\n",
    "\n",
    "    #compute the total number of anomaly data points\n",
    "    i = int(len(validIdxs)*contam)\n",
    "    anomalyIdxs = anomalyIdxs[:i]\n",
    "\n",
    "    #Index the valid images and the anomaly ones\n",
    "    validImages = data[validIdxs]\n",
    "    anomalyImages = data[anomalyIdxs]\n",
    "\n",
    "    #Stack both the valid and anomalies images to forn a single data matrix\n",
    "    images = np.vstack([validImages, anomalyImages])\n",
    "    np.random.seed(seed)\n",
    "    np.random.shuffle(images)\n",
    "\n",
    "    return images"
   ]
  },
  {
   "cell_type": "markdown",
   "metadata": {},
   "source": [
    "### Visualization function"
   ]
  },
  {
   "cell_type": "code",
   "execution_count": 4,
   "metadata": {},
   "outputs": [],
   "source": [
    "def visualize_predictions(decoded, gt, samples=10):\n",
    "\t# initialize our list of output images\n",
    "\toutputs = None\n",
    "\n",
    "\t# loop over our number of output samples\n",
    "\tfor i in range(0, samples):\n",
    "\t\t# grab the original image and reconstructed image\n",
    "\t\toriginal = (gt[i] * 255).astype(\"uint8\")\n",
    "\t\trecon = (decoded[i] * 255).astype(\"uint8\")\n",
    "\n",
    "\t\t# stack the original and reconstructed image side-by-side\n",
    "\t\toutput = np.hstack([original, recon])\n",
    "\n",
    "\t\t# if the outputs array is empty, initialize it as the current\n",
    "\t\t# side-by-side image display\n",
    "\t\tif outputs is None:\n",
    "\t\t\toutputs = output\n",
    "\n",
    "\t\t# otherwise, vertically stack the outputs\n",
    "\t\telse:\n",
    "\t\t\toutputs = np.vstack([outputs, output])\n",
    "\n",
    "\t# return the output images\n",
    "\treturn outputs"
   ]
  },
  {
   "cell_type": "markdown",
   "metadata": {},
   "source": [
    "### Get the data, process it and train the model"
   ]
  },
  {
   "cell_type": "code",
   "execution_count": 5,
   "metadata": {},
   "outputs": [],
   "source": [
    "((trainX, trainY), (testX, testY)) = mnist.load_data()"
   ]
  },
  {
   "cell_type": "code",
   "execution_count": 6,
   "metadata": {},
   "outputs": [],
   "source": [
    "#make the anomaly dataset\n",
    "images = build_unsupervised_dataset(trainX, trainY, validLabel=1,\n",
    "\tanomalyLabel=3, contam=0.01)"
   ]
  },
  {
   "cell_type": "code",
   "execution_count": 7,
   "metadata": {},
   "outputs": [],
   "source": [
    "images = np.expand_dims(images, axis=-1)\n",
    "images = images.astype(\"float32\") / 255.0"
   ]
  },
  {
   "cell_type": "code",
   "execution_count": 8,
   "metadata": {},
   "outputs": [],
   "source": [
    "(trainX, testX) = train_test_split(images, test_size=0.2,\n",
    "\trandom_state=42)"
   ]
  },
  {
   "cell_type": "code",
   "execution_count": 9,
   "metadata": {},
   "outputs": [],
   "source": [
    "(encoder, decoder, autoencoder) = ConvAutoencoder.build(28, 28, 1)"
   ]
  },
  {
   "cell_type": "code",
   "execution_count": 10,
   "metadata": {},
   "outputs": [],
   "source": [
    "#Using decay is beneficial for this task\n",
    "autoencoder.compile(loss=\"mse\", optimizer=Adam(learning_rate=1e-3, decay=1e-3/20))"
   ]
  },
  {
   "cell_type": "code",
   "execution_count": 11,
   "metadata": {},
   "outputs": [
    {
     "name": "stdout",
     "output_type": "stream",
     "text": [
      "Epoch 1/20\n",
      "171/171 [==============================] - 3s 8ms/step - loss: 0.0420 - val_loss: 0.0438\n",
      "Epoch 2/20\n",
      "171/171 [==============================] - 1s 6ms/step - loss: 0.0114 - val_loss: 0.0295\n",
      "Epoch 3/20\n",
      "171/171 [==============================] - 1s 7ms/step - loss: 0.0044 - val_loss: 0.0101\n",
      "Epoch 4/20\n",
      "171/171 [==============================] - 1s 6ms/step - loss: 0.0032 - val_loss: 0.0031\n",
      "Epoch 5/20\n",
      "171/171 [==============================] - 1s 6ms/step - loss: 0.0030 - val_loss: 0.0031\n",
      "Epoch 6/20\n",
      "171/171 [==============================] - 1s 6ms/step - loss: 0.0027 - val_loss: 0.0027\n",
      "Epoch 7/20\n",
      "171/171 [==============================] - 1s 7ms/step - loss: 0.0025 - val_loss: 0.0025\n",
      "Epoch 8/20\n",
      "171/171 [==============================] - 1s 6ms/step - loss: 0.0023 - val_loss: 0.0024\n",
      "Epoch 9/20\n",
      "171/171 [==============================] - 1s 6ms/step - loss: 0.0023 - val_loss: 0.0027\n",
      "Epoch 10/20\n",
      "171/171 [==============================] - 1s 6ms/step - loss: 0.0022 - val_loss: 0.0023\n",
      "Epoch 11/20\n",
      "171/171 [==============================] - 1s 7ms/step - loss: 0.0021 - val_loss: 0.0022\n",
      "Epoch 12/20\n",
      "171/171 [==============================] - 1s 6ms/step - loss: 0.0020 - val_loss: 0.0025\n",
      "Epoch 13/20\n",
      "171/171 [==============================] - 1s 6ms/step - loss: 0.0020 - val_loss: 0.0023\n",
      "Epoch 14/20\n",
      "171/171 [==============================] - 1s 6ms/step - loss: 0.0019 - val_loss: 0.0022\n",
      "Epoch 15/20\n",
      "171/171 [==============================] - 1s 7ms/step - loss: 0.0019 - val_loss: 0.0021\n",
      "Epoch 16/20\n",
      "171/171 [==============================] - 1s 6ms/step - loss: 0.0018 - val_loss: 0.0021\n",
      "Epoch 17/20\n",
      "171/171 [==============================] - 1s 6ms/step - loss: 0.0018 - val_loss: 0.0020\n",
      "Epoch 18/20\n",
      "171/171 [==============================] - 1s 6ms/step - loss: 0.0017 - val_loss: 0.0020\n",
      "Epoch 19/20\n",
      "171/171 [==============================] - 1s 6ms/step - loss: 0.0017 - val_loss: 0.0021\n",
      "Epoch 20/20\n",
      "171/171 [==============================] - 1s 7ms/step - loss: 0.0017 - val_loss: 0.0020\n"
     ]
    }
   ],
   "source": [
    "H = autoencoder.fit( trainX, trainX, validation_data=(testX, testX), epochs=20,\n",
    "\tbatch_size=32)"
   ]
  },
  {
   "cell_type": "code",
   "execution_count": null,
   "metadata": {},
   "outputs": [],
   "source": []
  },
  {
   "cell_type": "markdown",
   "metadata": {},
   "source": [
    "### Predictionnd outputs"
   ]
  },
  {
   "cell_type": "code",
   "execution_count": 12,
   "metadata": {},
   "outputs": [
    {
     "name": "stdout",
     "output_type": "stream",
     "text": [
      "43/43 [==============================] - 0s 3ms/step\n"
     ]
    },
    {
     "data": {
      "text/plain": [
       "True"
      ]
     },
     "execution_count": 12,
     "metadata": {},
     "output_type": "execute_result"
    }
   ],
   "source": [
    "decoded = autoencoder.predict(testX)\n",
    "vis = visualize_predictions(decoded, testX)\n",
    "cv2.imwrite(\"/media/juan/juan1/pyimage_univ/Autoencoders/anomaly_detection/output/recon_vis.png\", vis)"
   ]
  },
  {
   "cell_type": "code",
   "execution_count": 14,
   "metadata": {},
   "outputs": [
    {
     "data": {
      "text/plain": [
       "<matplotlib.legend.Legend at 0x7fa6d73e2ee0>"
      ]
     },
     "execution_count": 14,
     "metadata": {},
     "output_type": "execute_result"
    },
    {
     "data": {
      "image/png": "[encoded data removed]",
      "text/plain": [
       "<Figure size 432x288 with 1 Axes>"
      ]
     },
     "metadata": {
      "needs_background": "light"
     },
     "output_type": "display_data"
    }
   ],
   "source": [
    "N = np.arange(0, 20)\n",
    "plt.plot(N, H.history[\"loss\"], label=\"train_loss\")\n",
    "plt.plot(N, H.history[\"val_loss\"], label=\"val_loss\")\n",
    "plt.title(\"Training Loss\")\n",
    "plt.xlabel(\"Epoch #\")\n",
    "plt.ylabel(\"Loss\")\n",
    "plt.legend(loc=\"lower left\")"
   ]
  },
  {
   "cell_type": "code",
   "execution_count": null,
   "metadata": {},
   "outputs": [],
   "source": [
    "#Save the anomaly dataset\n",
    "f = open(\".../anomalies.pickle\", \"wb\")\n",
    "f.write(pickle.dumps(images))\n",
    "f.close()"
   ]
  },
  {
   "cell_type": "code",
   "execution_count": null,
   "metadata": {},
   "outputs": [],
   "source": [
    "#Save the model\n",
    "autoencoder.save(\"/anomaly_det/\", save_format=\"h5\")"
   ]
  }
 ],
 "metadata": {
  "kernelspec": {
   "display_name": "Python 3.9.12 ('gpu-dl')",
   "language": "python",
   "name": "python3"
  },
  "language_info": {
   "codemirror_mode": {
    "name": "ipython",
    "version": 3
   },
   "file_extension": ".py",
   "mimetype": "text/x-python",
   "name": "python",
   "nbconvert_exporter": "python",
   "pygments_lexer": "ipython3",
   "version": "3.9.12"
  },
  "orig_nbformat": 4,
  "vscode": {
   "interpreter": {
    "hash": "da695c087d6368c9b262a08c2ebf368542a47f83b2881693eefdf5ebab9d0ecb"
   }
  }
 },
 "nbformat": 4,
 "nbformat_minor": 2
}
