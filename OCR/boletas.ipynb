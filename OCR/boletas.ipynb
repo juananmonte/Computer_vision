{
 "cells": [
  {
   "cell_type": "code",
   "execution_count": 3,
   "metadata": {},
   "outputs": [],
   "source": [
    "import pytesseract\n",
    "import cv2\n",
    "import pandas as pd\n",
    "import imutils\n",
    "from imutils import paths\n",
    "import re\n",
    "import numpy as np\n",
    "from datetime import datetime\n",
    "import dateutil.parser as dparser"
   ]
  },
  {
   "attachments": {},
   "cell_type": "markdown",
   "metadata": {},
   "source": [
    "# --- BI"
   ]
  },
  {
   "cell_type": "code",
   "execution_count": 4,
   "metadata": {},
   "outputs": [],
   "source": [
    "path = '/home/juan/Downloads/boletas/BI'"
   ]
  },
  {
   "cell_type": "code",
   "execution_count": 5,
   "metadata": {},
   "outputs": [],
   "source": [
    "all = list(paths.list_images(path))"
   ]
  },
  {
   "cell_type": "code",
   "execution_count": 6,
   "metadata": {},
   "outputs": [],
   "source": [
    "texts = []\n",
    "for image in all:\n",
    "    image = cv2.imread(image)\n",
    "    image = cv2.cvtColor(image, cv2.COLOR_BGR2RGB)\n",
    "    text = pytesseract.image_to_string(image)\n",
    "    text = ' '.join(text.split('\\n'))\n",
    "    text = text.split()\n",
    "    texts.append(text)"
   ]
  },
  {
   "cell_type": "code",
   "execution_count": 7,
   "metadata": {},
   "outputs": [],
   "source": [
    "bi_df = pd.DataFrame()"
   ]
  },
  {
   "cell_type": "code",
   "execution_count": 8,
   "metadata": {},
   "outputs": [],
   "source": [
    "values = []"
   ]
  },
  {
   "cell_type": "code",
   "execution_count": 9,
   "metadata": {},
   "outputs": [],
   "source": [
    "def filterNumber(n):\n",
    "\tif len(n)==3 or len(n)==2 :\n",
    "\t\treturn True\n",
    "\telse:\n",
    "\t\treturn False"
   ]
  },
  {
   "cell_type": "code",
   "execution_count": 10,
   "metadata": {},
   "outputs": [],
   "source": [
    "quitar = ['C', 'CUENTA', 'SAVINGS', 'CHECKING']\n",
    "for element in texts:\n",
    "    #--No. Auto\n",
    "    auto = ' '.join(element[11:15])\n",
    "    auto = re.findall('[0-9]+', auto)\n",
    "    auto = auto[0]\n",
    "    #--Nombre\n",
    "    nombre = ' '.join(element[14:20])\n",
    "    nombre = re.findall('[A-Z]+', nombre)\n",
    "    nombre  = [word for word in nombre if word not in quitar]\n",
    "    nombre = ' '.join(nombre)\n",
    "    #--Fecha\n",
    "    fecha  = ' '.join(element[5:9])\n",
    "    fecha = re.findall('[0-9]+', fecha)\n",
    "    fecha = '-'.join(fecha)\n",
    "    #monto\n",
    "    monto = ' '.join(element[31:39])\n",
    "    monto = re.findall('[0-9]+', monto)\n",
    "    monto = list(filter(filterNumber, monto))\n",
    "    monto = '.'.join(monto)\n",
    "\n",
    "    values.append([auto, nombre,fecha, monto])"
   ]
  },
  {
   "cell_type": "code",
   "execution_count": 11,
   "metadata": {},
   "outputs": [
    {
     "name": "stdout",
     "output_type": "stream",
     "text": [
      "   # Autorizacion                            Nombre              Monto   Fecha\n",
      "0         2273612    OSORIO LEAL ALEJANDRA MICHELLE  02-01-23-07-50-03  255.00\n",
      "1         4202570      RODRIGUEZ ESTEBAN MARIA JOSE  04-01-23-01-13-24  230.00\n",
      "2         2210934   HERNANDEZ CORONA CARLOS ROBERTO  02-01-23-03-50-25  230.00\n",
      "3         8160959   GONZALEZ ARAUJO FERNANDO JAVIER  08-01-23-01-26-30  250.00\n",
      "4         8205388              CALVO QUEZADA ANDRES  08-01-23-02-24-26  250.00\n",
      "5         6173589  HURTARTE RODRIGUEZ SARA ALICIA O  06-01-23-08-39-50  250.00\n",
      "6         6199220         AGUILAR BATRES MARIA JOSE  06-01-23-01-17-03  230.00\n",
      "7         3206043        ALVAREZ FRANCO ANA LETICIA  03-01-23-02-07-44  230.00\n",
      "8         7294936  CORDON CASTANEDA MARIANA DESIREE  07-01-23-09-07-54  250.00\n",
      "9         8212982               CANEL WENDY EMILENY  08-01-23-01-10-23  250.00\n",
      "10        2260864   MONTENEGRO GALLARDO CLONI MARIA  02-01-23-04-21-08  230.00\n",
      "11        2199521      ANTON OCAMPO MARIA ALEJANDRA  02-01-23-03-58-12  230.00\n",
      "12        5209752      TEJEDA GRAJEDA MARIA NATALIA  05-01-23-11-48-06  220.00\n",
      "13        4256090             STOLZ LARRIEU JUERGEN  04-01-23-09-43-26  255.00\n",
      "14        4298335            GIRON CORDON SOL MARIA  04-01-23-10-32-42  245.00\n",
      "15        5200467     NAVAS GONZALEZ CARLOS VICENTE  05-01-23-05-09-55  250.00\n"
     ]
    }
   ],
   "source": [
    "for val in values:\n",
    "    temp_df = pd.DataFrame([val], columns=['# Autorizacion', 'Nombre', 'Fecha', 'Monto'])\n",
    "    bi_df = bi_df.append(temp_df, ignore_index=True)\n",
    "print(bi_df)"
   ]
  },
  {
   "cell_type": "code",
   "execution_count": 13,
   "metadata": {},
   "outputs": [],
   "source": [
    "#agregar mes al archivo \n",
    "bi_df.to_csv('/media/juan/juan1/pyimage_univ/OCR/ritix/bi.csv')"
   ]
  },
  {
   "attachments": {},
   "cell_type": "markdown",
   "metadata": {},
   "source": [
    "# --Bac"
   ]
  },
  {
   "cell_type": "code",
   "execution_count": 38,
   "metadata": {},
   "outputs": [],
   "source": [
    "path = '/home/juan/Downloads/boletas/4A859223-DD2A-46B7-A418-885308D59AC9 - María Ximena Sandoval.jpeg'"
   ]
  },
  {
   "cell_type": "code",
   "execution_count": 39,
   "metadata": {},
   "outputs": [],
   "source": [
    "texts = []\n",
    "image = cv2.imread(path)\n",
    "image = cv2.cvtColor(image, cv2.COLOR_BGR2RGB)\n",
    "text = pytesseract.image_to_string(image)\n",
    "text = ' '.join(text.split('\\n'))\n",
    "text = text.split()\n",
    "texts.append(text)\n",
    "texts = texts[0]"
   ]
  },
  {
   "cell_type": "code",
   "execution_count": 40,
   "metadata": {},
   "outputs": [],
   "source": [
    "#--No. Auto\n",
    "auto = texts[-1]\n",
    "#--Nombre\n",
    "nombre = ' '.join(texts[11:16])\n",
    "nombre = re.findall('[A-Z]+', nombre)\n",
    "nombre  = [word for word in nombre if word not in quitar]\n",
    "nombre = ' '.join(nombre)\n",
    "#--Fecha\n",
    "fecha  = '-'.join(texts[30:33])\n",
    "#monto\n",
    "monto = texts[34]\n",
    "\n",
    "values = [auto, nombre,fecha, monto]"
   ]
  },
  {
   "cell_type": "code",
   "execution_count": 41,
   "metadata": {},
   "outputs": [
    {
     "data": {
      "text/plain": [
       "['900410927', 'MARIA XIMENA SANDOVAL HUERTAS', '02-enero-2023', 'Q230.00']"
      ]
     },
     "execution_count": 41,
     "metadata": {},
     "output_type": "execute_result"
    }
   ],
   "source": [
    "values"
   ]
  },
  {
   "cell_type": "code",
   "execution_count": 44,
   "metadata": {},
   "outputs": [],
   "source": [
    "bac_df = pd.DataFrame()"
   ]
  },
  {
   "cell_type": "code",
   "execution_count": 45,
   "metadata": {},
   "outputs": [
    {
     "data": {
      "text/html": [
       "<div>\n",
       "<style scoped>\n",
       "    .dataframe tbody tr th:only-of-type {\n",
       "        vertical-align: middle;\n",
       "    }\n",
       "\n",
       "    .dataframe tbody tr th {\n",
       "        vertical-align: top;\n",
       "    }\n",
       "\n",
       "    .dataframe thead th {\n",
       "        text-align: right;\n",
       "    }\n",
       "</style>\n",
       "<table border=\"1\" class=\"dataframe\">\n",
       "  <thead>\n",
       "    <tr style=\"text-align: right;\">\n",
       "      <th></th>\n",
       "      <th># Autorizacion</th>\n",
       "      <th>Nombre</th>\n",
       "      <th>Fecha</th>\n",
       "      <th>Monto</th>\n",
       "    </tr>\n",
       "  </thead>\n",
       "  <tbody>\n",
       "    <tr>\n",
       "      <th>0</th>\n",
       "      <td>900410927</td>\n",
       "      <td>MARIA XIMENA SANDOVAL HUERTAS</td>\n",
       "      <td>02-enero-2023</td>\n",
       "      <td>Q230.00</td>\n",
       "    </tr>\n",
       "  </tbody>\n",
       "</table>\n",
       "</div>"
      ],
      "text/plain": [
       "  # Autorizacion                         Nombre          Fecha    Monto\n",
       "0      900410927  MARIA XIMENA SANDOVAL HUERTAS  02-enero-2023  Q230.00"
      ]
     },
     "execution_count": 45,
     "metadata": {},
     "output_type": "execute_result"
    }
   ],
   "source": [
    "temp_df = pd.DataFrame([values], columns=['# Autorizacion', 'Nombre', 'Fecha', 'Monto'])\n",
    "bac_df = bac_df.append(temp_df, ignore_index=True)\n",
    "bac_df"
   ]
  },
  {
   "attachments": {},
   "cell_type": "markdown",
   "metadata": {},
   "source": [
    "# --Banrural"
   ]
  },
  {
   "cell_type": "code",
   "execution_count": 52,
   "metadata": {},
   "outputs": [],
   "source": [
    "path = '/home/juan/Downloads/boletas/8BD08CE6-C0D6-49B9-ABE0-2635D499E7F6 - Laura Batres.jpeg'"
   ]
  },
  {
   "cell_type": "code",
   "execution_count": 53,
   "metadata": {},
   "outputs": [],
   "source": [
    "texts = []\n",
    "image = cv2.imread(path)\n",
    "image = cv2.cvtColor(image, cv2.COLOR_BGR2RGB)\n",
    "text = pytesseract.image_to_string(image)\n",
    "text = ' '.join(text.split('\\n'))\n",
    "text = text.split()\n",
    "texts.append(text)\n",
    "texts = texts[0]"
   ]
  },
  {
   "cell_type": "code",
   "execution_count": 55,
   "metadata": {},
   "outputs": [],
   "source": [
    "#--No. Auto\n",
    "auto = texts[48]\n",
    "#--Nombre\n",
    "nombre = ' '.join(texts[32:36])\n",
    "nombre = re.findall('[A-Z]+', nombre)\n",
    "nombre  = [word for word in nombre if word not in quitar]\n",
    "nombre = ' '.join(nombre)\n",
    "#--Fecha\n",
    "fecha  = ''.join(texts[55:60])\n",
    "#monto\n",
    "monto = texts[47]\n",
    "\n",
    "values = [auto, nombre,fecha, monto]"
   ]
  },
  {
   "cell_type": "code",
   "execution_count": 56,
   "metadata": {},
   "outputs": [
    {
     "data": {
      "text/plain": [
       "['486587004', 'LAURA PAOLA BATRES JIMENEZ', '02/01/202318:52:36', '250.00']"
      ]
     },
     "execution_count": 56,
     "metadata": {},
     "output_type": "execute_result"
    }
   ],
   "source": [
    "values"
   ]
  },
  {
   "attachments": {},
   "cell_type": "markdown",
   "metadata": {},
   "source": [
    "# --InterBanco"
   ]
  },
  {
   "cell_type": "code",
   "execution_count": 70,
   "metadata": {},
   "outputs": [],
   "source": [
    "path = '/home/juan/Downloads/boletas/26DB4667-6DB1-4D56-99DC-B620282DC3A1 - Mery Ann Alegria Fuentes.png'"
   ]
  },
  {
   "cell_type": "code",
   "execution_count": 71,
   "metadata": {},
   "outputs": [],
   "source": [
    "texts = []\n",
    "image = cv2.imread(path)\n",
    "image = cv2.cvtColor(image, cv2.COLOR_BGR2RGB)\n",
    "text = pytesseract.image_to_string(image)\n",
    "text = ' '.join(text.split('\\n'))\n",
    "text = text.split()\n",
    "texts.append(text)\n",
    "texts = texts[0]"
   ]
  },
  {
   "cell_type": "code",
   "execution_count": 73,
   "metadata": {},
   "outputs": [],
   "source": [
    "#--No. Auto\n",
    "auto = texts[5]\n",
    "#--Nombre\n",
    "nombre = 'Mary Ann Alegria Fuentes'\n",
    "#--Fecha\n",
    "fecha  = ' '.join(texts[7:9])\n",
    "#monto\n",
    "monto = texts[18]\n",
    "\n",
    "values = [auto, nombre,fecha, monto]"
   ]
  },
  {
   "cell_type": "code",
   "execution_count": 74,
   "metadata": {},
   "outputs": [
    {
     "data": {
      "text/plain": [
       "['6847804', 'Mary Ann Alegria Fuentes', '02/01/23 16:33', '250.00']"
      ]
     },
     "execution_count": 74,
     "metadata": {},
     "output_type": "execute_result"
    }
   ],
   "source": [
    "values"
   ]
  },
  {
   "attachments": {},
   "cell_type": "markdown",
   "metadata": {},
   "source": [
    "# --GyT"
   ]
  },
  {
   "cell_type": "code",
   "execution_count": 85,
   "metadata": {},
   "outputs": [],
   "source": [
    "path = '/home/juan/Downloads/boletas/672E35B7-A3A7-4A5D-B452-9F6F551DEEF7 - Jacklyn Ortega.jpeg'"
   ]
  },
  {
   "cell_type": "code",
   "execution_count": 86,
   "metadata": {},
   "outputs": [],
   "source": [
    "texts = []\n",
    "image = cv2.imread(path)\n",
    "image = cv2.cvtColor(image, cv2.COLOR_BGR2RGB)\n",
    "text = pytesseract.image_to_string(image)\n",
    "text = ' '.join(text.split('\\n'))\n",
    "text = text.split()\n",
    "texts.append(text)\n",
    "texts = texts[0]"
   ]
  },
  {
   "cell_type": "code",
   "execution_count": 87,
   "metadata": {},
   "outputs": [
    {
     "data": {
      "text/plain": [
       "['0/01/2023',\n",
       " '16:16',\n",
       " 'Transferencia',\n",
       " 'realizada',\n",
       " 'No.',\n",
       " 'de',\n",
       " 'autorizacién',\n",
       " '0016160874',\n",
       " 'Nombre',\n",
       " 'de',\n",
       " 'cuenta',\n",
       " 'de',\n",
       " 'JACKLYN',\n",
       " 'NOEMI',\n",
       " 'debit:',\n",
       " 'ORTEGA',\n",
       " 'OLIVA',\n",
       " 'No.',\n",
       " 'de',\n",
       " 'cuenta',\n",
       " 'de',\n",
       " 'débito:',\n",
       " '029-0019148-6',\n",
       " 'Nombre',\n",
       " 'de',\n",
       " 'cuenta',\n",
       " 'de',\n",
       " 'RITA',\n",
       " 'MONTENEGRO',\n",
       " '-',\n",
       " 'crédito:',\n",
       " 'CLUB',\n",
       " 'DE',\n",
       " 'LECTORES',\n",
       " 'No.',\n",
       " 'de',\n",
       " 'cuenta',\n",
       " 'de',\n",
       " 'crédito:',\n",
       " '1850049410',\n",
       " 'Moneda:',\n",
       " '(QUETZALES',\n",
       " 'Monto:',\n",
       " '230.00',\n",
       " 'Recuerda',\n",
       " 'descargar',\n",
       " 'y',\n",
       " 'quardar',\n",
       " 'tus',\n",
       " 'comprobantes']"
      ]
     },
     "execution_count": 87,
     "metadata": {},
     "output_type": "execute_result"
    }
   ],
   "source": [
    "texts"
   ]
  },
  {
   "cell_type": "code",
   "execution_count": 88,
   "metadata": {},
   "outputs": [],
   "source": [
    "#--No. Auto\n",
    "auto = texts[7]\n",
    "#--Nombre\n",
    "nombre = ' '.join(texts[12:17])\n",
    "nombre = re.findall('[A-Z]+', nombre)\n",
    "nombre  = [word for word in nombre if word not in quitar]\n",
    "nombre = ' '.join(nombre)\n",
    "#--Fecha\n",
    "fecha  = ' '.join(texts[0:2])\n",
    "#monto\n",
    "monto = texts[43]\n",
    "\n",
    "values = [auto, nombre,fecha, monto]"
   ]
  },
  {
   "cell_type": "code",
   "execution_count": 89,
   "metadata": {},
   "outputs": [
    {
     "data": {
      "text/plain": [
       "['0016160874', 'JACKLYN NOEMI ORTEGA OLIVA', '0/01/2023 16:16', '230.00']"
      ]
     },
     "execution_count": 89,
     "metadata": {},
     "output_type": "execute_result"
    }
   ],
   "source": [
    "values"
   ]
  },
  {
   "cell_type": "code",
   "execution_count": null,
   "metadata": {},
   "outputs": [],
   "source": []
  },
  {
   "cell_type": "code",
   "execution_count": null,
   "metadata": {},
   "outputs": [],
   "source": []
  },
  {
   "cell_type": "code",
   "execution_count": null,
   "metadata": {},
   "outputs": [],
   "source": []
  }
 ],
 "metadata": {
  "kernelspec": {
   "display_name": "gpu-dl",
   "language": "python",
   "name": "python3"
  },
  "language_info": {
   "codemirror_mode": {
    "name": "ipython",
    "version": 3
   },
   "file_extension": ".py",
   "mimetype": "text/x-python",
   "name": "python",
   "nbconvert_exporter": "python",
   "pygments_lexer": "ipython3",
   "version": "3.9.12"
  },
  "orig_nbformat": 4,
  "vscode": {
   "interpreter": {
    "hash": "da695c087d6368c9b262a08c2ebf368542a47f83b2881693eefdf5ebab9d0ecb"
   }
  }
 },
 "nbformat": 4,
 "nbformat_minor": 2
}
